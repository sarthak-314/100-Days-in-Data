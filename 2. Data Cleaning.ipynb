{
  "nbformat": 4,
  "nbformat_minor": 0,
  "metadata": {
    "colab": {
      "name": "2. Data Cleaning.ipynb",
      "provenance": [],
      "toc_visible": true,
      "mount_file_id": "1hzBnc3sjU6TinCHnNPWFj6FeueXh61Y5",
      "authorship_tag": "ABX9TyOP4jVvjN3MwAxZCn6vkd8P",
      "include_colab_link": true
    },
    "kernelspec": {
      "name": "python3",
      "display_name": "Python 3"
    }
  },
  "cells": [
    {
      "cell_type": "markdown",
      "metadata": {
        "id": "view-in-github",
        "colab_type": "text"
      },
      "source": [
        "<a href=\"https://colab.research.google.com/github/sarthak-314/100-Days-in-Data/blob/master/2.%20Data%20Cleaning.ipynb\" target=\"_parent\"><img src=\"https://colab.research.google.com/assets/colab-badge.svg\" alt=\"Open In Colab\"/></a>"
      ]
    },
    {
      "cell_type": "markdown",
      "metadata": {
        "id": "PvYHNLsqshOE",
        "colab_type": "text"
      },
      "source": [
        "# **DATA CLEANING**\n",
        "***"
      ]
    },
    {
      "cell_type": "markdown",
      "metadata": {
        "id": "Y5adkbagUAJx",
        "colab_type": "text"
      },
      "source": [
        "## Cleaning **Time Sheets**\n"
      ]
    },
    {
      "cell_type": "code",
      "metadata": {
        "id": "_2fRx6oEcy4Y",
        "colab_type": "code",
        "colab": {
          "base_uri": "https://localhost:8080/",
          "height": 34
        },
        "outputId": "9bc21700-119b-46b7-ca0e-7a8141ffd1b2"
      },
      "source": [
        "#Config\n",
        "import os \n",
        "import pandas as pd\n",
        "TIME_SHEETS_PATH = './100D Data/TimeSheets'\n",
        "\n",
        "%cd /content/drive/My\\ Drive"
      ],
      "execution_count": null,
      "outputs": [
        {
          "output_type": "stream",
          "text": [
            "/content/drive/My Drive\n"
          ],
          "name": "stdout"
        }
      ]
    },
    {
      "cell_type": "markdown",
      "metadata": {
        "id": "adB52puOUHLc",
        "colab_type": "text"
      },
      "source": [
        "Loading the files along with their dates in csv file"
      ]
    },
    {
      "cell_type": "code",
      "metadata": {
        "id": "-8hxLC7YUoQd",
        "colab_type": "code",
        "colab": {
          "base_uri": "https://localhost:8080/",
          "height": 102
        },
        "outputId": "22b6d048-9354-4e1d-a915-68701a1045e4"
      },
      "source": [
        "os.listdir(TIME_SHEETS_PATH)[:5]"
      ],
      "execution_count": null,
      "outputs": [
        {
          "output_type": "execute_result",
          "data": {
            "text/plain": [
              "['24th August.csv',\n",
              " '26th August.csv',\n",
              " '25th August.csv',\n",
              " '27th August.csv',\n",
              " '28th August (HD).csv']"
            ]
          },
          "metadata": {
            "tags": []
          },
          "execution_count": 43
        }
      ]
    },
    {
      "cell_type": "markdown",
      "metadata": {
        "id": "YzUb6Yo-U23l",
        "colab_type": "text"
      },
      "source": [
        "The dates are not sorted. I need a way to tell the dataframe that 28th August comes before 01st September.\n",
        "\n",
        "So I will sort the dates according to day of year.\n",
        "\n",
        "Ex. 1st Jan is 1st day of year and 31st December is 365th day of the year (2020) "
      ]
    },
    {
      "cell_type": "code",
      "metadata": {
        "id": "Ige380cjU_AD",
        "colab_type": "code",
        "colab": {}
      },
      "source": [
        "MONTH_NUMBER = {'August' : 8, 'September' : 9, 'Octuber' : 10}\n",
        "DAYS_IN_PREV_MONTH = {'August' : 31, 'September' : 31, 'Octuber' : 30}\n",
        "def get_day_of_year(file_name):\n",
        "    file_name = file_name.split('.')[0]\n",
        "    if 'HD' in file_name: \n",
        "        file_name = file_name[:-5]\n",
        "    date, month = file_name.split(' ')\n",
        "    if date[:2].isdigit(): \n",
        "        date = int(date[:2])\n",
        "    else: \n",
        "        date = int(date[0])\n",
        "    month_number = MONTH_NUMBER[month]\n",
        "    days_in_prev_month = DAYS_IN_PREV_MONTH[month]\n",
        "    return date + (month_number-1) * days_in_prev_month"
      ],
      "execution_count": null,
      "outputs": []
    },
    {
      "cell_type": "code",
      "metadata": {
        "id": "zrpiWu85VG4p",
        "colab_type": "code",
        "colab": {
          "base_uri": "https://localhost:8080/",
          "height": 306
        },
        "outputId": "efcb3baa-0bde-454c-c7ad-b28771006be3"
      },
      "source": [
        "time_sheet_csv_files = os.listdir(TIME_SHEETS_PATH)\n",
        "#Sorting the Time Sheets accroding to day of the year\n",
        "time_sheet_csv_files.sort(key = lambda x : get_day_of_year(x))\n",
        "time_sheet_csv_files"
      ],
      "execution_count": null,
      "outputs": [
        {
          "output_type": "execute_result",
          "data": {
            "text/plain": [
              "['23rd August.csv',\n",
              " '24th August.csv',\n",
              " '25th August.csv',\n",
              " '26th August.csv',\n",
              " '27th August.csv',\n",
              " '28th August (HD).csv',\n",
              " '29th August.csv',\n",
              " '30th August (HD).csv',\n",
              " '31st August.csv',\n",
              " '1st September.csv',\n",
              " '2nd September.csv',\n",
              " '3rd September.csv',\n",
              " '5th September.csv',\n",
              " '6th September.csv',\n",
              " '7th September.csv',\n",
              " '8th September.csv',\n",
              " '9th September.csv']"
            ]
          },
          "metadata": {
            "tags": []
          },
          "execution_count": 45
        }
      ]
    },
    {
      "cell_type": "code",
      "metadata": {
        "id": "SokRPy6FbnwO",
        "colab_type": "code",
        "colab": {}
      },
      "source": [
        "#Get all the dataframes\n",
        "df_list = [pd.read_csv(os.path.join(TIME_SHEETS_PATH, x)) for x in time_sheet_csv_files]\n",
        "date_list = []\n",
        "half_days = []\n",
        "for x in time_sheet_csv_files: \n",
        "    x = x.split('.')[0]\n",
        "    if 'HD' in x: \n",
        "        x = x[:-5]\n",
        "        half_days.append(x)\n",
        "    date_list.append(x)"
      ],
      "execution_count": null,
      "outputs": []
    },
    {
      "cell_type": "markdown",
      "metadata": {
        "id": "G7Scq5wI4gFt",
        "colab_type": "text"
      },
      "source": [
        "For each date, I also get the day_number of the 100 day experiment. \n",
        "\n",
        "I will store this date to day_number mapping in a DataFrame because I'll need it in next notebook\n"
      ]
    },
    {
      "cell_type": "code",
      "metadata": {
        "id": "ew39elrc4i14",
        "colab_type": "code",
        "colab": {
          "base_uri": "https://localhost:8080/",
          "height": 235
        },
        "outputId": "ce1aa2d2-f6d4-4643-d3e4-e50f92be74b0"
      },
      "source": [
        "df_date = pd.DataFrame()\n",
        "df_date['day_number'] = ''\n",
        "df_date['is_halfday'] = ''\n",
        "for date in date_list: \n",
        "    day_number = get_day_of_year(date) - get_day_of_year('24th August') + 1\n",
        "    df_date.at[date, 'day_number'] = day_number\n",
        "\n",
        "for date in half_days: \n",
        "    df_date.at[date, 'is_halfday'] = True\n",
        "\n",
        "df_date.is_halfday.fillna(False, inplace=True)\n",
        "df_date.to_csv('./100D Data/Cleaned Dataframes/df_date')\n",
        "df_date.head(6)"
      ],
      "execution_count": null,
      "outputs": [
        {
          "output_type": "execute_result",
          "data": {
            "text/html": [
              "<div>\n",
              "<style scoped>\n",
              "    .dataframe tbody tr th:only-of-type {\n",
              "        vertical-align: middle;\n",
              "    }\n",
              "\n",
              "    .dataframe tbody tr th {\n",
              "        vertical-align: top;\n",
              "    }\n",
              "\n",
              "    .dataframe thead th {\n",
              "        text-align: right;\n",
              "    }\n",
              "</style>\n",
              "<table border=\"1\" class=\"dataframe\">\n",
              "  <thead>\n",
              "    <tr style=\"text-align: right;\">\n",
              "      <th></th>\n",
              "      <th>day_number</th>\n",
              "      <th>is_halfday</th>\n",
              "    </tr>\n",
              "  </thead>\n",
              "  <tbody>\n",
              "    <tr>\n",
              "      <th>23rd August</th>\n",
              "      <td>0</td>\n",
              "      <td>False</td>\n",
              "    </tr>\n",
              "    <tr>\n",
              "      <th>24th August</th>\n",
              "      <td>1</td>\n",
              "      <td>False</td>\n",
              "    </tr>\n",
              "    <tr>\n",
              "      <th>25th August</th>\n",
              "      <td>2</td>\n",
              "      <td>False</td>\n",
              "    </tr>\n",
              "    <tr>\n",
              "      <th>26th August</th>\n",
              "      <td>3</td>\n",
              "      <td>False</td>\n",
              "    </tr>\n",
              "    <tr>\n",
              "      <th>27th August</th>\n",
              "      <td>4</td>\n",
              "      <td>False</td>\n",
              "    </tr>\n",
              "    <tr>\n",
              "      <th>28th August</th>\n",
              "      <td>5</td>\n",
              "      <td>True</td>\n",
              "    </tr>\n",
              "  </tbody>\n",
              "</table>\n",
              "</div>"
            ],
            "text/plain": [
              "            day_number  is_halfday\n",
              "23rd August          0       False\n",
              "24th August          1       False\n",
              "25th August          2       False\n",
              "26th August          3       False\n",
              "27th August          4       False\n",
              "28th August          5        True"
            ]
          },
          "metadata": {
            "tags": []
          },
          "execution_count": 47
        }
      ]
    },
    {
      "cell_type": "markdown",
      "metadata": {
        "id": "i8ldvK0XsafD",
        "colab_type": "text"
      },
      "source": [
        "Sometimes instead of working a full day or taking an entire day off, I work only half of the day and take the rest of the day off. I call this as \"Half Day\". **df_date** maps each date to it's day_number (day number of the 100 Day experiment) and is_halfday\n"
      ]
    },
    {
      "cell_type": "markdown",
      "metadata": {
        "id": "mVgeviIVi6dB",
        "colab_type": "text"
      },
      "source": [
        "For each day, I have a seprate dataframe. I will now stack all the dataframes together to make use of fast pandas vectorized operations\n",
        "\n",
        "**df** is all the dataframes stacked vertically. This is the *mega dataframe* that contains all the info from all the WorkSheets"
      ]
    },
    {
      "cell_type": "code",
      "metadata": {
        "id": "gnP5p41Oi6Cp",
        "colab_type": "code",
        "colab": {
          "base_uri": "https://localhost:8080/",
          "height": 204
        },
        "outputId": "3e33794b-9482-4c96-a0c5-5119a5612e27"
      },
      "source": [
        "for df, date in zip(df_list, date_list):\n",
        "    df['date'] = date\n",
        "\n",
        "df = pd.concat(df_list, axis=0)\n",
        "df.head()"
      ],
      "execution_count": null,
      "outputs": [
        {
          "output_type": "execute_result",
          "data": {
            "text/html": [
              "<div>\n",
              "<style scoped>\n",
              "    .dataframe tbody tr th:only-of-type {\n",
              "        vertical-align: middle;\n",
              "    }\n",
              "\n",
              "    .dataframe tbody tr th {\n",
              "        vertical-align: top;\n",
              "    }\n",
              "\n",
              "    .dataframe thead th {\n",
              "        text-align: right;\n",
              "    }\n",
              "</style>\n",
              "<table border=\"1\" class=\"dataframe\">\n",
              "  <thead>\n",
              "    <tr style=\"text-align: right;\">\n",
              "      <th></th>\n",
              "      <th>time_span</th>\n",
              "      <th>category</th>\n",
              "      <th>task</th>\n",
              "      <th>productivity</th>\n",
              "      <th>date</th>\n",
              "    </tr>\n",
              "  </thead>\n",
              "  <tbody>\n",
              "    <tr>\n",
              "      <th>0</th>\n",
              "      <td>5:15 AM - 6:15 AM</td>\n",
              "      <td>Code</td>\n",
              "      <td>AWS : DO @ I (Learn)</td>\n",
              "      <td>8.5</td>\n",
              "      <td>23rd August</td>\n",
              "    </tr>\n",
              "    <tr>\n",
              "      <th>1</th>\n",
              "      <td>32 min</td>\n",
              "      <td>Cycling</td>\n",
              "      <td>9.21 km (121 bpm)</td>\n",
              "      <td>-</td>\n",
              "      <td>23rd August</td>\n",
              "    </tr>\n",
              "    <tr>\n",
              "      <th>2</th>\n",
              "      <td>49 min</td>\n",
              "      <td>Walking</td>\n",
              "      <td>4.31 km (109 bpm)</td>\n",
              "      <td>-</td>\n",
              "      <td>23rd August</td>\n",
              "    </tr>\n",
              "    <tr>\n",
              "      <th>3</th>\n",
              "      <td>8:00 AM - 10:15 AM</td>\n",
              "      <td>Code</td>\n",
              "      <td>100D : DS @ L</td>\n",
              "      <td>7.5</td>\n",
              "      <td>23rd August</td>\n",
              "    </tr>\n",
              "    <tr>\n",
              "      <th>4</th>\n",
              "      <td>10:30 AM</td>\n",
              "      <td>Breakfast</td>\n",
              "      <td>Breakfast</td>\n",
              "      <td>-</td>\n",
              "      <td>23rd August</td>\n",
              "    </tr>\n",
              "  </tbody>\n",
              "</table>\n",
              "</div>"
            ],
            "text/plain": [
              "            time_span   category  ... productivity         date\n",
              "0   5:15 AM - 6:15 AM       Code  ...          8.5  23rd August\n",
              "1              32 min    Cycling  ...            -  23rd August\n",
              "2              49 min    Walking  ...            -  23rd August\n",
              "3  8:00 AM - 10:15 AM       Code  ...          7.5  23rd August\n",
              "4            10:30 AM  Breakfast  ...            -  23rd August\n",
              "\n",
              "[5 rows x 5 columns]"
            ]
          },
          "metadata": {
            "tags": []
          },
          "execution_count": 48
        }
      ]
    },
    {
      "cell_type": "markdown",
      "metadata": {
        "id": "tky0wjE4t2P0",
        "colab_type": "text"
      },
      "source": [
        "df now has 4 columns - time_span, category, task, efficiency and date"
      ]
    },
    {
      "cell_type": "markdown",
      "metadata": {
        "id": "Ct8Q8BKzrKJ2",
        "colab_type": "text"
      },
      "source": [
        "#### Cleaning **Category**\n",
        "Each entry has an associated category in the dataframe.\n",
        "\n",
        "The category tells me wheather I'm coding, exercising, reading etc.\n",
        "\n",
        "Code for cleaning the category column by making everything consistant -\n",
        "\n"
      ]
    },
    {
      "cell_type": "code",
      "metadata": {
        "id": "p1UvKCEBbnnw",
        "colab_type": "code",
        "colab": {}
      },
      "source": [
        "EXERCISES = ['cycling', 'workout', 'walking', 'exercise']\n",
        "def get_category(entry):\n",
        "    entry = str(entry).strip()\n",
        "    if 'CT' in entry or 'code' in entry.lower(): \n",
        "        return 'Code'\n",
        "    if 'BF' in entry.upper() or 'breakfast' in entry.lower(): \n",
        "        return 'Breakfast'\n",
        "    if 'lunch' in entry.lower(): \n",
        "        return 'Lunch'\n",
        "    for exercise in EXERCISES: \n",
        "        if exercise in entry.lower():\n",
        "            return exercise.title()\n",
        "    if 'ML' in entry.upper() or 'meta' in entry.lower(): \n",
        "        return 'Metalearning'\n",
        "    if 'RT' in entry.upper() or 'read' in entry.lower(): \n",
        "        return 'Reading'"
      ],
      "execution_count": null,
      "outputs": []
    },
    {
      "cell_type": "code",
      "metadata": {
        "id": "FXSnrgvr8RPR",
        "colab_type": "code",
        "colab": {
          "base_uri": "https://localhost:8080/",
          "height": 204
        },
        "outputId": "108dbeaa-08b7-4f6e-8383-70fad2bfb01c"
      },
      "source": [
        "df.category = df.category.apply(get_category)\n",
        "df.head()"
      ],
      "execution_count": null,
      "outputs": [
        {
          "output_type": "execute_result",
          "data": {
            "text/html": [
              "<div>\n",
              "<style scoped>\n",
              "    .dataframe tbody tr th:only-of-type {\n",
              "        vertical-align: middle;\n",
              "    }\n",
              "\n",
              "    .dataframe tbody tr th {\n",
              "        vertical-align: top;\n",
              "    }\n",
              "\n",
              "    .dataframe thead th {\n",
              "        text-align: right;\n",
              "    }\n",
              "</style>\n",
              "<table border=\"1\" class=\"dataframe\">\n",
              "  <thead>\n",
              "    <tr style=\"text-align: right;\">\n",
              "      <th></th>\n",
              "      <th>time_span</th>\n",
              "      <th>category</th>\n",
              "      <th>task</th>\n",
              "      <th>productivity</th>\n",
              "      <th>date</th>\n",
              "    </tr>\n",
              "  </thead>\n",
              "  <tbody>\n",
              "    <tr>\n",
              "      <th>0</th>\n",
              "      <td>5:15 AM - 6:15 AM</td>\n",
              "      <td>Code</td>\n",
              "      <td>AWS : DO @ I (Learn)</td>\n",
              "      <td>8.5</td>\n",
              "      <td>23rd August</td>\n",
              "    </tr>\n",
              "    <tr>\n",
              "      <th>1</th>\n",
              "      <td>32 min</td>\n",
              "      <td>Cycling</td>\n",
              "      <td>9.21 km (121 bpm)</td>\n",
              "      <td>-</td>\n",
              "      <td>23rd August</td>\n",
              "    </tr>\n",
              "    <tr>\n",
              "      <th>2</th>\n",
              "      <td>49 min</td>\n",
              "      <td>Walking</td>\n",
              "      <td>4.31 km (109 bpm)</td>\n",
              "      <td>-</td>\n",
              "      <td>23rd August</td>\n",
              "    </tr>\n",
              "    <tr>\n",
              "      <th>3</th>\n",
              "      <td>8:00 AM - 10:15 AM</td>\n",
              "      <td>Code</td>\n",
              "      <td>100D : DS @ L</td>\n",
              "      <td>7.5</td>\n",
              "      <td>23rd August</td>\n",
              "    </tr>\n",
              "    <tr>\n",
              "      <th>4</th>\n",
              "      <td>10:30 AM</td>\n",
              "      <td>Breakfast</td>\n",
              "      <td>Breakfast</td>\n",
              "      <td>-</td>\n",
              "      <td>23rd August</td>\n",
              "    </tr>\n",
              "  </tbody>\n",
              "</table>\n",
              "</div>"
            ],
            "text/plain": [
              "            time_span   category  ... productivity         date\n",
              "0   5:15 AM - 6:15 AM       Code  ...          8.5  23rd August\n",
              "1              32 min    Cycling  ...            -  23rd August\n",
              "2              49 min    Walking  ...            -  23rd August\n",
              "3  8:00 AM - 10:15 AM       Code  ...          7.5  23rd August\n",
              "4            10:30 AM  Breakfast  ...            -  23rd August\n",
              "\n",
              "[5 rows x 5 columns]"
            ]
          },
          "metadata": {
            "tags": []
          },
          "execution_count": 50
        }
      ]
    },
    {
      "cell_type": "markdown",
      "metadata": {
        "id": "AmI1iHtdumaj",
        "colab_type": "text"
      },
      "source": [
        "### Seprating **df** into *df_code*, *df_exercise* and *df_extra* \n",
        "\n",
        "Because coding and exercising are very diffErent categories, I will give them both their own dataframe. (*df_code* and *df_exercise*)\n",
        "\n",
        "Activities such as reading, eating that are neither coding nor exercising will go into a 3rd dataframe - *df_extra*"
      ]
    },
    {
      "cell_type": "markdown",
      "metadata": {
        "id": "9KcheAemiYuU",
        "colab_type": "text"
      },
      "source": [
        "### **df_code**\n",
        "All the time I spent coding goes in here\n",
        "\n",
        "If you look at **df** above, it has a column for category. I seprate out all the entries that has the category 'Code' into *df_code*\n",
        "\n",
        "*df_code* now contains all the code related stuff\n"
      ]
    },
    {
      "cell_type": "code",
      "metadata": {
        "id": "-hksZempishQ",
        "colab_type": "code",
        "colab": {
          "base_uri": "https://localhost:8080/",
          "height": 419
        },
        "outputId": "6606fe8d-3114-43ca-9c58-ff276be398fb"
      },
      "source": [
        "df_code = df[df.category == 'Code'].reset_index(drop=True)\n",
        "df_code = df_code.drop('category', axis=1)\n",
        "df_code"
      ],
      "execution_count": null,
      "outputs": [
        {
          "output_type": "execute_result",
          "data": {
            "text/html": [
              "<div>\n",
              "<style scoped>\n",
              "    .dataframe tbody tr th:only-of-type {\n",
              "        vertical-align: middle;\n",
              "    }\n",
              "\n",
              "    .dataframe tbody tr th {\n",
              "        vertical-align: top;\n",
              "    }\n",
              "\n",
              "    .dataframe thead th {\n",
              "        text-align: right;\n",
              "    }\n",
              "</style>\n",
              "<table border=\"1\" class=\"dataframe\">\n",
              "  <thead>\n",
              "    <tr style=\"text-align: right;\">\n",
              "      <th></th>\n",
              "      <th>time_span</th>\n",
              "      <th>task</th>\n",
              "      <th>productivity</th>\n",
              "      <th>date</th>\n",
              "    </tr>\n",
              "  </thead>\n",
              "  <tbody>\n",
              "    <tr>\n",
              "      <th>0</th>\n",
              "      <td>5:15 AM - 6:15 AM</td>\n",
              "      <td>AWS : DO @ I (Learn)</td>\n",
              "      <td>8.5</td>\n",
              "      <td>23rd August</td>\n",
              "    </tr>\n",
              "    <tr>\n",
              "      <th>1</th>\n",
              "      <td>8:00 AM - 10:15 AM</td>\n",
              "      <td>100D : DS @ L</td>\n",
              "      <td>7.5</td>\n",
              "      <td>23rd August</td>\n",
              "    </tr>\n",
              "    <tr>\n",
              "      <th>2</th>\n",
              "      <td>11:00 AM - 12:00 PM</td>\n",
              "      <td>Leetcode @ I</td>\n",
              "      <td>8</td>\n",
              "      <td>23rd August</td>\n",
              "    </tr>\n",
              "    <tr>\n",
              "      <th>3</th>\n",
              "      <td>12:30 PM - 1:30 PM</td>\n",
              "      <td>Book Store : BE @ L (Refactoring)</td>\n",
              "      <td>7</td>\n",
              "      <td>23rd August</td>\n",
              "    </tr>\n",
              "    <tr>\n",
              "      <th>4</th>\n",
              "      <td>3:00 PM - 5:00 PM</td>\n",
              "      <td>100D : DS @ L (Write)</td>\n",
              "      <td>7.5</td>\n",
              "      <td>23rd August</td>\n",
              "    </tr>\n",
              "    <tr>\n",
              "      <th>...</th>\n",
              "      <td>...</td>\n",
              "      <td>...</td>\n",
              "      <td>...</td>\n",
              "      <td>...</td>\n",
              "    </tr>\n",
              "    <tr>\n",
              "      <th>109</th>\n",
              "      <td>8:45 AM - 9:45 AM</td>\n",
              "      <td>Internship : R&amp;D @ L</td>\n",
              "      <td>6.5</td>\n",
              "      <td>9th September</td>\n",
              "    </tr>\n",
              "    <tr>\n",
              "      <th>110</th>\n",
              "      <td>12:00 PM - 2:30 PM</td>\n",
              "      <td>Scratch : ML @ L</td>\n",
              "      <td>7</td>\n",
              "      <td>9th September</td>\n",
              "    </tr>\n",
              "    <tr>\n",
              "      <th>111</th>\n",
              "      <td>3:15 PM - 4:30 PM</td>\n",
              "      <td>100D : DS @ L (Write)</td>\n",
              "      <td>7.5</td>\n",
              "      <td>9th September</td>\n",
              "    </tr>\n",
              "    <tr>\n",
              "      <th>112</th>\n",
              "      <td>5:00 PM - 5:30 PM</td>\n",
              "      <td>100D : DS @ L (Refactoring)</td>\n",
              "      <td>7</td>\n",
              "      <td>9th September</td>\n",
              "    </tr>\n",
              "    <tr>\n",
              "      <th>113</th>\n",
              "      <td>6:45 PM -</td>\n",
              "      <td>100D : DS @ L (Refactoring)</td>\n",
              "      <td>NaN</td>\n",
              "      <td>9th September</td>\n",
              "    </tr>\n",
              "  </tbody>\n",
              "</table>\n",
              "<p>114 rows × 4 columns</p>\n",
              "</div>"
            ],
            "text/plain": [
              "               time_span  ...           date\n",
              "0      5:15 AM - 6:15 AM  ...    23rd August\n",
              "1     8:00 AM - 10:15 AM  ...    23rd August\n",
              "2    11:00 AM - 12:00 PM  ...    23rd August\n",
              "3     12:30 PM - 1:30 PM  ...    23rd August\n",
              "4      3:00 PM - 5:00 PM  ...    23rd August\n",
              "..                   ...  ...            ...\n",
              "109    8:45 AM - 9:45 AM  ...  9th September\n",
              "110   12:00 PM - 2:30 PM  ...  9th September\n",
              "111    3:15 PM - 4:30 PM  ...  9th September\n",
              "112    5:00 PM - 5:30 PM  ...  9th September\n",
              "113           6:45 PM -   ...  9th September\n",
              "\n",
              "[114 rows x 4 columns]"
            ]
          },
          "metadata": {
            "tags": []
          },
          "execution_count": 51
        }
      ]
    },
    {
      "cell_type": "markdown",
      "metadata": {
        "id": "6B3hH812ldqY",
        "colab_type": "text"
      },
      "source": [
        "df_code has a cryptic task column. I'm going to seprate task into 4 columns - project, stack, position, context\n",
        "\n",
        " I used the task column to store what I'm working on with :, @, () as seprators. Time to seprate\n",
        "\n",
        " Ex. In **\"Amatron : ML @ I (Refactoring)\"** the column values are - \n",
        " * **working_on** - *(Amatron)* This is what I'm working on \n",
        " * **stack** - *(ML for Machine Learning)* part of the stack I'm working on \n",
        " * **position** - *(I for standing)* am I sitting or standing or laying in bed? \n",
        " * **context** *(optional)* - *[Refactoring]* additional label for context "
      ]
    },
    {
      "cell_type": "code",
      "metadata": {
        "id": "gO-r49i6pW9E",
        "colab_type": "code",
        "colab": {}
      },
      "source": [
        "STACK = {'ML': 'Machine Learning', 'DS': 'Data Science', 'BE' : 'Back End', 'FE' : 'Front End', 'BS' : 'Brainstorm', 'R&D' : 'R&D', 'DO':'Dev-Ops'}"
      ],
      "execution_count": null,
      "outputs": []
    },
    {
      "cell_type": "code",
      "metadata": {
        "id": "_oMqsyvgmlbV",
        "colab_type": "code",
        "colab": {}
      },
      "source": [
        "def get_working_on(entry): \n",
        "    entry = str(entry)\n",
        "    entry = entry[ : entry.find('@')]\n",
        "    entry = entry[ : entry.find(':')]\n",
        "    working_on = entry.strip().title()\n",
        "    return working_on\n",
        "\n",
        "def get_stack(entry):\n",
        "    entry = str(entry)\n",
        "    for stack in list(STACK.keys()): \n",
        "        if stack in entry: \n",
        "            return STACK[stack]\n",
        "    return None\n",
        "\n",
        "#I for standing and L for sitting\n",
        "#TODO: Change this\n",
        "def get_position(entry): \n",
        "    entry = str(entry)\n",
        "    if '@' in entry: \n",
        "        #.find() returns -1 if string does not exist\n",
        "        if '(' in entry:\n",
        "            position = entry[entry.find('@') + 1: entry.find('(')]\n",
        "        else: \n",
        "            position = entry[entry.find('@') + 1 : ]\n",
        "        position = position.strip()\n",
        "        if position == 'L': \n",
        "            return 'Sitting'\n",
        "        elif position == 'I':\n",
        "            return 'Standing'\n",
        "        elif position == 'S':\n",
        "            return 'Laying down'\n",
        "    return None\n",
        "\n",
        "def get_context(entry):\n",
        "    entry = str(entry)\n",
        "    if '(' in entry:\n",
        "        # from 'Docker @ S (Learn)' => context = 'learn'\n",
        "        context = entry[entry.find('(') + 1 : entry.find(')')].lower()\n",
        "        if 'document' in context: \n",
        "            return 'Documented'\n",
        "        if 'refactor' in context: \n",
        "            return 'Refactoring'\n",
        "        return context.title()\n",
        "    return None\n"
      ],
      "execution_count": null,
      "outputs": []
    },
    {
      "cell_type": "code",
      "metadata": {
        "id": "YkbQYPpmoOSk",
        "colab_type": "code",
        "colab": {
          "base_uri": "https://localhost:8080/",
          "height": 204
        },
        "outputId": "a6aaaf31-bc79-44be-c472-18432984820a"
      },
      "source": [
        "df_code['working_on'] = df_code.task.apply(get_working_on)\n",
        "df_code['stack'] = df_code.task.apply(get_stack)\n",
        "df_code['position'] = df_code.task.apply(get_position)\n",
        "df_code['context'] = df_code.task.apply(get_context)\n",
        "df_code = df_code.drop('task', axis=1)\n",
        "#Reordering columns\n",
        "cols = df_code.columns.to_list()\n",
        "cols = [cols[0]] + cols[3:] + cols[1:3]\n",
        "df_code = df_code[cols]\n",
        "\n",
        "df_code.head()\n"
      ],
      "execution_count": null,
      "outputs": [
        {
          "output_type": "execute_result",
          "data": {
            "text/html": [
              "<div>\n",
              "<style scoped>\n",
              "    .dataframe tbody tr th:only-of-type {\n",
              "        vertical-align: middle;\n",
              "    }\n",
              "\n",
              "    .dataframe tbody tr th {\n",
              "        vertical-align: top;\n",
              "    }\n",
              "\n",
              "    .dataframe thead th {\n",
              "        text-align: right;\n",
              "    }\n",
              "</style>\n",
              "<table border=\"1\" class=\"dataframe\">\n",
              "  <thead>\n",
              "    <tr style=\"text-align: right;\">\n",
              "      <th></th>\n",
              "      <th>time_span</th>\n",
              "      <th>working_on</th>\n",
              "      <th>stack</th>\n",
              "      <th>position</th>\n",
              "      <th>context</th>\n",
              "      <th>productivity</th>\n",
              "      <th>date</th>\n",
              "    </tr>\n",
              "  </thead>\n",
              "  <tbody>\n",
              "    <tr>\n",
              "      <th>0</th>\n",
              "      <td>5:15 AM - 6:15 AM</td>\n",
              "      <td>Aws</td>\n",
              "      <td>Dev-Ops</td>\n",
              "      <td>Standing</td>\n",
              "      <td>Learn</td>\n",
              "      <td>8.5</td>\n",
              "      <td>23rd August</td>\n",
              "    </tr>\n",
              "    <tr>\n",
              "      <th>1</th>\n",
              "      <td>8:00 AM - 10:15 AM</td>\n",
              "      <td>100D</td>\n",
              "      <td>Data Science</td>\n",
              "      <td>Sitting</td>\n",
              "      <td>None</td>\n",
              "      <td>7.5</td>\n",
              "      <td>23rd August</td>\n",
              "    </tr>\n",
              "    <tr>\n",
              "      <th>2</th>\n",
              "      <td>11:00 AM - 12:00 PM</td>\n",
              "      <td>Leetcode</td>\n",
              "      <td>None</td>\n",
              "      <td>Standing</td>\n",
              "      <td>None</td>\n",
              "      <td>8</td>\n",
              "      <td>23rd August</td>\n",
              "    </tr>\n",
              "    <tr>\n",
              "      <th>3</th>\n",
              "      <td>12:30 PM - 1:30 PM</td>\n",
              "      <td>Book Store</td>\n",
              "      <td>Back End</td>\n",
              "      <td>Sitting</td>\n",
              "      <td>Refactoring</td>\n",
              "      <td>7</td>\n",
              "      <td>23rd August</td>\n",
              "    </tr>\n",
              "    <tr>\n",
              "      <th>4</th>\n",
              "      <td>3:00 PM - 5:00 PM</td>\n",
              "      <td>100D</td>\n",
              "      <td>Data Science</td>\n",
              "      <td>Sitting</td>\n",
              "      <td>Write</td>\n",
              "      <td>7.5</td>\n",
              "      <td>23rd August</td>\n",
              "    </tr>\n",
              "  </tbody>\n",
              "</table>\n",
              "</div>"
            ],
            "text/plain": [
              "             time_span  working_on  ... productivity         date\n",
              "0    5:15 AM - 6:15 AM         Aws  ...          8.5  23rd August\n",
              "1   8:00 AM - 10:15 AM        100D  ...          7.5  23rd August\n",
              "2  11:00 AM - 12:00 PM    Leetcode  ...            8  23rd August\n",
              "3   12:30 PM - 1:30 PM  Book Store  ...            7  23rd August\n",
              "4    3:00 PM - 5:00 PM        100D  ...          7.5  23rd August\n",
              "\n",
              "[5 rows x 7 columns]"
            ]
          },
          "metadata": {
            "tags": []
          },
          "execution_count": 54
        }
      ]
    },
    {
      "cell_type": "markdown",
      "metadata": {
        "id": "B5hCSnuvmdsx",
        "colab_type": "text"
      },
      "source": [
        "### **df_exercise**\n",
        "\n",
        "Seprating out the exercise category from df"
      ]
    },
    {
      "cell_type": "code",
      "metadata": {
        "id": "fy_Jov0NuW3B",
        "colab_type": "code",
        "colab": {
          "base_uri": "https://localhost:8080/"
        },
        "outputId": "bfddbbf0-89bf-45e3-c293-e4027e7bb9f6"
      },
      "source": [
        "def is_exercise(entry):\n",
        "    for exercise in EXERCISES: \n",
        "        if exercise in str(entry).lower(): \n",
        "            return True\n",
        "    return False\n",
        "df_exercise = df[df.category.apply(is_exercise)]\n",
        "df_exercise = df_exercise.rename(columns={'category' : 'activity', 'task': 'measurement'})\n",
        "df_exercise = df_exercise.drop('productivity', axis=1)\n",
        "def get_measurement(x):\n",
        "    if '(' in x: \n",
        "        return get_context(x).split(' ')[0]\n",
        "    return None\n",
        "df_exercise['bpm'] = df_exercise.measurement.apply(get_measurement)\n",
        "df_exercise.measurement = df_exercise.measurement.apply(lambda x : x[ : x.find('(')])\n",
        "#Reordering columns\n",
        "cols = df_exercise.columns.to_list()\n",
        "cols = cols[:-2] + [cols[-1]] + [cols[-2]]\n",
        "df_exercise = df_exercise[cols]\n",
        "df_exercise = df_exercise.reset_index(drop=True)\n",
        "df_exercise.head()"
      ],
      "execution_count": null,
      "outputs": [
        {
          "output_type": "execute_result",
          "data": {
            "text/html": [
              "<div>\n",
              "<style scoped>\n",
              "    .dataframe tbody tr th:only-of-type {\n",
              "        vertical-align: middle;\n",
              "    }\n",
              "\n",
              "    .dataframe tbody tr th {\n",
              "        vertical-align: top;\n",
              "    }\n",
              "\n",
              "    .dataframe thead th {\n",
              "        text-align: right;\n",
              "    }\n",
              "</style>\n",
              "<table border=\"1\" class=\"dataframe\">\n",
              "  <thead>\n",
              "    <tr style=\"text-align: right;\">\n",
              "      <th></th>\n",
              "      <th>time_span</th>\n",
              "      <th>activity</th>\n",
              "      <th>measurement</th>\n",
              "      <th>bpm</th>\n",
              "      <th>date</th>\n",
              "    </tr>\n",
              "  </thead>\n",
              "  <tbody>\n",
              "    <tr>\n",
              "      <th>0</th>\n",
              "      <td>32 min</td>\n",
              "      <td>Cycling</td>\n",
              "      <td>9.21 km</td>\n",
              "      <td>121</td>\n",
              "      <td>23rd August</td>\n",
              "    </tr>\n",
              "    <tr>\n",
              "      <th>1</th>\n",
              "      <td>49 min</td>\n",
              "      <td>Walking</td>\n",
              "      <td>4.31 km</td>\n",
              "      <td>109</td>\n",
              "      <td>23rd August</td>\n",
              "    </tr>\n",
              "    <tr>\n",
              "      <th>2</th>\n",
              "      <td>30 min</td>\n",
              "      <td>Workout</td>\n",
              "      <td>2 x Workout</td>\n",
              "      <td>None</td>\n",
              "      <td>23rd August</td>\n",
              "    </tr>\n",
              "    <tr>\n",
              "      <th>3</th>\n",
              "      <td>30 min</td>\n",
              "      <td>Cycling</td>\n",
              "      <td>9.21 km</td>\n",
              "      <td>121</td>\n",
              "      <td>24th August</td>\n",
              "    </tr>\n",
              "    <tr>\n",
              "      <th>4</th>\n",
              "      <td>52 min</td>\n",
              "      <td>Walking</td>\n",
              "      <td>4.30 km</td>\n",
              "      <td>109</td>\n",
              "      <td>24th August</td>\n",
              "    </tr>\n",
              "  </tbody>\n",
              "</table>\n",
              "</div>"
            ],
            "text/plain": [
              "  time_span activity   measurement   bpm         date\n",
              "0    32 min  Cycling      9.21 km    121  23rd August\n",
              "1    49 min  Walking      4.31 km    109  23rd August\n",
              "2    30 min  Workout  2 x Workout   None  23rd August\n",
              "3    30 min  Cycling      9.21 km    121  24th August\n",
              "4    52 min  Walking      4.30 km    109  24th August"
            ]
          },
          "metadata": {
            "tags": []
          },
          "execution_count": 55
        }
      ]
    },
    {
      "cell_type": "markdown",
      "metadata": {
        "id": "IcRWhz-L8c3H",
        "colab_type": "text"
      },
      "source": [
        "*df_exercise* contains 5 columns - time_span, activity, measurement, bpm (heart beats per minute) and date. The columns are self-descriptive"
      ]
    },
    {
      "cell_type": "markdown",
      "metadata": {
        "id": "XCi1JewuoFHQ",
        "colab_type": "text"
      },
      "source": [
        "###**df_extra**\n",
        "*df_extra* for those entries who couldn't make it into either df_code or df_exercise\n",
        "\n",
        "This contains categories like reading, eating etc."
      ]
    },
    {
      "cell_type": "code",
      "metadata": {
        "id": "L1CpOl4wrdve",
        "colab_type": "code",
        "colab": {
          "base_uri": "https://localhost:8080/"
        },
        "outputId": "b94a8eb2-ea6e-4f12-d2c8-05bed0005477"
      },
      "source": [
        "df_not_code = df[df.category != 'Code']\n",
        "#check if not exercise\n",
        "df_not_exercise = df_not_code.category.apply(lambda x : not is_exercise(x))\n",
        "df_extra = df_not_code[df_not_exercise]\n",
        "df_extra = df_extra.drop('productivity', axis = 1)\n",
        "df_extra.head()"
      ],
      "execution_count": null,
      "outputs": [
        {
          "output_type": "execute_result",
          "data": {
            "text/html": [
              "<div>\n",
              "<style scoped>\n",
              "    .dataframe tbody tr th:only-of-type {\n",
              "        vertical-align: middle;\n",
              "    }\n",
              "\n",
              "    .dataframe tbody tr th {\n",
              "        vertical-align: top;\n",
              "    }\n",
              "\n",
              "    .dataframe thead th {\n",
              "        text-align: right;\n",
              "    }\n",
              "</style>\n",
              "<table border=\"1\" class=\"dataframe\">\n",
              "  <thead>\n",
              "    <tr style=\"text-align: right;\">\n",
              "      <th></th>\n",
              "      <th>time_span</th>\n",
              "      <th>category</th>\n",
              "      <th>task</th>\n",
              "      <th>date</th>\n",
              "    </tr>\n",
              "  </thead>\n",
              "  <tbody>\n",
              "    <tr>\n",
              "      <th>4</th>\n",
              "      <td>10:30 AM</td>\n",
              "      <td>Breakfast</td>\n",
              "      <td>Breakfast</td>\n",
              "      <td>23rd August</td>\n",
              "    </tr>\n",
              "    <tr>\n",
              "      <th>8</th>\n",
              "      <td>2:00 PM</td>\n",
              "      <td>Lunch</td>\n",
              "      <td>Lunch</td>\n",
              "      <td>23rd August</td>\n",
              "    </tr>\n",
              "    <tr>\n",
              "      <th>10</th>\n",
              "      <td>5:30 PM - 6:15 PM</td>\n",
              "      <td>Reading</td>\n",
              "      <td>Thinking Fast &amp; Slow</td>\n",
              "      <td>23rd August</td>\n",
              "    </tr>\n",
              "    <tr>\n",
              "      <th>5</th>\n",
              "      <td>11:00 AM</td>\n",
              "      <td>Breakfast</td>\n",
              "      <td>Breakfast</td>\n",
              "      <td>24th August</td>\n",
              "    </tr>\n",
              "    <tr>\n",
              "      <th>8</th>\n",
              "      <td>2:15 PM</td>\n",
              "      <td>Lunch</td>\n",
              "      <td>Lunch</td>\n",
              "      <td>24th August</td>\n",
              "    </tr>\n",
              "  </tbody>\n",
              "</table>\n",
              "</div>"
            ],
            "text/plain": [
              "            time_span   category                  task         date\n",
              "4            10:30 AM  Breakfast             Breakfast  23rd August\n",
              "8             2:00 PM      Lunch                 Lunch  23rd August\n",
              "10  5:30 PM - 6:15 PM    Reading  Thinking Fast & Slow  23rd August\n",
              "5            11:00 AM  Breakfast             Breakfast  24th August\n",
              "8             2:15 PM      Lunch                 Lunch  24th August"
            ]
          },
          "metadata": {
            "tags": []
          },
          "execution_count": 56
        }
      ]
    },
    {
      "cell_type": "markdown",
      "metadata": {
        "id": "wtKtBdmA9PS2",
        "colab_type": "text"
      },
      "source": [
        "df_extra contins stuff like breakfast time, lunch time, reading time etc"
      ]
    },
    {
      "cell_type": "markdown",
      "metadata": {
        "id": "3oco7GxGtPvY",
        "colab_type": "text"
      },
      "source": [
        "Save df_code, df_exercise and df_extra into csv files"
      ]
    },
    {
      "cell_type": "code",
      "metadata": {
        "id": "LLFXd3c-tOgU",
        "colab_type": "code",
        "colab": {}
      },
      "source": [
        "SAVE_PATH = './100D Data/Cleaned Dataframes'\n",
        "df_code.to_csv(os.path.join(SAVE_PATH, 'df_code'), index = False)\n",
        "df_exercise.to_csv(os.path.join(SAVE_PATH, 'df_exercise'), index=False)\n",
        "df_extra.to_csv(os.path.join(SAVE_PATH, 'df_extra'), index=False)"
      ],
      "execution_count": null,
      "outputs": []
    },
    {
      "cell_type": "markdown",
      "metadata": {
        "id": "R4NPhynOuhyi",
        "colab_type": "text"
      },
      "source": [
        "To recap, first I combined all the worksheets by stacking their dataframes vertically.\n",
        "\n",
        "Then I seprated code, exercise and other category from the mega dataframe and saved them into my Google Drive"
      ]
    },
    {
      "cell_type": "markdown",
      "metadata": {
        "id": "Cl-TdWmZvAKK",
        "colab_type": "text"
      },
      "source": [
        "## Cleaning **Smartwatch Sheets**"
      ]
    },
    {
      "cell_type": "code",
      "metadata": {
        "id": "1cjlY7lsvT74",
        "colab_type": "code",
        "colab": {}
      },
      "source": [
        "SMARTWATCH_SHEETS_PATH = './100D Data/Smartwatch Sheets'"
      ],
      "execution_count": null,
      "outputs": []
    },
    {
      "cell_type": "code",
      "metadata": {
        "id": "YtC6DQevv2l9",
        "colab_type": "code",
        "colab": {
          "base_uri": "https://localhost:8080/",
          "height": 34
        },
        "outputId": "86cc8b54-9ad8-4afa-f48c-4e82cb49ea03"
      },
      "source": [
        "os.listdir(SMARTWATCH_SHEETS_PATH)"
      ],
      "execution_count": null,
      "outputs": [
        {
          "output_type": "execute_result",
          "data": {
            "text/plain": [
              "['Week 1.csv', 'Week 2.csv', 'Week 3.csv']"
            ]
          },
          "metadata": {
            "tags": []
          },
          "execution_count": 59
        }
      ]
    },
    {
      "cell_type": "markdown",
      "metadata": {
        "id": "0jHWGqj9xK3H",
        "colab_type": "text"
      },
      "source": [
        "Sorting files on basis of #week"
      ]
    },
    {
      "cell_type": "code",
      "metadata": {
        "id": "lE2oZbSo9OYc",
        "colab_type": "code",
        "colab": {}
      },
      "source": [
        "def get_week_number(entry):\n",
        "    file_name = entry.split('.')[0].strip()\n",
        "    week = file_name[-2:].strip()\n",
        "    return int(week)"
      ],
      "execution_count": null,
      "outputs": []
    },
    {
      "cell_type": "code",
      "metadata": {
        "id": "QVFvTG_7uWw_",
        "colab_type": "code",
        "colab": {
          "base_uri": "https://localhost:8080/",
          "height": 266
        },
        "outputId": "e05026d5-6e06-4924-8343-d3087a26f073"
      },
      "source": [
        "csv_file_names = os.listdir(SMARTWATCH_SHEETS_PATH)\n",
        "csv_file_names.sort(key = lambda x : get_week_number(x))\n",
        "df_list = [pd.read_csv(os.path.join(SMARTWATCH_SHEETS_PATH, x)) for x in csv_file_names]\n",
        "week_list = [x.split('.')[0].split(' ')[1] for x in csv_file_names]\n",
        "df_list[0]"
      ],
      "execution_count": null,
      "outputs": [
        {
          "output_type": "execute_result",
          "data": {
            "text/html": [
              "<div>\n",
              "<style scoped>\n",
              "    .dataframe tbody tr th:only-of-type {\n",
              "        vertical-align: middle;\n",
              "    }\n",
              "\n",
              "    .dataframe tbody tr th {\n",
              "        vertical-align: top;\n",
              "    }\n",
              "\n",
              "    .dataframe thead th {\n",
              "        text-align: right;\n",
              "    }\n",
              "</style>\n",
              "<table border=\"1\" class=\"dataframe\">\n",
              "  <thead>\n",
              "    <tr style=\"text-align: right;\">\n",
              "      <th></th>\n",
              "      <th>date</th>\n",
              "      <th>sleep</th>\n",
              "      <th>deep_sleep</th>\n",
              "      <th>steps_walked</th>\n",
              "      <th>km_walked</th>\n",
              "      <th>avg_heart_rate</th>\n",
              "      <th>stress</th>\n",
              "      <th>calories</th>\n",
              "    </tr>\n",
              "  </thead>\n",
              "  <tbody>\n",
              "    <tr>\n",
              "      <th>0</th>\n",
              "      <td>23rd August</td>\n",
              "      <td>7:54 PM - 4:50 AM</td>\n",
              "      <td>48</td>\n",
              "      <td>6893</td>\n",
              "      <td>5.40</td>\n",
              "      <td>54</td>\n",
              "      <td>40</td>\n",
              "      <td>3133</td>\n",
              "    </tr>\n",
              "    <tr>\n",
              "      <th>1</th>\n",
              "      <td>24th August</td>\n",
              "      <td>5:55 PM - 12:23 AM</td>\n",
              "      <td>48</td>\n",
              "      <td>17430</td>\n",
              "      <td>14.62</td>\n",
              "      <td>55</td>\n",
              "      <td>38</td>\n",
              "      <td>3607</td>\n",
              "    </tr>\n",
              "    <tr>\n",
              "      <th>2</th>\n",
              "      <td>25th August</td>\n",
              "      <td>9:59 PM - 5:48 AM</td>\n",
              "      <td>77</td>\n",
              "      <td>7339</td>\n",
              "      <td>5.94</td>\n",
              "      <td>51</td>\n",
              "      <td>22</td>\n",
              "      <td>2670</td>\n",
              "    </tr>\n",
              "    <tr>\n",
              "      <th>3</th>\n",
              "      <td>26th August</td>\n",
              "      <td>7:53 PM - 12:53 AM</td>\n",
              "      <td>48</td>\n",
              "      <td>4195</td>\n",
              "      <td>3.55</td>\n",
              "      <td>51</td>\n",
              "      <td>33</td>\n",
              "      <td>2634</td>\n",
              "    </tr>\n",
              "    <tr>\n",
              "      <th>4</th>\n",
              "      <td>27th August</td>\n",
              "      <td>8:38 PM - 1:38 AM</td>\n",
              "      <td>10</td>\n",
              "      <td>6110</td>\n",
              "      <td>4.93</td>\n",
              "      <td>50</td>\n",
              "      <td>17</td>\n",
              "      <td>2697</td>\n",
              "    </tr>\n",
              "    <tr>\n",
              "      <th>5</th>\n",
              "      <td>28th August</td>\n",
              "      <td>8:55 PM - 6:36 AM</td>\n",
              "      <td>112</td>\n",
              "      <td>7532</td>\n",
              "      <td>6.08</td>\n",
              "      <td>53</td>\n",
              "      <td>29</td>\n",
              "      <td>2869</td>\n",
              "    </tr>\n",
              "    <tr>\n",
              "      <th>6</th>\n",
              "      <td>29th August</td>\n",
              "      <td>8:21 PM - 5:26 AM</td>\n",
              "      <td>109</td>\n",
              "      <td>8369</td>\n",
              "      <td>7.02</td>\n",
              "      <td>52</td>\n",
              "      <td>20</td>\n",
              "      <td>2800</td>\n",
              "    </tr>\n",
              "  </tbody>\n",
              "</table>\n",
              "</div>"
            ],
            "text/plain": [
              "          date               sleep  ...  stress  calories\n",
              "0  23rd August   7:54 PM - 4:50 AM  ...      40      3133\n",
              "1  24th August  5:55 PM - 12:23 AM  ...      38      3607\n",
              "2  25th August   9:59 PM - 5:48 AM  ...      22      2670\n",
              "3  26th August  7:53 PM - 12:53 AM  ...      33      2634\n",
              "4  27th August   8:38 PM - 1:38 AM  ...      17      2697\n",
              "5  28th August   8:55 PM - 6:36 AM  ...      29      2869\n",
              "6  29th August   8:21 PM - 5:26 AM  ...      20      2800\n",
              "\n",
              "[7 rows x 8 columns]"
            ]
          },
          "metadata": {
            "tags": []
          },
          "execution_count": 61
        }
      ]
    },
    {
      "cell_type": "markdown",
      "metadata": {
        "id": "AaRWFJ268miL",
        "colab_type": "text"
      },
      "source": [
        "Stacking all the dataframes for all the weeks vertically"
      ]
    },
    {
      "cell_type": "code",
      "metadata": {
        "id": "b9W34jfC96yk",
        "colab_type": "code",
        "colab": {
          "base_uri": "https://localhost:8080/",
          "height": 576
        },
        "outputId": "18799cc2-688c-4ee0-fc29-0b23121a3764"
      },
      "source": [
        "for df, week in zip(df_list, week_list):\n",
        "    df['week'] = week\n",
        "\n",
        "df_smartwatch = pd.concat(df_list, axis=0)\n",
        "df_smartwatch"
      ],
      "execution_count": null,
      "outputs": [
        {
          "output_type": "execute_result",
          "data": {
            "text/html": [
              "<div>\n",
              "<style scoped>\n",
              "    .dataframe tbody tr th:only-of-type {\n",
              "        vertical-align: middle;\n",
              "    }\n",
              "\n",
              "    .dataframe tbody tr th {\n",
              "        vertical-align: top;\n",
              "    }\n",
              "\n",
              "    .dataframe thead th {\n",
              "        text-align: right;\n",
              "    }\n",
              "</style>\n",
              "<table border=\"1\" class=\"dataframe\">\n",
              "  <thead>\n",
              "    <tr style=\"text-align: right;\">\n",
              "      <th></th>\n",
              "      <th>date</th>\n",
              "      <th>sleep</th>\n",
              "      <th>deep_sleep</th>\n",
              "      <th>steps_walked</th>\n",
              "      <th>km_walked</th>\n",
              "      <th>avg_heart_rate</th>\n",
              "      <th>stress</th>\n",
              "      <th>calories</th>\n",
              "      <th>week</th>\n",
              "    </tr>\n",
              "  </thead>\n",
              "  <tbody>\n",
              "    <tr>\n",
              "      <th>0</th>\n",
              "      <td>23rd August</td>\n",
              "      <td>7:54 PM - 4:50 AM</td>\n",
              "      <td>48</td>\n",
              "      <td>6893</td>\n",
              "      <td>5.40</td>\n",
              "      <td>54</td>\n",
              "      <td>40</td>\n",
              "      <td>3133</td>\n",
              "      <td>1</td>\n",
              "    </tr>\n",
              "    <tr>\n",
              "      <th>1</th>\n",
              "      <td>24th August</td>\n",
              "      <td>5:55 PM - 12:23 AM</td>\n",
              "      <td>48</td>\n",
              "      <td>17430</td>\n",
              "      <td>14.62</td>\n",
              "      <td>55</td>\n",
              "      <td>38</td>\n",
              "      <td>3607</td>\n",
              "      <td>1</td>\n",
              "    </tr>\n",
              "    <tr>\n",
              "      <th>2</th>\n",
              "      <td>25th August</td>\n",
              "      <td>9:59 PM - 5:48 AM</td>\n",
              "      <td>77</td>\n",
              "      <td>7339</td>\n",
              "      <td>5.94</td>\n",
              "      <td>51</td>\n",
              "      <td>22</td>\n",
              "      <td>2670</td>\n",
              "      <td>1</td>\n",
              "    </tr>\n",
              "    <tr>\n",
              "      <th>3</th>\n",
              "      <td>26th August</td>\n",
              "      <td>7:53 PM - 12:53 AM</td>\n",
              "      <td>48</td>\n",
              "      <td>4195</td>\n",
              "      <td>3.55</td>\n",
              "      <td>51</td>\n",
              "      <td>33</td>\n",
              "      <td>2634</td>\n",
              "      <td>1</td>\n",
              "    </tr>\n",
              "    <tr>\n",
              "      <th>4</th>\n",
              "      <td>27th August</td>\n",
              "      <td>8:38 PM - 1:38 AM</td>\n",
              "      <td>10</td>\n",
              "      <td>6110</td>\n",
              "      <td>4.93</td>\n",
              "      <td>50</td>\n",
              "      <td>17</td>\n",
              "      <td>2697</td>\n",
              "      <td>1</td>\n",
              "    </tr>\n",
              "    <tr>\n",
              "      <th>5</th>\n",
              "      <td>28th August</td>\n",
              "      <td>8:55 PM - 6:36 AM</td>\n",
              "      <td>112</td>\n",
              "      <td>7532</td>\n",
              "      <td>6.08</td>\n",
              "      <td>53</td>\n",
              "      <td>29</td>\n",
              "      <td>2869</td>\n",
              "      <td>1</td>\n",
              "    </tr>\n",
              "    <tr>\n",
              "      <th>6</th>\n",
              "      <td>29th August</td>\n",
              "      <td>8:21 PM - 5:26 AM</td>\n",
              "      <td>109</td>\n",
              "      <td>8369</td>\n",
              "      <td>7.02</td>\n",
              "      <td>52</td>\n",
              "      <td>20</td>\n",
              "      <td>2800</td>\n",
              "      <td>1</td>\n",
              "    </tr>\n",
              "    <tr>\n",
              "      <th>0</th>\n",
              "      <td>30th August</td>\n",
              "      <td>10:14 PM - 4:37 AM</td>\n",
              "      <td>75</td>\n",
              "      <td>7567</td>\n",
              "      <td>8.00</td>\n",
              "      <td>53</td>\n",
              "      <td>31</td>\n",
              "      <td>3133</td>\n",
              "      <td>2</td>\n",
              "    </tr>\n",
              "    <tr>\n",
              "      <th>1</th>\n",
              "      <td>31st August</td>\n",
              "      <td>7:56 PM - 5:41 AM</td>\n",
              "      <td>108</td>\n",
              "      <td>4968</td>\n",
              "      <td>4.11</td>\n",
              "      <td>52</td>\n",
              "      <td>26</td>\n",
              "      <td>3607</td>\n",
              "      <td>2</td>\n",
              "    </tr>\n",
              "    <tr>\n",
              "      <th>2</th>\n",
              "      <td>1st September</td>\n",
              "      <td>9:21 PM - 4:47 AM</td>\n",
              "      <td>72</td>\n",
              "      <td>7101</td>\n",
              "      <td>6.02</td>\n",
              "      <td>58</td>\n",
              "      <td>43</td>\n",
              "      <td>2670</td>\n",
              "      <td>2</td>\n",
              "    </tr>\n",
              "    <tr>\n",
              "      <th>3</th>\n",
              "      <td>2nd September</td>\n",
              "      <td>9:33 PM - 5:26 AM</td>\n",
              "      <td>64</td>\n",
              "      <td>6547</td>\n",
              "      <td>5.34</td>\n",
              "      <td>52</td>\n",
              "      <td>21</td>\n",
              "      <td>2634</td>\n",
              "      <td>2</td>\n",
              "    </tr>\n",
              "    <tr>\n",
              "      <th>4</th>\n",
              "      <td>3rd September</td>\n",
              "      <td>8:55 PM - 6:20 AM</td>\n",
              "      <td>81</td>\n",
              "      <td>4879</td>\n",
              "      <td>4.91</td>\n",
              "      <td>52</td>\n",
              "      <td>33</td>\n",
              "      <td>2697</td>\n",
              "      <td>2</td>\n",
              "    </tr>\n",
              "    <tr>\n",
              "      <th>5</th>\n",
              "      <td>4th September</td>\n",
              "      <td>9:00 PM - 5:00 AM</td>\n",
              "      <td>60</td>\n",
              "      <td>1359</td>\n",
              "      <td>1.29</td>\n",
              "      <td>58</td>\n",
              "      <td>42</td>\n",
              "      <td>2869</td>\n",
              "      <td>2</td>\n",
              "    </tr>\n",
              "    <tr>\n",
              "      <th>0</th>\n",
              "      <td>5th September</td>\n",
              "      <td>11:06 PM - 4:44 AM</td>\n",
              "      <td>133</td>\n",
              "      <td>1568</td>\n",
              "      <td>1.32</td>\n",
              "      <td>52</td>\n",
              "      <td>30</td>\n",
              "      <td>2412</td>\n",
              "      <td>3</td>\n",
              "    </tr>\n",
              "    <tr>\n",
              "      <th>1</th>\n",
              "      <td>6th September</td>\n",
              "      <td>7:50 PM - 3:46 AM</td>\n",
              "      <td>80</td>\n",
              "      <td>6551</td>\n",
              "      <td>5.22</td>\n",
              "      <td>53</td>\n",
              "      <td>33</td>\n",
              "      <td>2611</td>\n",
              "      <td>3</td>\n",
              "    </tr>\n",
              "    <tr>\n",
              "      <th>2</th>\n",
              "      <td>7th September</td>\n",
              "      <td>9:47 PM - 4:58 AM</td>\n",
              "      <td>65</td>\n",
              "      <td>3642</td>\n",
              "      <td>3.17</td>\n",
              "      <td>57</td>\n",
              "      <td>33</td>\n",
              "      <td>2657</td>\n",
              "      <td>3</td>\n",
              "    </tr>\n",
              "    <tr>\n",
              "      <th>3</th>\n",
              "      <td>8th September</td>\n",
              "      <td>8:35 PM - 4:18 AM</td>\n",
              "      <td>61</td>\n",
              "      <td>4159</td>\n",
              "      <td>3.18</td>\n",
              "      <td>53</td>\n",
              "      <td>37</td>\n",
              "      <td>2571</td>\n",
              "      <td>3</td>\n",
              "    </tr>\n",
              "  </tbody>\n",
              "</table>\n",
              "</div>"
            ],
            "text/plain": [
              "            date               sleep  deep_sleep  ...  stress  calories  week\n",
              "0    23rd August   7:54 PM - 4:50 AM          48  ...      40      3133     1\n",
              "1    24th August  5:55 PM - 12:23 AM          48  ...      38      3607     1\n",
              "2    25th August   9:59 PM - 5:48 AM          77  ...      22      2670     1\n",
              "3    26th August  7:53 PM - 12:53 AM          48  ...      33      2634     1\n",
              "4    27th August   8:38 PM - 1:38 AM          10  ...      17      2697     1\n",
              "5    28th August   8:55 PM - 6:36 AM         112  ...      29      2869     1\n",
              "6    29th August   8:21 PM - 5:26 AM         109  ...      20      2800     1\n",
              "0    30th August  10:14 PM - 4:37 AM          75  ...      31      3133     2\n",
              "1    31st August   7:56 PM - 5:41 AM         108  ...      26      3607     2\n",
              "2  1st September   9:21 PM - 4:47 AM          72  ...      43      2670     2\n",
              "3  2nd September   9:33 PM - 5:26 AM          64  ...      21      2634     2\n",
              "4  3rd September   8:55 PM - 6:20 AM          81  ...      33      2697     2\n",
              "5  4th September   9:00 PM - 5:00 AM          60  ...      42      2869     2\n",
              "0  5th September  11:06 PM - 4:44 AM         133  ...      30      2412     3\n",
              "1  6th September   7:50 PM - 3:46 AM          80  ...      33      2611     3\n",
              "2  7th September   9:47 PM - 4:58 AM          65  ...      33      2657     3\n",
              "3  8th September   8:35 PM - 4:18 AM          61  ...      37      2571     3\n",
              "\n",
              "[17 rows x 9 columns]"
            ]
          },
          "metadata": {
            "tags": []
          },
          "execution_count": 62
        }
      ]
    },
    {
      "cell_type": "markdown",
      "metadata": {
        "id": "IqDGvqKE-cV-",
        "colab_type": "text"
      },
      "source": [
        "That's it for the Smartwatch Sheets. Let's save it"
      ]
    },
    {
      "cell_type": "code",
      "metadata": {
        "id": "UwOoYeZA-b5o",
        "colab_type": "code",
        "colab": {}
      },
      "source": [
        "SAVE_PATH = './100D Data/Cleaned Dataframes'\n",
        "df_smartwatch.to_csv(os.path.join(SAVE_PATH, 'df_smartwatch'), index=False)"
      ],
      "execution_count": null,
      "outputs": []
    },
    {
      "cell_type": "code",
      "metadata": {
        "id": "xaFiewjZ9e5G",
        "colab_type": "code",
        "colab": {}
      },
      "source": [
        "#TODO: If I am intrupted, how long does it take me to get back to work?\n",
        "#TODO: Graph of a code session"
      ],
      "execution_count": null,
      "outputs": []
    },
    {
      "cell_type": "code",
      "metadata": {
        "id": "2ah3GcSNMe3C",
        "colab_type": "code",
        "colab": {}
      },
      "source": [
        ""
      ],
      "execution_count": null,
      "outputs": []
    }
  ]
}