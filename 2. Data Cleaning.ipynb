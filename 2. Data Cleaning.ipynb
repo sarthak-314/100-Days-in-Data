{
  "nbformat": 4,
  "nbformat_minor": 0,
  "metadata": {
    "colab": {
      "name": "2. Data Cleaning.ipynb",
      "provenance": [],
      "mount_file_id": "1hzBnc3sjU6TinCHnNPWFj6FeueXh61Y5",
      "authorship_tag": "ABX9TyMFwxonrABZvZlN9cDNbLia",
      "include_colab_link": true
    },
    "kernelspec": {
      "name": "python3",
      "display_name": "Python 3"
    }
  },
  "cells": [
    {
      "cell_type": "markdown",
      "metadata": {
        "id": "view-in-github",
        "colab_type": "text"
      },
      "source": [
        "<a href=\"https://colab.research.google.com/github/sarthak-314/100-Days-in-Data/blob/master/2.%20Data%20Cleaning.ipynb\" target=\"_parent\"><img src=\"https://colab.research.google.com/assets/colab-badge.svg\" alt=\"Open In Colab\"/></a>"
      ]
    },
    {
      "cell_type": "markdown",
      "metadata": {
        "id": "PvYHNLsqshOE"
      },
      "source": [
        "# **DATA CLEANING**\n",
        "***"
      ]
    },
    {
      "cell_type": "markdown",
      "metadata": {
        "id": "Y5adkbagUAJx"
      },
      "source": [
        "## Cleaning **Time Sheets**\n"
      ]
    },
    {
      "cell_type": "code",
      "metadata": {
        "id": "_2fRx6oEcy4Y",
        "colab": {
          "base_uri": "https://localhost:8080/"
        },
        "outputId": "355a1271-6111-4d64-85a2-c657c5dc3313"
      },
      "source": [
        "#Config\n",
        "import os \n",
        "import pandas as pd\n",
        "TIME_SHEETS_PATH = './100D Data/TimeSheets'\n",
        "\n",
        "%cd /content/drive/My\\ Drive"
      ],
      "execution_count": null,
      "outputs": [
        {
          "output_type": "stream",
          "text": [
            "/content/drive/My Drive\n"
          ],
          "name": "stdout"
        }
      ]
    },
    {
      "cell_type": "markdown",
      "metadata": {
        "id": "adB52puOUHLc"
      },
      "source": [
        "Loading the files along with their dates in csv file"
      ]
    },
    {
      "cell_type": "code",
      "metadata": {
        "id": "-8hxLC7YUoQd",
        "colab": {
          "base_uri": "https://localhost:8080/"
        },
        "outputId": "46313a78-10c1-4af3-a34f-23a80a94bd94"
      },
      "source": [
        "os.listdir(TIME_SHEETS_PATH)[:5]"
      ],
      "execution_count": null,
      "outputs": [
        {
          "output_type": "execute_result",
          "data": {
            "text/plain": [
              "['1st September.csv',\n",
              " '29th August.csv',\n",
              " '28th August (HD).csv',\n",
              " '27th August.csv',\n",
              " '26th August.csv']"
            ]
          },
          "metadata": {
            "tags": []
          },
          "execution_count": 2
        }
      ]
    },
    {
      "cell_type": "markdown",
      "metadata": {
        "id": "YzUb6Yo-U23l"
      },
      "source": [
        "The dates are not sorted. I need a way to tell the dataframe that 28th August comes before 01st September.\n",
        "\n",
        "So I will sort the dates according to day of year.\n",
        "\n",
        "Ex. 1st Jan is 1st day of year and 31st December is 365th day of the year (2020) "
      ]
    },
    {
      "cell_type": "code",
      "metadata": {
        "id": "Ige380cjU_AD"
      },
      "source": [
        "MONTH_NUMBER = {'August' : 8, 'September' : 9, 'Octuber' : 10, 'October':10 ,'November' : 11, 'December' :  12}\n",
        "DAYS_IN_PREV_MONTH = {'August' : 31, 'September' : 31, 'Octuber' : 30, 'October':30 , 'November' : 31, 'December' : 30}\n",
        "def get_day_of_year(file_name):\n",
        "    file_name = file_name.split('.')[0]\n",
        "    if 'HD' in file_name: \n",
        "        file_name = file_name[:-5]\n",
        "    date, month = file_name.split(' ')\n",
        "    if date[:2].isdigit(): \n",
        "        date = int(date[:2])\n",
        "    else: \n",
        "        date = int(date[0])\n",
        "    month_number = MONTH_NUMBER[month]\n",
        "    days_in_prev_month = DAYS_IN_PREV_MONTH[month]\n",
        "    return date + (month_number-1) * days_in_prev_month"
      ],
      "execution_count": null,
      "outputs": []
    },
    {
      "cell_type": "code",
      "metadata": {
        "id": "zrpiWu85VG4p",
        "colab": {
          "base_uri": "https://localhost:8080/"
        },
        "outputId": "ae29e4f6-ede1-4e6b-c4a4-1a5a3b66ecac"
      },
      "source": [
        "time_sheet_csv_files = os.listdir(TIME_SHEETS_PATH)\n",
        "#Sorting the Time Sheets accroding to day of the year\n",
        "time_sheet_csv_files.sort(key = lambda x : get_day_of_year(x))\n",
        "time_sheet_csv_files"
      ],
      "execution_count": null,
      "outputs": [
        {
          "output_type": "execute_result",
          "data": {
            "text/plain": [
              "['23rd August.csv',\n",
              " '24th August.csv',\n",
              " '25th August.csv',\n",
              " '26th August.csv',\n",
              " '27th August.csv',\n",
              " '28th August (HD).csv',\n",
              " '29th August.csv',\n",
              " '30th August (HD).csv',\n",
              " '31st August.csv',\n",
              " '1st September.csv',\n",
              " '2nd September.csv',\n",
              " '3rd September.csv',\n",
              " '5th September.csv',\n",
              " '6th September.csv',\n",
              " '7th September.csv',\n",
              " '8th September.csv',\n",
              " '9th September.csv',\n",
              " '10th September.csv',\n",
              " '11th September.csv',\n",
              " '12th September.csv',\n",
              " '13th September.csv',\n",
              " '15th September.csv',\n",
              " '16th September.csv',\n",
              " '17th September.csv',\n",
              " '18th September.csv',\n",
              " '19th September.csv',\n",
              " '22nd September.csv',\n",
              " '23rd September.csv',\n",
              " '1st October.csv',\n",
              " '24th September.csv',\n",
              " '2nd October.csv',\n",
              " '25th September.csv',\n",
              " '3rd October.csv',\n",
              " '26th September.csv',\n",
              " '4th October.csv',\n",
              " '27th September.csv',\n",
              " '5th October.csv',\n",
              " '28th September.csv',\n",
              " '29th September.csv',\n",
              " '7th October.csv',\n",
              " '8th October.csv',\n",
              " '9th October.csv',\n",
              " '10th October.csv',\n",
              " '11th October.csv',\n",
              " '12th October.csv',\n",
              " '14th October.csv',\n",
              " '15th October.csv',\n",
              " '16th October.csv',\n",
              " '17th October.csv',\n",
              " '19th October.csv',\n",
              " '20th October.csv',\n",
              " '21st October.csv',\n",
              " '22nd October.csv',\n",
              " '24th October.csv',\n",
              " '26th October.csv',\n",
              " '27th October.csv',\n",
              " '29th October.csv',\n",
              " '30th October.csv',\n",
              " '31st October.csv',\n",
              " '1st November.csv',\n",
              " '2nd November.csv',\n",
              " '6th November.csv',\n",
              " '7th November.csv',\n",
              " '8th November.csv',\n",
              " '9th November.csv',\n",
              " '10th November.csv',\n",
              " '11th November.csv',\n",
              " '12th November.csv',\n",
              " '13th November.csv',\n",
              " '14th November.csv',\n",
              " '16th November.csv',\n",
              " '17th November.csv',\n",
              " '18th November.csv',\n",
              " '19th November.csv',\n",
              " '20th November.csv',\n",
              " '21st November.csv',\n",
              " '1st December.csv',\n",
              " '22nd November.csv',\n",
              " '2nd December.csv',\n",
              " '23rd November.csv',\n",
              " '3rd December.csv',\n",
              " '24th November.csv',\n",
              " '4th December.csv',\n",
              " '25th November.csv',\n",
              " '26th November.csv',\n",
              " '27th November.csv',\n",
              " '29th November.csv',\n",
              " '30th November.csv']"
            ]
          },
          "metadata": {
            "tags": []
          },
          "execution_count": 4
        }
      ]
    },
    {
      "cell_type": "code",
      "metadata": {
        "id": "SokRPy6FbnwO"
      },
      "source": [
        "#Get all the dataframes\n",
        "df_list = [pd.read_csv(os.path.join(TIME_SHEETS_PATH, x)) for x in time_sheet_csv_files]\n",
        "date_list = []\n",
        "half_days = []\n",
        "for x in time_sheet_csv_files: \n",
        "    x = x.split('.')[0]\n",
        "    if 'HD' in x: \n",
        "        x = x[:-5]\n",
        "        half_days.append(x)\n",
        "    date_list.append(x)"
      ],
      "execution_count": null,
      "outputs": []
    },
    {
      "cell_type": "markdown",
      "metadata": {
        "id": "G7Scq5wI4gFt"
      },
      "source": [
        "For each date, I also get the day_number of the 100 day experiment. \n",
        "\n",
        "I will store this date to day_number mapping in a DataFrame because I'll need it in next notebook\n"
      ]
    },
    {
      "cell_type": "code",
      "metadata": {
        "id": "ew39elrc4i14",
        "colab": {
          "base_uri": "https://localhost:8080/",
          "height": 235
        },
        "outputId": "d4eedfe4-381e-4e77-bf49-3775a394c01e"
      },
      "source": [
        "df_date = pd.DataFrame()\n",
        "df_date['day_number'] = ''\n",
        "for date in date_list: \n",
        "    day_number = get_day_of_year(date) - get_day_of_year('23th August') + 1\n",
        "    df_date.at[date, 'day_number'] = day_number\n",
        "\n",
        "df_date.to_csv('./100D Data/Cleaned Dataframes/df_date')\n",
        "df_date.head(6)"
      ],
      "execution_count": null,
      "outputs": [
        {
          "output_type": "execute_result",
          "data": {
            "text/html": [
              "<div>\n",
              "<style scoped>\n",
              "    .dataframe tbody tr th:only-of-type {\n",
              "        vertical-align: middle;\n",
              "    }\n",
              "\n",
              "    .dataframe tbody tr th {\n",
              "        vertical-align: top;\n",
              "    }\n",
              "\n",
              "    .dataframe thead th {\n",
              "        text-align: right;\n",
              "    }\n",
              "</style>\n",
              "<table border=\"1\" class=\"dataframe\">\n",
              "  <thead>\n",
              "    <tr style=\"text-align: right;\">\n",
              "      <th></th>\n",
              "      <th>day_number</th>\n",
              "    </tr>\n",
              "  </thead>\n",
              "  <tbody>\n",
              "    <tr>\n",
              "      <th>23rd August</th>\n",
              "      <td>1</td>\n",
              "    </tr>\n",
              "    <tr>\n",
              "      <th>24th August</th>\n",
              "      <td>2</td>\n",
              "    </tr>\n",
              "    <tr>\n",
              "      <th>25th August</th>\n",
              "      <td>3</td>\n",
              "    </tr>\n",
              "    <tr>\n",
              "      <th>26th August</th>\n",
              "      <td>4</td>\n",
              "    </tr>\n",
              "    <tr>\n",
              "      <th>27th August</th>\n",
              "      <td>5</td>\n",
              "    </tr>\n",
              "    <tr>\n",
              "      <th>28th August</th>\n",
              "      <td>6</td>\n",
              "    </tr>\n",
              "  </tbody>\n",
              "</table>\n",
              "</div>"
            ],
            "text/plain": [
              "            day_number\n",
              "23rd August          1\n",
              "24th August          2\n",
              "25th August          3\n",
              "26th August          4\n",
              "27th August          5\n",
              "28th August          6"
            ]
          },
          "metadata": {
            "tags": []
          },
          "execution_count": 6
        }
      ]
    },
    {
      "cell_type": "markdown",
      "metadata": {
        "id": "i8ldvK0XsafD"
      },
      "source": [
        "**df_date** maps each date to it's day_number (day number of the 100 Day experiment)\n"
      ]
    },
    {
      "cell_type": "markdown",
      "metadata": {
        "id": "mVgeviIVi6dB"
      },
      "source": [
        "For each day, I have a seprate dataframe. I will now stack all the dataframes together to make use of fast pandas vectorized operations\n",
        "\n",
        "**df** is all the dataframes stacked vertically. This is the *mega dataframe* that contains all the info from all the WorkSheets"
      ]
    },
    {
      "cell_type": "code",
      "metadata": {
        "id": "gnP5p41Oi6Cp",
        "colab": {
          "base_uri": "https://localhost:8080/",
          "height": 204
        },
        "outputId": "73113984-4578-4317-ce5b-6e1b048471ac"
      },
      "source": [
        "for df, date in zip(df_list, date_list):\n",
        "    df['date'] = date\n",
        "\n",
        "df = pd.concat(df_list, axis=0)\n",
        "df.head()"
      ],
      "execution_count": null,
      "outputs": [
        {
          "output_type": "execute_result",
          "data": {
            "text/html": [
              "<div>\n",
              "<style scoped>\n",
              "    .dataframe tbody tr th:only-of-type {\n",
              "        vertical-align: middle;\n",
              "    }\n",
              "\n",
              "    .dataframe tbody tr th {\n",
              "        vertical-align: top;\n",
              "    }\n",
              "\n",
              "    .dataframe thead th {\n",
              "        text-align: right;\n",
              "    }\n",
              "</style>\n",
              "<table border=\"1\" class=\"dataframe\">\n",
              "  <thead>\n",
              "    <tr style=\"text-align: right;\">\n",
              "      <th></th>\n",
              "      <th>time_span</th>\n",
              "      <th>category</th>\n",
              "      <th>task</th>\n",
              "      <th>productivity</th>\n",
              "      <th>date</th>\n",
              "    </tr>\n",
              "  </thead>\n",
              "  <tbody>\n",
              "    <tr>\n",
              "      <th>0</th>\n",
              "      <td>5:15 AM - 6:15 AM</td>\n",
              "      <td>Code</td>\n",
              "      <td>AWS : DO @ I (Learn)</td>\n",
              "      <td>8.5</td>\n",
              "      <td>23rd August</td>\n",
              "    </tr>\n",
              "    <tr>\n",
              "      <th>1</th>\n",
              "      <td>32 min</td>\n",
              "      <td>Cycling</td>\n",
              "      <td>9.21 km (121 bpm)</td>\n",
              "      <td>-</td>\n",
              "      <td>23rd August</td>\n",
              "    </tr>\n",
              "    <tr>\n",
              "      <th>2</th>\n",
              "      <td>49 min</td>\n",
              "      <td>Walking</td>\n",
              "      <td>4.31 km (109 bpm)</td>\n",
              "      <td>-</td>\n",
              "      <td>23rd August</td>\n",
              "    </tr>\n",
              "    <tr>\n",
              "      <th>3</th>\n",
              "      <td>8:00 AM - 10:15 AM</td>\n",
              "      <td>Code</td>\n",
              "      <td>100D : DS @ L</td>\n",
              "      <td>7.5</td>\n",
              "      <td>23rd August</td>\n",
              "    </tr>\n",
              "    <tr>\n",
              "      <th>4</th>\n",
              "      <td>10:30 AM</td>\n",
              "      <td>Breakfast</td>\n",
              "      <td>Breakfast</td>\n",
              "      <td>-</td>\n",
              "      <td>23rd August</td>\n",
              "    </tr>\n",
              "  </tbody>\n",
              "</table>\n",
              "</div>"
            ],
            "text/plain": [
              "            time_span   category  ... productivity         date\n",
              "0   5:15 AM - 6:15 AM       Code  ...          8.5  23rd August\n",
              "1              32 min    Cycling  ...            -  23rd August\n",
              "2              49 min    Walking  ...            -  23rd August\n",
              "3  8:00 AM - 10:15 AM       Code  ...          7.5  23rd August\n",
              "4            10:30 AM  Breakfast  ...            -  23rd August\n",
              "\n",
              "[5 rows x 5 columns]"
            ]
          },
          "metadata": {
            "tags": []
          },
          "execution_count": 7
        }
      ]
    },
    {
      "cell_type": "markdown",
      "metadata": {
        "id": "tky0wjE4t2P0"
      },
      "source": [
        "df now has 4 columns - time_span, category, task, efficiency and date"
      ]
    },
    {
      "cell_type": "markdown",
      "metadata": {
        "id": "Ct8Q8BKzrKJ2"
      },
      "source": [
        "#### Cleaning **Category**\n",
        "Each entry has an associated category in the dataframe.\n",
        "\n",
        "The category tells me wheather I'm coding, exercising, reading etc.\n",
        "\n",
        "Code for cleaning the category column by making everything consistant -\n",
        "\n"
      ]
    },
    {
      "cell_type": "code",
      "metadata": {
        "id": "p1UvKCEBbnnw"
      },
      "source": [
        "EXERCISES = ['cycling', 'workout', 'walking', 'exercise']\n",
        "def get_category(entry):\n",
        "    entry = str(entry).strip()\n",
        "    if 'CT' in entry or 'code' in entry.lower(): \n",
        "        return 'Code'\n",
        "    if 'BF' in entry.upper() or 'breakfast' in entry.lower(): \n",
        "        return 'Breakfast'\n",
        "    if 'lunch' in entry.lower(): \n",
        "        return 'Lunch'\n",
        "    for exercise in EXERCISES: \n",
        "        if exercise in entry.lower():\n",
        "            return exercise.title()\n",
        "    if 'ML' in entry.upper() or 'meta' in entry.lower(): \n",
        "        return 'Metalearning'\n",
        "    if 'RT' in entry.upper() or 'read' in entry.lower(): \n",
        "        return 'Reading'"
      ],
      "execution_count": null,
      "outputs": []
    },
    {
      "cell_type": "code",
      "metadata": {
        "id": "FXSnrgvr8RPR",
        "colab": {
          "base_uri": "https://localhost:8080/",
          "height": 204
        },
        "outputId": "0538f920-e111-4cf5-f4e2-0139b6afd792"
      },
      "source": [
        "df.category = df.category.apply(get_category)\n",
        "df.head()"
      ],
      "execution_count": null,
      "outputs": [
        {
          "output_type": "execute_result",
          "data": {
            "text/html": [
              "<div>\n",
              "<style scoped>\n",
              "    .dataframe tbody tr th:only-of-type {\n",
              "        vertical-align: middle;\n",
              "    }\n",
              "\n",
              "    .dataframe tbody tr th {\n",
              "        vertical-align: top;\n",
              "    }\n",
              "\n",
              "    .dataframe thead th {\n",
              "        text-align: right;\n",
              "    }\n",
              "</style>\n",
              "<table border=\"1\" class=\"dataframe\">\n",
              "  <thead>\n",
              "    <tr style=\"text-align: right;\">\n",
              "      <th></th>\n",
              "      <th>time_span</th>\n",
              "      <th>category</th>\n",
              "      <th>task</th>\n",
              "      <th>productivity</th>\n",
              "      <th>date</th>\n",
              "    </tr>\n",
              "  </thead>\n",
              "  <tbody>\n",
              "    <tr>\n",
              "      <th>0</th>\n",
              "      <td>5:15 AM - 6:15 AM</td>\n",
              "      <td>Code</td>\n",
              "      <td>AWS : DO @ I (Learn)</td>\n",
              "      <td>8.5</td>\n",
              "      <td>23rd August</td>\n",
              "    </tr>\n",
              "    <tr>\n",
              "      <th>1</th>\n",
              "      <td>32 min</td>\n",
              "      <td>Cycling</td>\n",
              "      <td>9.21 km (121 bpm)</td>\n",
              "      <td>-</td>\n",
              "      <td>23rd August</td>\n",
              "    </tr>\n",
              "    <tr>\n",
              "      <th>2</th>\n",
              "      <td>49 min</td>\n",
              "      <td>Walking</td>\n",
              "      <td>4.31 km (109 bpm)</td>\n",
              "      <td>-</td>\n",
              "      <td>23rd August</td>\n",
              "    </tr>\n",
              "    <tr>\n",
              "      <th>3</th>\n",
              "      <td>8:00 AM - 10:15 AM</td>\n",
              "      <td>Code</td>\n",
              "      <td>100D : DS @ L</td>\n",
              "      <td>7.5</td>\n",
              "      <td>23rd August</td>\n",
              "    </tr>\n",
              "    <tr>\n",
              "      <th>4</th>\n",
              "      <td>10:30 AM</td>\n",
              "      <td>Breakfast</td>\n",
              "      <td>Breakfast</td>\n",
              "      <td>-</td>\n",
              "      <td>23rd August</td>\n",
              "    </tr>\n",
              "  </tbody>\n",
              "</table>\n",
              "</div>"
            ],
            "text/plain": [
              "            time_span   category  ... productivity         date\n",
              "0   5:15 AM - 6:15 AM       Code  ...          8.5  23rd August\n",
              "1              32 min    Cycling  ...            -  23rd August\n",
              "2              49 min    Walking  ...            -  23rd August\n",
              "3  8:00 AM - 10:15 AM       Code  ...          7.5  23rd August\n",
              "4            10:30 AM  Breakfast  ...            -  23rd August\n",
              "\n",
              "[5 rows x 5 columns]"
            ]
          },
          "metadata": {
            "tags": []
          },
          "execution_count": 9
        }
      ]
    },
    {
      "cell_type": "markdown",
      "metadata": {
        "id": "AmI1iHtdumaj"
      },
      "source": [
        "### Seprating **df** into *df_code*, *df_exercise* and *df_extra* \n",
        "\n",
        "Because coding and exercising are very different categories, I will give them both their own dataframe. (*df_code* and *df_exercise*)\n",
        "\n",
        "Activities such as reading, eating that are neither coding nor exercising will go into a 3rd dataframe - *df_extra*"
      ]
    },
    {
      "cell_type": "markdown",
      "metadata": {
        "id": "9KcheAemiYuU"
      },
      "source": [
        "### **df_code**\n",
        "All the time I spent coding goes in here\n",
        "\n",
        "If you look at **df** above, it has a column for category. I seprate out all the entries that has the category 'Code' into *df_code*\n",
        "\n",
        "*df_code* now contains all the code related stuff\n"
      ]
    },
    {
      "cell_type": "code",
      "metadata": {
        "id": "-hksZempishQ",
        "colab": {
          "base_uri": "https://localhost:8080/",
          "height": 419
        },
        "outputId": "72d04eca-a66f-4e79-de2d-5b514ab455d2"
      },
      "source": [
        "df_code = df[df.category == 'Code'].reset_index(drop=True)\n",
        "df_code = df_code.drop('category', axis=1)\n",
        "df_code"
      ],
      "execution_count": null,
      "outputs": [
        {
          "output_type": "execute_result",
          "data": {
            "text/html": [
              "<div>\n",
              "<style scoped>\n",
              "    .dataframe tbody tr th:only-of-type {\n",
              "        vertical-align: middle;\n",
              "    }\n",
              "\n",
              "    .dataframe tbody tr th {\n",
              "        vertical-align: top;\n",
              "    }\n",
              "\n",
              "    .dataframe thead th {\n",
              "        text-align: right;\n",
              "    }\n",
              "</style>\n",
              "<table border=\"1\" class=\"dataframe\">\n",
              "  <thead>\n",
              "    <tr style=\"text-align: right;\">\n",
              "      <th></th>\n",
              "      <th>time_span</th>\n",
              "      <th>task</th>\n",
              "      <th>productivity</th>\n",
              "      <th>date</th>\n",
              "    </tr>\n",
              "  </thead>\n",
              "  <tbody>\n",
              "    <tr>\n",
              "      <th>0</th>\n",
              "      <td>5:15 AM - 6:15 AM</td>\n",
              "      <td>AWS : DO @ I (Learn)</td>\n",
              "      <td>8.5</td>\n",
              "      <td>23rd August</td>\n",
              "    </tr>\n",
              "    <tr>\n",
              "      <th>1</th>\n",
              "      <td>8:00 AM - 10:15 AM</td>\n",
              "      <td>100D : DS @ L</td>\n",
              "      <td>7.5</td>\n",
              "      <td>23rd August</td>\n",
              "    </tr>\n",
              "    <tr>\n",
              "      <th>2</th>\n",
              "      <td>11:00 AM - 12:00 PM</td>\n",
              "      <td>Leetcode @ I</td>\n",
              "      <td>8</td>\n",
              "      <td>23rd August</td>\n",
              "    </tr>\n",
              "    <tr>\n",
              "      <th>3</th>\n",
              "      <td>12:30 PM - 1:30 PM</td>\n",
              "      <td>Book Store : BE @ L (Refactoring)</td>\n",
              "      <td>7</td>\n",
              "      <td>23rd August</td>\n",
              "    </tr>\n",
              "    <tr>\n",
              "      <th>4</th>\n",
              "      <td>3:00 PM - 5:00 PM</td>\n",
              "      <td>100D : DS @ L (Write)</td>\n",
              "      <td>7.5</td>\n",
              "      <td>23rd August</td>\n",
              "    </tr>\n",
              "    <tr>\n",
              "      <th>...</th>\n",
              "      <td>...</td>\n",
              "      <td>...</td>\n",
              "      <td>...</td>\n",
              "      <td>...</td>\n",
              "    </tr>\n",
              "    <tr>\n",
              "      <th>434</th>\n",
              "      <td>1:00 PM - 2:00 PM</td>\n",
              "      <td>ADE : CLW @ S</td>\n",
              "      <td>6.5</td>\n",
              "      <td>29th November</td>\n",
              "    </tr>\n",
              "    <tr>\n",
              "      <th>435</th>\n",
              "      <td>4:30 AM - 5:30 AM</td>\n",
              "      <td>FOLT : CLW @ L</td>\n",
              "      <td>6.5</td>\n",
              "      <td>30th November</td>\n",
              "    </tr>\n",
              "    <tr>\n",
              "      <th>436</th>\n",
              "      <td>7:00 AM - 7:45 AM</td>\n",
              "      <td>FOLT : CLW @ L</td>\n",
              "      <td>6.5</td>\n",
              "      <td>30th November</td>\n",
              "    </tr>\n",
              "    <tr>\n",
              "      <th>437</th>\n",
              "      <td>10:45 AM - 11:45 AM</td>\n",
              "      <td>OOP : CLW @ S</td>\n",
              "      <td>6</td>\n",
              "      <td>30th November</td>\n",
              "    </tr>\n",
              "    <tr>\n",
              "      <th>438</th>\n",
              "      <td>7:15 AM - 7:45 AM</td>\n",
              "      <td>MIT : CLW @ S</td>\n",
              "      <td>6.5</td>\n",
              "      <td>30th November</td>\n",
              "    </tr>\n",
              "  </tbody>\n",
              "</table>\n",
              "<p>439 rows × 4 columns</p>\n",
              "</div>"
            ],
            "text/plain": [
              "               time_span  ...           date\n",
              "0      5:15 AM - 6:15 AM  ...    23rd August\n",
              "1     8:00 AM - 10:15 AM  ...    23rd August\n",
              "2    11:00 AM - 12:00 PM  ...    23rd August\n",
              "3     12:30 PM - 1:30 PM  ...    23rd August\n",
              "4      3:00 PM - 5:00 PM  ...    23rd August\n",
              "..                   ...  ...            ...\n",
              "434    1:00 PM - 2:00 PM  ...  29th November\n",
              "435    4:30 AM - 5:30 AM  ...  30th November\n",
              "436    7:00 AM - 7:45 AM  ...  30th November\n",
              "437  10:45 AM - 11:45 AM  ...  30th November\n",
              "438    7:15 AM - 7:45 AM  ...  30th November\n",
              "\n",
              "[439 rows x 4 columns]"
            ]
          },
          "metadata": {
            "tags": []
          },
          "execution_count": 10
        }
      ]
    },
    {
      "cell_type": "markdown",
      "metadata": {
        "id": "6B3hH812ldqY"
      },
      "source": [
        "\n",
        "df_code has a cryptic task column. I'm going to seprate task into 4 columns - project, stack, position, context\n",
        "\n",
        " I used the task column to store what I'm working on with :, @, () as seprators. Time to seprate\n",
        "\n",
        " Ex. In **\"Amatron : ML @ I (Refactoring)\"** the column values are - \n",
        " * **working_on** - *(Amatron)* This is what I'm working on \n",
        " * **stack** - *(ML for Machine Learning)* part of the stack I'm working on \n",
        " * **position** - *(I for standing)* am I sitting or standing or laying in bed? \n",
        " * **context** *(optional)* - *[Refactoring]* additional label for context "
      ]
    },
    {
      "cell_type": "code",
      "metadata": {
        "id": "gO-r49i6pW9E"
      },
      "source": [
        "STACK = {'ML': 'Machine Learning', 'DS': 'Data Science', 'BE' : 'Back End', 'FE' : 'Front End', 'BS' : 'Brainstorm', 'R&D' : 'R&D', 'DO':'Dev-Ops', 'A' : 'Algorithms & DS', 'M' : 'Math', 'CLW' : 'College Work'}"
      ],
      "execution_count": null,
      "outputs": []
    },
    {
      "cell_type": "code",
      "metadata": {
        "id": "_oMqsyvgmlbV"
      },
      "source": [
        "def get_working_on(entry): \n",
        "    entry = str(entry)\n",
        "    entry = entry[ : entry.find('@')]\n",
        "    entry = entry[ : entry.find(':')]\n",
        "    working_on = entry.strip().title()\n",
        "    return working_on\n",
        "\n",
        "def get_stack(entry):\n",
        "    entry = str(entry)\n",
        "    if 'leetcode' in entry.lower(): \n",
        "        return STACK['A']\n",
        "    for stack in list(STACK.keys()): \n",
        "        if stack in entry: \n",
        "            return STACK[stack]\n",
        "    return None\n",
        "\n",
        "#I for standing and L for sitting\n",
        "#TODO: Change this\n",
        "def get_position(entry): \n",
        "    entry = str(entry)\n",
        "    if '@' in entry: \n",
        "        #.find() returns -1 if string does not exist\n",
        "        if '(' in entry:\n",
        "            position = entry[entry.find('@') + 1: entry.find('(')]\n",
        "        else: \n",
        "            position = entry[entry.find('@') + 1 : ]\n",
        "        position = position.strip()\n",
        "        if position == 'L': \n",
        "            return 'Sitting'\n",
        "        elif position == 'I':\n",
        "            return 'Standing'\n",
        "        elif position == 'S':\n",
        "            return 'Laying down'\n",
        "    return None\n",
        "\n",
        "def get_context(entry):\n",
        "    entry = str(entry)\n",
        "    if '(' in entry:\n",
        "        # from 'Docker @ S (Learn)' => context = 'learn'\n",
        "        context = entry[entry.find('(') + 1 : entry.find(')')].lower()\n",
        "        if 'document' in context: \n",
        "            return 'Documented'\n",
        "        if 'refactor' in context: \n",
        "            return 'Refactoring'\n",
        "        return context.title()\n",
        "    return None\n"
      ],
      "execution_count": null,
      "outputs": []
    },
    {
      "cell_type": "code",
      "metadata": {
        "id": "YkbQYPpmoOSk",
        "colab": {
          "base_uri": "https://localhost:8080/",
          "height": 204
        },
        "outputId": "1dd8169c-fa02-49bf-ba48-c3110ae10002"
      },
      "source": [
        "df_code['working_on'] = df_code.task.apply(get_working_on)\n",
        "df_code['stack'] = df_code.task.apply(get_stack)\n",
        "df_code['position'] = df_code.task.apply(get_position)\n",
        "df_code['context'] = df_code.task.apply(get_context)\n",
        "df_code = df_code.drop('task', axis=1)\n",
        "#Reordering columns\n",
        "cols = df_code.columns.to_list()\n",
        "cols = [cols[0]] + cols[3:] + cols[1:3]\n",
        "df_code = df_code[cols]\n",
        "\n",
        "df_code.head()\n"
      ],
      "execution_count": null,
      "outputs": [
        {
          "output_type": "execute_result",
          "data": {
            "text/html": [
              "<div>\n",
              "<style scoped>\n",
              "    .dataframe tbody tr th:only-of-type {\n",
              "        vertical-align: middle;\n",
              "    }\n",
              "\n",
              "    .dataframe tbody tr th {\n",
              "        vertical-align: top;\n",
              "    }\n",
              "\n",
              "    .dataframe thead th {\n",
              "        text-align: right;\n",
              "    }\n",
              "</style>\n",
              "<table border=\"1\" class=\"dataframe\">\n",
              "  <thead>\n",
              "    <tr style=\"text-align: right;\">\n",
              "      <th></th>\n",
              "      <th>time_span</th>\n",
              "      <th>working_on</th>\n",
              "      <th>stack</th>\n",
              "      <th>position</th>\n",
              "      <th>context</th>\n",
              "      <th>productivity</th>\n",
              "      <th>date</th>\n",
              "    </tr>\n",
              "  </thead>\n",
              "  <tbody>\n",
              "    <tr>\n",
              "      <th>0</th>\n",
              "      <td>5:15 AM - 6:15 AM</td>\n",
              "      <td>Aws</td>\n",
              "      <td>Dev-Ops</td>\n",
              "      <td>Standing</td>\n",
              "      <td>Learn</td>\n",
              "      <td>8.5</td>\n",
              "      <td>23rd August</td>\n",
              "    </tr>\n",
              "    <tr>\n",
              "      <th>1</th>\n",
              "      <td>8:00 AM - 10:15 AM</td>\n",
              "      <td>100D</td>\n",
              "      <td>Data Science</td>\n",
              "      <td>Sitting</td>\n",
              "      <td>None</td>\n",
              "      <td>7.5</td>\n",
              "      <td>23rd August</td>\n",
              "    </tr>\n",
              "    <tr>\n",
              "      <th>2</th>\n",
              "      <td>11:00 AM - 12:00 PM</td>\n",
              "      <td>Leetcode</td>\n",
              "      <td>Algorithms &amp; DS</td>\n",
              "      <td>Standing</td>\n",
              "      <td>None</td>\n",
              "      <td>8</td>\n",
              "      <td>23rd August</td>\n",
              "    </tr>\n",
              "    <tr>\n",
              "      <th>3</th>\n",
              "      <td>12:30 PM - 1:30 PM</td>\n",
              "      <td>Book Store</td>\n",
              "      <td>Back End</td>\n",
              "      <td>Sitting</td>\n",
              "      <td>Refactoring</td>\n",
              "      <td>7</td>\n",
              "      <td>23rd August</td>\n",
              "    </tr>\n",
              "    <tr>\n",
              "      <th>4</th>\n",
              "      <td>3:00 PM - 5:00 PM</td>\n",
              "      <td>100D</td>\n",
              "      <td>Data Science</td>\n",
              "      <td>Sitting</td>\n",
              "      <td>Write</td>\n",
              "      <td>7.5</td>\n",
              "      <td>23rd August</td>\n",
              "    </tr>\n",
              "  </tbody>\n",
              "</table>\n",
              "</div>"
            ],
            "text/plain": [
              "             time_span  working_on  ... productivity         date\n",
              "0    5:15 AM - 6:15 AM         Aws  ...          8.5  23rd August\n",
              "1   8:00 AM - 10:15 AM        100D  ...          7.5  23rd August\n",
              "2  11:00 AM - 12:00 PM    Leetcode  ...            8  23rd August\n",
              "3   12:30 PM - 1:30 PM  Book Store  ...            7  23rd August\n",
              "4    3:00 PM - 5:00 PM        100D  ...          7.5  23rd August\n",
              "\n",
              "[5 rows x 7 columns]"
            ]
          },
          "metadata": {
            "tags": []
          },
          "execution_count": 13
        }
      ]
    },
    {
      "cell_type": "markdown",
      "metadata": {
        "id": "B5hCSnuvmdsx"
      },
      "source": [
        "### **df_exercise**\n",
        "(Future Sarthak : Ignore the rest of the notebook. I have automated the collection process for smartwatch)\n",
        "\n",
        "Seprating out the exercise category from df"
      ]
    },
    {
      "cell_type": "code",
      "metadata": {
        "id": "fy_Jov0NuW3B"
      },
      "source": [
        "def is_exercise(entry):\n",
        "    for exercise in EXERCISES: \n",
        "        if exercise in str(entry).lower(): \n",
        "            return True\n",
        "    return False\n",
        "df_exercise = df[df.category.apply(is_exercise)]\n",
        "df_exercise = df_exercise.rename(columns={'category' : 'activity', 'task': 'measurement'})\n",
        "df_exercise = df_exercise.drop('productivity', axis=1)\n",
        "def get_measurement(x):\n",
        "    try: \n",
        "        if '(' in x: \n",
        "            return get_context(x).split(' ')[0]\n",
        "    except: \n",
        "        return ''\n",
        "df_exercise['bpm'] = df_exercise.measurement.apply(get_measurement)\n",
        "df_exercise.measurement = df_exercise.measurement.apply(lambda x : x[ : x.find('(')])\n",
        "#Reordering columns\n",
        "cols = df_exercise.columns.to_list()\n",
        "cols = cols[:-2] + [cols[-1]] + [cols[-2]]\n",
        "df_exercise = df_exercise[cols]\n",
        "df_exercise = df_exercise.reset_index(drop=True)\n",
        "df_exercise.head()"
      ],
      "execution_count": null,
      "outputs": []
    },
    {
      "cell_type": "markdown",
      "metadata": {
        "id": "IcRWhz-L8c3H"
      },
      "source": [
        "*df_exercise* contains 5 columns - time_span, activity, measurement, bpm (heart beats per minute) and date. The columns are self-descriptive"
      ]
    },
    {
      "cell_type": "markdown",
      "metadata": {
        "id": "XCi1JewuoFHQ"
      },
      "source": [
        "###**df_extra**\n",
        "*df_extra* for those entries who couldn't make it into either df_code or df_exercise\n",
        "\n",
        "This contains categories like reading, eating etc."
      ]
    },
    {
      "cell_type": "code",
      "metadata": {
        "id": "L1CpOl4wrdve"
      },
      "source": [
        "df_not_code = df[df.category != 'Code']\n",
        "#check if not exercise\n",
        "df_not_exercise = df_not_code.category.apply(lambda x : not is_exercise(x))\n",
        "df_extra = df_not_code[df_not_exercise]\n",
        "df_extra = df_extra.drop('productivity', axis = 1)\n",
        "df_extra.head()"
      ],
      "execution_count": null,
      "outputs": []
    },
    {
      "cell_type": "markdown",
      "metadata": {
        "id": "wtKtBdmA9PS2"
      },
      "source": [
        "df_extra contins stuff like breakfast time, lunch time, reading time etc"
      ]
    },
    {
      "cell_type": "markdown",
      "metadata": {
        "id": "3oco7GxGtPvY"
      },
      "source": [
        "Save df_code, df_exercise and df_extra into csv files"
      ]
    },
    {
      "cell_type": "code",
      "metadata": {
        "id": "LLFXd3c-tOgU"
      },
      "source": [
        "SAVE_PATH = './100D Data/Cleaned Dataframes'\n",
        "df_code.to_csv(os.path.join(SAVE_PATH, 'df_code'), index = False)\n",
        "df_exercise.to_csv(os.path.join(SAVE_PATH, 'df_exercise'), index=False)\n",
        "df_extra.to_csv(os.path.join(SAVE_PATH, 'df_extra'), index=False)"
      ],
      "execution_count": null,
      "outputs": []
    },
    {
      "cell_type": "markdown",
      "metadata": {
        "id": "R4NPhynOuhyi"
      },
      "source": [
        "To recap, first I combined all the worksheets by stacking their dataframes vertically.\n",
        "\n",
        "Then I seprated code, exercise and other category from the mega dataframe and saved them into my Google Drive"
      ]
    },
    {
      "cell_type": "markdown",
      "metadata": {
        "id": "Cl-TdWmZvAKK"
      },
      "source": [
        "## Cleaning **Smartwatch Sheets**"
      ]
    },
    {
      "cell_type": "code",
      "metadata": {
        "id": "1cjlY7lsvT74"
      },
      "source": [
        "SMARTWATCH_SHEETS_PATH = './100D Data/Smartwatch Sheets'"
      ],
      "execution_count": null,
      "outputs": []
    },
    {
      "cell_type": "code",
      "metadata": {
        "id": "YtC6DQevv2l9"
      },
      "source": [
        "os.listdir(SMARTWATCH_SHEETS_PATH)"
      ],
      "execution_count": null,
      "outputs": []
    },
    {
      "cell_type": "markdown",
      "metadata": {
        "id": "0jHWGqj9xK3H"
      },
      "source": [
        "Sorting files on basis of #week"
      ]
    },
    {
      "cell_type": "code",
      "metadata": {
        "id": "lE2oZbSo9OYc"
      },
      "source": [
        "def get_week_number(entry):\n",
        "    file_name = entry.split('.')[0].strip()\n",
        "    week = file_name[-2:].strip()\n",
        "    return int(week)"
      ],
      "execution_count": null,
      "outputs": []
    },
    {
      "cell_type": "code",
      "metadata": {
        "id": "QVFvTG_7uWw_"
      },
      "source": [
        "csv_file_names = os.listdir(SMARTWATCH_SHEETS_PATH)\n",
        "csv_file_names.sort(key = lambda x : get_week_number(x))\n",
        "df_list = [pd.read_csv(os.path.join(SMARTWATCH_SHEETS_PATH, x)) for x in csv_file_names]\n",
        "week_list = [x.split('.')[0].split(' ')[1] for x in csv_file_names]\n",
        "df_list[0]"
      ],
      "execution_count": null,
      "outputs": []
    },
    {
      "cell_type": "markdown",
      "metadata": {
        "id": "AaRWFJ268miL"
      },
      "source": [
        "Stacking all the dataframes for all the weeks vertically"
      ]
    },
    {
      "cell_type": "code",
      "metadata": {
        "id": "b9W34jfC96yk"
      },
      "source": [
        "for df, week in zip(df_list, week_list):\n",
        "    df['week'] = week\n",
        "\n",
        "df_smartwatch = pd.concat(df_list, axis=0)\n",
        "df_smartwatch"
      ],
      "execution_count": null,
      "outputs": []
    },
    {
      "cell_type": "markdown",
      "metadata": {
        "id": "IqDGvqKE-cV-"
      },
      "source": [
        "That's it for the Smartwatch Sheets. Let's save it"
      ]
    },
    {
      "cell_type": "code",
      "metadata": {
        "id": "UwOoYeZA-b5o"
      },
      "source": [
        "SAVE_PATH = './100D Data/Cleaned Dataframes'\n",
        "df_smartwatch.to_csv(os.path.join(SAVE_PATH, 'df_smartwatch'), index=False)"
      ],
      "execution_count": null,
      "outputs": []
    },
    {
      "cell_type": "code",
      "metadata": {
        "id": "xaFiewjZ9e5G"
      },
      "source": [
        ""
      ],
      "execution_count": null,
      "outputs": []
    },
    {
      "cell_type": "code",
      "metadata": {
        "id": "2ah3GcSNMe3C"
      },
      "source": [
        ""
      ],
      "execution_count": null,
      "outputs": []
    }
  ]
}