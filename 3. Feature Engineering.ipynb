{
  "nbformat": 4,
  "nbformat_minor": 0,
  "metadata": {
    "colab": {
      "name": "3. Feature Engineering.ipynb",
      "provenance": [],
      "collapsed_sections": [],
      "mount_file_id": "1tGghqb3D2AeyZWumBFZvhYV_sn7MGW40",
      "authorship_tag": "ABX9TyMUKknl2Ly2nYyXpI+YeH65",
      "include_colab_link": true
    },
    "kernelspec": {
      "name": "python3",
      "display_name": "Python 3"
    }
  },
  "cells": [
    {
      "cell_type": "markdown",
      "metadata": {
        "id": "view-in-github",
        "colab_type": "text"
      },
      "source": [
        "<a href=\"https://colab.research.google.com/github/sarthak-314/100-Days-in-Data/blob/master/3.%20Feature%20Engineering.ipynb\" target=\"_parent\"><img src=\"https://colab.research.google.com/assets/colab-badge.svg\" alt=\"Open In Colab\"/></a>"
      ]
    },
    {
      "cell_type": "markdown",
      "metadata": {
        "id": "aQVWrOz6HLbC"
      },
      "source": [
        "# **Feature Engineering**\n",
        "***\n"
      ]
    },
    {
      "cell_type": "code",
      "metadata": {
        "id": "VsGqMSXtHNM1",
        "colab": {
          "base_uri": "https://localhost:8080/"
        },
        "outputId": "06b40d75-5a1f-4749-b442-c322068df275"
      },
      "source": [
        "#Config\n",
        "import pandas as pd\n",
        "import os\n",
        " \n",
        "DF_PATH = './100D Data/Cleaned Dataframes'\n",
        "%cd /content/drive/My\\ Drive/"
      ],
      "execution_count": null,
      "outputs": [
        {
          "output_type": "stream",
          "text": [
            "/content/drive/My Drive\n"
          ],
          "name": "stdout"
        }
      ]
    },
    {
      "cell_type": "code",
      "metadata": {
        "id": "CNaf0ynXdQwo",
        "colab": {
          "base_uri": "https://localhost:8080/",
          "height": 204
        },
        "outputId": "9d179b0e-436f-4c6d-ac53-e69f000af8d4"
      },
      "source": [
        "#Loading all the dataframes\n",
        "df_code = pd.read_csv(os.path.join(DF_PATH, 'df_code'))\n",
        "df_exercise = pd.read_csv(os.path.join(DF_PATH, 'df_exercise'))\n",
        "df_extra = pd.read_csv(os.path.join(DF_PATH, 'df_extra'))\n",
        "df_smartwatch = pd.read_csv(os.path.join(DF_PATH, 'df_smartwatch'))\n",
        "df_date = pd.read_csv(os.path.join(DF_PATH, 'df_date'))\n",
        "df_code.head()\n"
      ],
      "execution_count": null,
      "outputs": [
        {
          "output_type": "execute_result",
          "data": {
            "text/html": [
              "<div>\n",
              "<style scoped>\n",
              "    .dataframe tbody tr th:only-of-type {\n",
              "        vertical-align: middle;\n",
              "    }\n",
              "\n",
              "    .dataframe tbody tr th {\n",
              "        vertical-align: top;\n",
              "    }\n",
              "\n",
              "    .dataframe thead th {\n",
              "        text-align: right;\n",
              "    }\n",
              "</style>\n",
              "<table border=\"1\" class=\"dataframe\">\n",
              "  <thead>\n",
              "    <tr style=\"text-align: right;\">\n",
              "      <th></th>\n",
              "      <th>time_span</th>\n",
              "      <th>working_on</th>\n",
              "      <th>stack</th>\n",
              "      <th>position</th>\n",
              "      <th>context</th>\n",
              "      <th>productivity</th>\n",
              "      <th>date</th>\n",
              "    </tr>\n",
              "  </thead>\n",
              "  <tbody>\n",
              "    <tr>\n",
              "      <th>0</th>\n",
              "      <td>5:15 AM - 6:15 AM</td>\n",
              "      <td>Aws</td>\n",
              "      <td>Dev-Ops</td>\n",
              "      <td>Standing</td>\n",
              "      <td>Learn</td>\n",
              "      <td>8.5</td>\n",
              "      <td>23rd August</td>\n",
              "    </tr>\n",
              "    <tr>\n",
              "      <th>1</th>\n",
              "      <td>8:00 AM - 10:15 AM</td>\n",
              "      <td>100D</td>\n",
              "      <td>Data Science</td>\n",
              "      <td>Sitting</td>\n",
              "      <td>NaN</td>\n",
              "      <td>7.5</td>\n",
              "      <td>23rd August</td>\n",
              "    </tr>\n",
              "    <tr>\n",
              "      <th>2</th>\n",
              "      <td>11:00 AM - 12:00 PM</td>\n",
              "      <td>Leetcode</td>\n",
              "      <td>Algorithms &amp; DS</td>\n",
              "      <td>Standing</td>\n",
              "      <td>NaN</td>\n",
              "      <td>8</td>\n",
              "      <td>23rd August</td>\n",
              "    </tr>\n",
              "    <tr>\n",
              "      <th>3</th>\n",
              "      <td>12:30 PM - 1:30 PM</td>\n",
              "      <td>Book Store</td>\n",
              "      <td>Back End</td>\n",
              "      <td>Sitting</td>\n",
              "      <td>Refactoring</td>\n",
              "      <td>7</td>\n",
              "      <td>23rd August</td>\n",
              "    </tr>\n",
              "    <tr>\n",
              "      <th>4</th>\n",
              "      <td>3:00 PM - 5:00 PM</td>\n",
              "      <td>100D</td>\n",
              "      <td>Data Science</td>\n",
              "      <td>Sitting</td>\n",
              "      <td>Write</td>\n",
              "      <td>7.5</td>\n",
              "      <td>23rd August</td>\n",
              "    </tr>\n",
              "  </tbody>\n",
              "</table>\n",
              "</div>"
            ],
            "text/plain": [
              "             time_span  working_on  ... productivity         date\n",
              "0    5:15 AM - 6:15 AM         Aws  ...          8.5  23rd August\n",
              "1   8:00 AM - 10:15 AM        100D  ...          7.5  23rd August\n",
              "2  11:00 AM - 12:00 PM    Leetcode  ...            8  23rd August\n",
              "3   12:30 PM - 1:30 PM  Book Store  ...            7  23rd August\n",
              "4    3:00 PM - 5:00 PM        100D  ...          7.5  23rd August\n",
              "\n",
              "[5 rows x 7 columns]"
            ]
          },
          "metadata": {
            "tags": []
          },
          "execution_count": 15
        }
      ]
    },
    {
      "cell_type": "markdown",
      "metadata": {
        "id": "2ZPe3PWmq1J7"
      },
      "source": [
        "## Feature engineering on \n",
        "\n",
        "###  **time_range** -\n",
        "* Breaking down time range column into *starting time* and *duration*\n",
        "* *Classifying time* into early morning, morning and evening\n",
        "\n"
      ]
    },
    {
      "cell_type": "code",
      "metadata": {
        "id": "mUyhVgXysp8s"
      },
      "source": [
        "#UTILS - some functions to help later\n",
        "from datetime import datetime\n",
        "\n",
        "def get_start_N_end(time_range):\n",
        "    time_range = str(time_range)\n",
        "    if '-' in time_range: \n",
        "        time_start, time_end = time_range.split('-')\n",
        "        if not time_end: \n",
        "            time_end = time_start\n",
        "        return time_start.strip(), time_end.strip()\n",
        "    return None\n",
        "\n",
        "def duration(start_time, end_time):\n",
        "    FMT = '%I:%M %p'\n",
        "    if not start_time or not end_time: \n",
        "        return None\n",
        "    timedelta = datetime.strptime(end_time, FMT) - datetime.strptime(start_time, FMT) \n",
        "    hours_passed = timedelta.seconds / 3600\n",
        "    return hours_passed"
      ],
      "execution_count": null,
      "outputs": []
    },
    {
      "cell_type": "markdown",
      "metadata": {
        "id": "z0MGHxkyyxoY"
      },
      "source": [
        "Extracting *duration* from *time_span*\n",
        "\n",
        "Ex. 6:30 AM - 8:00 AM is 1.5 hr"
      ]
    },
    {
      "cell_type": "code",
      "metadata": {
        "id": "OaYtWcm1yAkM",
        "colab": {
          "base_uri": "https://localhost:8080/",
          "height": 204
        },
        "outputId": "c29e610d-3a6d-4d00-b352-e2fd45a098d8"
      },
      "source": [
        "def get_duration(entry):\n",
        "    entry = str(entry)\n",
        "    try:\n",
        "        start, end = get_start_N_end(entry)\n",
        "        return duration(start, end)\n",
        "    except:\n",
        "        if 'min' in entry: \n",
        "            minutes = entry[ : entry.find('min')]\n",
        "            minutes = int(minutes.strip())\n",
        "            return minutes / 60\n",
        "\n",
        "def get_starting_time(entry):\n",
        "    entry = str(entry)\n",
        "    try:\n",
        "        start, _ = get_start_N_end(entry)\n",
        "        return start\n",
        "    except: \n",
        "        return float('NaN')\n",
        "\n",
        "df_code['starting_time'] = df_code['time_span'].apply(get_starting_time)\n",
        "df_code['duration(hr)'] = df_code['time_span'].apply(get_duration)\n",
        "df_code.head()"
      ],
      "execution_count": null,
      "outputs": [
        {
          "output_type": "execute_result",
          "data": {
            "text/html": [
              "<div>\n",
              "<style scoped>\n",
              "    .dataframe tbody tr th:only-of-type {\n",
              "        vertical-align: middle;\n",
              "    }\n",
              "\n",
              "    .dataframe tbody tr th {\n",
              "        vertical-align: top;\n",
              "    }\n",
              "\n",
              "    .dataframe thead th {\n",
              "        text-align: right;\n",
              "    }\n",
              "</style>\n",
              "<table border=\"1\" class=\"dataframe\">\n",
              "  <thead>\n",
              "    <tr style=\"text-align: right;\">\n",
              "      <th></th>\n",
              "      <th>time_span</th>\n",
              "      <th>working_on</th>\n",
              "      <th>stack</th>\n",
              "      <th>position</th>\n",
              "      <th>context</th>\n",
              "      <th>productivity</th>\n",
              "      <th>date</th>\n",
              "      <th>starting_time</th>\n",
              "      <th>duration(hr)</th>\n",
              "    </tr>\n",
              "  </thead>\n",
              "  <tbody>\n",
              "    <tr>\n",
              "      <th>0</th>\n",
              "      <td>5:15 AM - 6:15 AM</td>\n",
              "      <td>Aws</td>\n",
              "      <td>Dev-Ops</td>\n",
              "      <td>Standing</td>\n",
              "      <td>Learn</td>\n",
              "      <td>8.5</td>\n",
              "      <td>23rd August</td>\n",
              "      <td>5:15 AM</td>\n",
              "      <td>1.00</td>\n",
              "    </tr>\n",
              "    <tr>\n",
              "      <th>1</th>\n",
              "      <td>8:00 AM - 10:15 AM</td>\n",
              "      <td>100D</td>\n",
              "      <td>Data Science</td>\n",
              "      <td>Sitting</td>\n",
              "      <td>NaN</td>\n",
              "      <td>7.5</td>\n",
              "      <td>23rd August</td>\n",
              "      <td>8:00 AM</td>\n",
              "      <td>2.25</td>\n",
              "    </tr>\n",
              "    <tr>\n",
              "      <th>2</th>\n",
              "      <td>11:00 AM - 12:00 PM</td>\n",
              "      <td>Leetcode</td>\n",
              "      <td>Algorithms &amp; DS</td>\n",
              "      <td>Standing</td>\n",
              "      <td>NaN</td>\n",
              "      <td>8</td>\n",
              "      <td>23rd August</td>\n",
              "      <td>11:00 AM</td>\n",
              "      <td>1.00</td>\n",
              "    </tr>\n",
              "    <tr>\n",
              "      <th>3</th>\n",
              "      <td>12:30 PM - 1:30 PM</td>\n",
              "      <td>Book Store</td>\n",
              "      <td>Back End</td>\n",
              "      <td>Sitting</td>\n",
              "      <td>Refactoring</td>\n",
              "      <td>7</td>\n",
              "      <td>23rd August</td>\n",
              "      <td>12:30 PM</td>\n",
              "      <td>1.00</td>\n",
              "    </tr>\n",
              "    <tr>\n",
              "      <th>4</th>\n",
              "      <td>3:00 PM - 5:00 PM</td>\n",
              "      <td>100D</td>\n",
              "      <td>Data Science</td>\n",
              "      <td>Sitting</td>\n",
              "      <td>Write</td>\n",
              "      <td>7.5</td>\n",
              "      <td>23rd August</td>\n",
              "      <td>3:00 PM</td>\n",
              "      <td>2.00</td>\n",
              "    </tr>\n",
              "  </tbody>\n",
              "</table>\n",
              "</div>"
            ],
            "text/plain": [
              "             time_span  working_on  ... starting_time duration(hr)\n",
              "0    5:15 AM - 6:15 AM         Aws  ...       5:15 AM         1.00\n",
              "1   8:00 AM - 10:15 AM        100D  ...       8:00 AM         2.25\n",
              "2  11:00 AM - 12:00 PM    Leetcode  ...      11:00 AM         1.00\n",
              "3   12:30 PM - 1:30 PM  Book Store  ...      12:30 PM         1.00\n",
              "4    3:00 PM - 5:00 PM        100D  ...       3:00 PM         2.00\n",
              "\n",
              "[5 rows x 9 columns]"
            ]
          },
          "metadata": {
            "tags": []
          },
          "execution_count": 18
        }
      ]
    },
    {
      "cell_type": "code",
      "metadata": {
        "id": "Utf80jyLqCh0"
      },
      "source": [
        "def get_part_of_day(entry):\n",
        "    #Verify Assumption : I only measure my time in minutes in morning\n",
        "    if 'min' in entry: \n",
        "        return 'early morning'\n",
        "    start, end = get_start_N_end(entry)\n",
        "    if start and end: \n",
        "        try: \n",
        "            is_before_breakfast = duration(start, '10:00 AM') < 10\n",
        "            is_before_lunch = duration(start, '2:00 PM') < 10\n",
        "            if is_before_breakfast: \n",
        "                return 'early morning'\n",
        "            if is_before_lunch: \n",
        "                return 'late morning'\n",
        "            else: \n",
        "                return 'evening'\n",
        "        except: \n",
        "            return None"
      ],
      "execution_count": null,
      "outputs": []
    },
    {
      "cell_type": "code",
      "metadata": {
        "id": "XUWK_1Yeu7Z6",
        "colab": {
          "base_uri": "https://localhost:8080/",
          "height": 204
        },
        "outputId": "d9e70c8d-0bbe-4a68-a05f-c1ab37eac9ff"
      },
      "source": [
        "df_code['part_of_day'] = df_code.time_span.apply(get_part_of_day)\n",
        "df_code.head()"
      ],
      "execution_count": null,
      "outputs": [
        {
          "output_type": "execute_result",
          "data": {
            "text/html": [
              "<div>\n",
              "<style scoped>\n",
              "    .dataframe tbody tr th:only-of-type {\n",
              "        vertical-align: middle;\n",
              "    }\n",
              "\n",
              "    .dataframe tbody tr th {\n",
              "        vertical-align: top;\n",
              "    }\n",
              "\n",
              "    .dataframe thead th {\n",
              "        text-align: right;\n",
              "    }\n",
              "</style>\n",
              "<table border=\"1\" class=\"dataframe\">\n",
              "  <thead>\n",
              "    <tr style=\"text-align: right;\">\n",
              "      <th></th>\n",
              "      <th>time_span</th>\n",
              "      <th>working_on</th>\n",
              "      <th>stack</th>\n",
              "      <th>position</th>\n",
              "      <th>context</th>\n",
              "      <th>productivity</th>\n",
              "      <th>date</th>\n",
              "      <th>starting_time</th>\n",
              "      <th>duration(hr)</th>\n",
              "      <th>part_of_day</th>\n",
              "    </tr>\n",
              "  </thead>\n",
              "  <tbody>\n",
              "    <tr>\n",
              "      <th>0</th>\n",
              "      <td>5:15 AM - 6:15 AM</td>\n",
              "      <td>Aws</td>\n",
              "      <td>Dev-Ops</td>\n",
              "      <td>Standing</td>\n",
              "      <td>Learn</td>\n",
              "      <td>8.5</td>\n",
              "      <td>23rd August</td>\n",
              "      <td>5:15 AM</td>\n",
              "      <td>1.00</td>\n",
              "      <td>early morning</td>\n",
              "    </tr>\n",
              "    <tr>\n",
              "      <th>1</th>\n",
              "      <td>8:00 AM - 10:15 AM</td>\n",
              "      <td>100D</td>\n",
              "      <td>Data Science</td>\n",
              "      <td>Sitting</td>\n",
              "      <td>NaN</td>\n",
              "      <td>7.5</td>\n",
              "      <td>23rd August</td>\n",
              "      <td>8:00 AM</td>\n",
              "      <td>2.25</td>\n",
              "      <td>early morning</td>\n",
              "    </tr>\n",
              "    <tr>\n",
              "      <th>2</th>\n",
              "      <td>11:00 AM - 12:00 PM</td>\n",
              "      <td>Leetcode</td>\n",
              "      <td>Algorithms &amp; DS</td>\n",
              "      <td>Standing</td>\n",
              "      <td>NaN</td>\n",
              "      <td>8</td>\n",
              "      <td>23rd August</td>\n",
              "      <td>11:00 AM</td>\n",
              "      <td>1.00</td>\n",
              "      <td>late morning</td>\n",
              "    </tr>\n",
              "    <tr>\n",
              "      <th>3</th>\n",
              "      <td>12:30 PM - 1:30 PM</td>\n",
              "      <td>Book Store</td>\n",
              "      <td>Back End</td>\n",
              "      <td>Sitting</td>\n",
              "      <td>Refactoring</td>\n",
              "      <td>7</td>\n",
              "      <td>23rd August</td>\n",
              "      <td>12:30 PM</td>\n",
              "      <td>1.00</td>\n",
              "      <td>late morning</td>\n",
              "    </tr>\n",
              "    <tr>\n",
              "      <th>4</th>\n",
              "      <td>3:00 PM - 5:00 PM</td>\n",
              "      <td>100D</td>\n",
              "      <td>Data Science</td>\n",
              "      <td>Sitting</td>\n",
              "      <td>Write</td>\n",
              "      <td>7.5</td>\n",
              "      <td>23rd August</td>\n",
              "      <td>3:00 PM</td>\n",
              "      <td>2.00</td>\n",
              "      <td>evening</td>\n",
              "    </tr>\n",
              "  </tbody>\n",
              "</table>\n",
              "</div>"
            ],
            "text/plain": [
              "             time_span  working_on  ... duration(hr)    part_of_day\n",
              "0    5:15 AM - 6:15 AM         Aws  ...         1.00  early morning\n",
              "1   8:00 AM - 10:15 AM        100D  ...         2.25  early morning\n",
              "2  11:00 AM - 12:00 PM    Leetcode  ...         1.00   late morning\n",
              "3   12:30 PM - 1:30 PM  Book Store  ...         1.00   late morning\n",
              "4    3:00 PM - 5:00 PM        100D  ...         2.00        evening\n",
              "\n",
              "[5 rows x 10 columns]"
            ]
          },
          "metadata": {
            "tags": []
          },
          "execution_count": 20
        }
      ]
    },
    {
      "cell_type": "code",
      "metadata": {
        "id": "hR_8nmmKRtak",
        "colab": {
          "base_uri": "https://localhost:8080/",
          "height": 204
        },
        "outputId": "69b9863b-3754-4d46-bd74-38286ffa3786"
      },
      "source": [
        "#Rearranging columns and dropping time_span\n",
        "cols = df_code.columns.to_list()\n",
        "cols = cols[7 : 9] + cols[1 : 5] + [cols[5], cols[-1], cols[6]]\n",
        "df_code = df_code[cols]\n",
        "\n",
        "df_code.head()"
      ],
      "execution_count": null,
      "outputs": [
        {
          "output_type": "execute_result",
          "data": {
            "text/html": [
              "<div>\n",
              "<style scoped>\n",
              "    .dataframe tbody tr th:only-of-type {\n",
              "        vertical-align: middle;\n",
              "    }\n",
              "\n",
              "    .dataframe tbody tr th {\n",
              "        vertical-align: top;\n",
              "    }\n",
              "\n",
              "    .dataframe thead th {\n",
              "        text-align: right;\n",
              "    }\n",
              "</style>\n",
              "<table border=\"1\" class=\"dataframe\">\n",
              "  <thead>\n",
              "    <tr style=\"text-align: right;\">\n",
              "      <th></th>\n",
              "      <th>starting_time</th>\n",
              "      <th>duration(hr)</th>\n",
              "      <th>working_on</th>\n",
              "      <th>stack</th>\n",
              "      <th>position</th>\n",
              "      <th>context</th>\n",
              "      <th>productivity</th>\n",
              "      <th>part_of_day</th>\n",
              "      <th>date</th>\n",
              "    </tr>\n",
              "  </thead>\n",
              "  <tbody>\n",
              "    <tr>\n",
              "      <th>0</th>\n",
              "      <td>5:15 AM</td>\n",
              "      <td>1.00</td>\n",
              "      <td>Aws</td>\n",
              "      <td>Dev-Ops</td>\n",
              "      <td>Standing</td>\n",
              "      <td>Learn</td>\n",
              "      <td>8.5</td>\n",
              "      <td>early morning</td>\n",
              "      <td>23rd August</td>\n",
              "    </tr>\n",
              "    <tr>\n",
              "      <th>1</th>\n",
              "      <td>8:00 AM</td>\n",
              "      <td>2.25</td>\n",
              "      <td>100D</td>\n",
              "      <td>Data Science</td>\n",
              "      <td>Sitting</td>\n",
              "      <td>NaN</td>\n",
              "      <td>7.5</td>\n",
              "      <td>early morning</td>\n",
              "      <td>23rd August</td>\n",
              "    </tr>\n",
              "    <tr>\n",
              "      <th>2</th>\n",
              "      <td>11:00 AM</td>\n",
              "      <td>1.00</td>\n",
              "      <td>Leetcode</td>\n",
              "      <td>Algorithms &amp; DS</td>\n",
              "      <td>Standing</td>\n",
              "      <td>NaN</td>\n",
              "      <td>8</td>\n",
              "      <td>late morning</td>\n",
              "      <td>23rd August</td>\n",
              "    </tr>\n",
              "    <tr>\n",
              "      <th>3</th>\n",
              "      <td>12:30 PM</td>\n",
              "      <td>1.00</td>\n",
              "      <td>Book Store</td>\n",
              "      <td>Back End</td>\n",
              "      <td>Sitting</td>\n",
              "      <td>Refactoring</td>\n",
              "      <td>7</td>\n",
              "      <td>late morning</td>\n",
              "      <td>23rd August</td>\n",
              "    </tr>\n",
              "    <tr>\n",
              "      <th>4</th>\n",
              "      <td>3:00 PM</td>\n",
              "      <td>2.00</td>\n",
              "      <td>100D</td>\n",
              "      <td>Data Science</td>\n",
              "      <td>Sitting</td>\n",
              "      <td>Write</td>\n",
              "      <td>7.5</td>\n",
              "      <td>evening</td>\n",
              "      <td>23rd August</td>\n",
              "    </tr>\n",
              "  </tbody>\n",
              "</table>\n",
              "</div>"
            ],
            "text/plain": [
              "  starting_time  duration(hr)  ...    part_of_day         date\n",
              "0       5:15 AM          1.00  ...  early morning  23rd August\n",
              "1       8:00 AM          2.25  ...  early morning  23rd August\n",
              "2      11:00 AM          1.00  ...   late morning  23rd August\n",
              "3      12:30 PM          1.00  ...   late morning  23rd August\n",
              "4       3:00 PM          2.00  ...        evening  23rd August\n",
              "\n",
              "[5 rows x 9 columns]"
            ]
          },
          "metadata": {
            "tags": []
          },
          "execution_count": 21
        }
      ]
    },
    {
      "cell_type": "markdown",
      "metadata": {
        "id": "FJakFX1iT_WO"
      },
      "source": [
        "###Feature Engeneering on **date**\n",
        "Every dataframe - df_code, df_exercise, df_smartwatch has a date associated with it\n",
        "\n",
        "And every date has a *week number* and a *week day* associated with it. \n",
        "\n",
        "Ex. 26th August is week number __1__ and day number 3 of the 100 day experiment and it's also the day of the week is *Wednesday*"
      ]
    },
    {
      "cell_type": "markdown",
      "metadata": {
        "id": "YMsp5cWfu20Q"
      },
      "source": [
        "I know from experience that my productivity varies depending on the weekday. "
      ]
    },
    {
      "cell_type": "markdown",
      "metadata": {
        "id": "PvzvpYScusCM"
      },
      "source": [
        "In the last notebook I created a DataFrame **df_date** mapping a date to it's day_number and is_halfday\n",
        "\n",
        "In this notebook I will add another column that maps a date to it's day of the week"
      ]
    },
    {
      "cell_type": "code",
      "metadata": {
        "id": "pM56ORfJCnDA",
        "colab": {
          "base_uri": "https://localhost:8080/",
          "height": 266
        },
        "outputId": "73eecb87-1804-4ec8-9ccf-c76cc63e0d74"
      },
      "source": [
        "df_date.rename({'Unnamed: 0' : 'date'}, axis=1, inplace=True)\n",
        "df_date.set_index('date', inplace=True)\n",
        "df_date.head(6)"
      ],
      "execution_count": null,
      "outputs": [
        {
          "output_type": "execute_result",
          "data": {
            "text/html": [
              "<div>\n",
              "<style scoped>\n",
              "    .dataframe tbody tr th:only-of-type {\n",
              "        vertical-align: middle;\n",
              "    }\n",
              "\n",
              "    .dataframe tbody tr th {\n",
              "        vertical-align: top;\n",
              "    }\n",
              "\n",
              "    .dataframe thead th {\n",
              "        text-align: right;\n",
              "    }\n",
              "</style>\n",
              "<table border=\"1\" class=\"dataframe\">\n",
              "  <thead>\n",
              "    <tr style=\"text-align: right;\">\n",
              "      <th></th>\n",
              "      <th>day_number</th>\n",
              "    </tr>\n",
              "    <tr>\n",
              "      <th>date</th>\n",
              "      <th></th>\n",
              "    </tr>\n",
              "  </thead>\n",
              "  <tbody>\n",
              "    <tr>\n",
              "      <th>23rd August</th>\n",
              "      <td>1</td>\n",
              "    </tr>\n",
              "    <tr>\n",
              "      <th>24th August</th>\n",
              "      <td>2</td>\n",
              "    </tr>\n",
              "    <tr>\n",
              "      <th>25th August</th>\n",
              "      <td>3</td>\n",
              "    </tr>\n",
              "    <tr>\n",
              "      <th>26th August</th>\n",
              "      <td>4</td>\n",
              "    </tr>\n",
              "    <tr>\n",
              "      <th>27th August</th>\n",
              "      <td>5</td>\n",
              "    </tr>\n",
              "    <tr>\n",
              "      <th>28th August</th>\n",
              "      <td>6</td>\n",
              "    </tr>\n",
              "  </tbody>\n",
              "</table>\n",
              "</div>"
            ],
            "text/plain": [
              "             day_number\n",
              "date                   \n",
              "23rd August           1\n",
              "24th August           2\n",
              "25th August           3\n",
              "26th August           4\n",
              "27th August           5\n",
              "28th August           6"
            ]
          },
          "metadata": {
            "tags": []
          },
          "execution_count": 22
        }
      ]
    },
    {
      "cell_type": "markdown",
      "metadata": {
        "id": "A85Yh2PywhvC"
      },
      "source": [
        "But... it's quarentine and Sundays and Mondays are no diffrent from each other for me\n",
        "\n",
        "But I still take a break once in a while and I need a way to account for that\n",
        "\n",
        "So I instead of weekday like Monday or Tuesday, I will use a diffrent metirc - days_after_break. \n",
        "\n",
        "Ex. If I take a break on 5th September, 7th September is 2 days_after_break, 8th September is 3 days_after_break and so on..."
      ]
    },
    {
      "cell_type": "markdown",
      "metadata": {
        "id": "DoC56lwBwI-w"
      },
      "source": [
        "I already have a day number. I go to the original source of Time Sheets (remember that?) to get the week number and week day for each date."
      ]
    },
    {
      "cell_type": "code",
      "metadata": {
        "id": "Nn8ZUMPZTjPu",
        "colab": {
          "base_uri": "https://localhost:8080/",
          "height": 328
        },
        "outputId": "ed54599d-459e-4d2c-8959-64a429a05e12"
      },
      "source": [
        "#Creating empty columns\n",
        "df_date['days_after_break'] = ''\n",
        "# df_date['week'] = ''\n",
        "\n",
        "TIME_SHEETS_PATH = './100 Days'\n",
        "week_folders = os.listdir(TIME_SHEETS_PATH)\n",
        "week_folders.sort(key=lambda x : x.split(' ')[1])\n",
        "cur_week = 0\n",
        "for week_folder in week_folders: \n",
        "    cur_week += 1\n",
        "    week_path = os.path.join(TIME_SHEETS_PATH, week_folder)\n",
        "    if os.path.isdir(week_path):\n",
        "        dates_in_week = [f.split('.')[0] for f in os.listdir(week_path)]\n",
        "        def sort(x):\n",
        "            if 'HD'in x: \n",
        "                x = x[:-5]\n",
        "            #REMOVE THIS\n",
        "            if 'daily' in x.lower() or 'week' in x.lower():\n",
        "                return -1\n",
        "            if x == '4th December': \n",
        "                return float('inf')\n",
        "            return df_date.loc[x]['day_number']\n",
        "        dates_in_week.sort(key=sort)\n",
        "        for days_after_break, date in enumerate(dates_in_week):\n",
        "            if 'HD' in date: \n",
        "                date = date[:-5]\n",
        "            df_date.at[date, 'days_after_break'] = days_after_break + 1\n",
        "            # df_date.at[date, 'week'] = cur_week\n",
        "\n",
        "df_date.head(8)"
      ],
      "execution_count": null,
      "outputs": [
        {
          "output_type": "execute_result",
          "data": {
            "text/html": [
              "<div>\n",
              "<style scoped>\n",
              "    .dataframe tbody tr th:only-of-type {\n",
              "        vertical-align: middle;\n",
              "    }\n",
              "\n",
              "    .dataframe tbody tr th {\n",
              "        vertical-align: top;\n",
              "    }\n",
              "\n",
              "    .dataframe thead th {\n",
              "        text-align: right;\n",
              "    }\n",
              "</style>\n",
              "<table border=\"1\" class=\"dataframe\">\n",
              "  <thead>\n",
              "    <tr style=\"text-align: right;\">\n",
              "      <th></th>\n",
              "      <th>day_number</th>\n",
              "      <th>days_after_break</th>\n",
              "    </tr>\n",
              "    <tr>\n",
              "      <th>date</th>\n",
              "      <th></th>\n",
              "      <th></th>\n",
              "    </tr>\n",
              "  </thead>\n",
              "  <tbody>\n",
              "    <tr>\n",
              "      <th>23rd August</th>\n",
              "      <td>1</td>\n",
              "      <td>1</td>\n",
              "    </tr>\n",
              "    <tr>\n",
              "      <th>24th August</th>\n",
              "      <td>2</td>\n",
              "      <td>2</td>\n",
              "    </tr>\n",
              "    <tr>\n",
              "      <th>25th August</th>\n",
              "      <td>3</td>\n",
              "      <td>3</td>\n",
              "    </tr>\n",
              "    <tr>\n",
              "      <th>26th August</th>\n",
              "      <td>4</td>\n",
              "      <td>4</td>\n",
              "    </tr>\n",
              "    <tr>\n",
              "      <th>27th August</th>\n",
              "      <td>5</td>\n",
              "      <td>5</td>\n",
              "    </tr>\n",
              "    <tr>\n",
              "      <th>28th August</th>\n",
              "      <td>6</td>\n",
              "      <td>6</td>\n",
              "    </tr>\n",
              "    <tr>\n",
              "      <th>29th August</th>\n",
              "      <td>7</td>\n",
              "      <td>1</td>\n",
              "    </tr>\n",
              "    <tr>\n",
              "      <th>30th August</th>\n",
              "      <td>8</td>\n",
              "      <td>2</td>\n",
              "    </tr>\n",
              "  </tbody>\n",
              "</table>\n",
              "</div>"
            ],
            "text/plain": [
              "             day_number days_after_break\n",
              "date                                    \n",
              "23rd August           1                1\n",
              "24th August           2                2\n",
              "25th August           3                3\n",
              "26th August           4                4\n",
              "27th August           5                5\n",
              "28th August           6                6\n",
              "29th August           7                1\n",
              "30th August           8                2"
            ]
          },
          "metadata": {
            "tags": []
          },
          "execution_count": 23
        }
      ]
    },
    {
      "cell_type": "markdown",
      "metadata": {
        "id": "hDJVBR30BMRS"
      },
      "source": [
        "## **df_smartwatch**\n",
        "*df_smartwatch* contains all the health related metrics like amount of sleep, base heart rate"
      ]
    },
    {
      "cell_type": "code",
      "metadata": {
        "id": "onbKuyiFXrrg",
        "colab": {
          "base_uri": "https://localhost:8080/",
          "height": 204
        },
        "outputId": "efcf926b-811a-4ee9-adac-ffc14b27be21"
      },
      "source": [
        "df_smartwatch.head()"
      ],
      "execution_count": null,
      "outputs": [
        {
          "output_type": "execute_result",
          "data": {
            "text/html": [
              "<div>\n",
              "<style scoped>\n",
              "    .dataframe tbody tr th:only-of-type {\n",
              "        vertical-align: middle;\n",
              "    }\n",
              "\n",
              "    .dataframe tbody tr th {\n",
              "        vertical-align: top;\n",
              "    }\n",
              "\n",
              "    .dataframe thead th {\n",
              "        text-align: right;\n",
              "    }\n",
              "</style>\n",
              "<table border=\"1\" class=\"dataframe\">\n",
              "  <thead>\n",
              "    <tr style=\"text-align: right;\">\n",
              "      <th></th>\n",
              "      <th>date</th>\n",
              "      <th>sleep</th>\n",
              "      <th>deep_sleep</th>\n",
              "      <th>steps_walked</th>\n",
              "      <th>km_walked</th>\n",
              "      <th>avg_heart_rate</th>\n",
              "      <th>stress</th>\n",
              "      <th>calories</th>\n",
              "      <th>week</th>\n",
              "    </tr>\n",
              "  </thead>\n",
              "  <tbody>\n",
              "    <tr>\n",
              "      <th>0</th>\n",
              "      <td>23rd August</td>\n",
              "      <td>7:54 PM - 4:50 AM</td>\n",
              "      <td>48</td>\n",
              "      <td>6893</td>\n",
              "      <td>5.40</td>\n",
              "      <td>54</td>\n",
              "      <td>40</td>\n",
              "      <td>3133</td>\n",
              "      <td>1</td>\n",
              "    </tr>\n",
              "    <tr>\n",
              "      <th>1</th>\n",
              "      <td>24th August</td>\n",
              "      <td>5:55 PM - 12:23 AM</td>\n",
              "      <td>48</td>\n",
              "      <td>17430</td>\n",
              "      <td>14.62</td>\n",
              "      <td>55</td>\n",
              "      <td>38</td>\n",
              "      <td>3607</td>\n",
              "      <td>1</td>\n",
              "    </tr>\n",
              "    <tr>\n",
              "      <th>2</th>\n",
              "      <td>25th August</td>\n",
              "      <td>9:59 PM - 5:48 AM</td>\n",
              "      <td>77</td>\n",
              "      <td>7339</td>\n",
              "      <td>5.94</td>\n",
              "      <td>51</td>\n",
              "      <td>22</td>\n",
              "      <td>2670</td>\n",
              "      <td>1</td>\n",
              "    </tr>\n",
              "    <tr>\n",
              "      <th>3</th>\n",
              "      <td>26th August</td>\n",
              "      <td>7:53 PM - 12:53 AM</td>\n",
              "      <td>48</td>\n",
              "      <td>4195</td>\n",
              "      <td>3.55</td>\n",
              "      <td>51</td>\n",
              "      <td>33</td>\n",
              "      <td>2634</td>\n",
              "      <td>1</td>\n",
              "    </tr>\n",
              "    <tr>\n",
              "      <th>4</th>\n",
              "      <td>27th August</td>\n",
              "      <td>8:38 PM - 1:38 AM</td>\n",
              "      <td>10</td>\n",
              "      <td>6110</td>\n",
              "      <td>4.93</td>\n",
              "      <td>50</td>\n",
              "      <td>17</td>\n",
              "      <td>2697</td>\n",
              "      <td>1</td>\n",
              "    </tr>\n",
              "  </tbody>\n",
              "</table>\n",
              "</div>"
            ],
            "text/plain": [
              "          date               sleep  deep_sleep  ...  stress  calories  week\n",
              "0  23rd August   7:54 PM - 4:50 AM          48  ...      40      3133     1\n",
              "1  24th August  5:55 PM - 12:23 AM          48  ...      38      3607     1\n",
              "2  25th August   9:59 PM - 5:48 AM          77  ...      22      2670     1\n",
              "3  26th August  7:53 PM - 12:53 AM          48  ...      33      2634     1\n",
              "4  27th August   8:38 PM - 1:38 AM          10  ...      17      2697     1\n",
              "\n",
              "[5 rows x 9 columns]"
            ]
          },
          "metadata": {
            "tags": []
          },
          "execution_count": 24
        }
      ]
    },
    {
      "cell_type": "markdown",
      "metadata": {
        "id": "DiF2qb-SZ5nm"
      },
      "source": [
        "Breaking down the sleep column into sleep_start, wakeup_time and sleep_duration. Same stuff as in df_code"
      ]
    },
    {
      "cell_type": "code",
      "metadata": {
        "id": "gDp7PXs28sWv",
        "colab": {
          "base_uri": "https://localhost:8080/",
          "height": 297
        },
        "outputId": "14ddff4b-4596-45aa-f903-e19ce2ee5107"
      },
      "source": [
        "def get_sleep_duration(entry):\n",
        "    entry = str(entry)\n",
        "    start, end = get_start_N_end(entry)\n",
        "    sleep_duration =  float(duration(start, end))\n",
        "    return round(sleep_duration, 2)\n",
        "df_smartwatch['sleep_start'] = df_smartwatch.sleep.apply(lambda x : get_start_N_end(x)[0])\n",
        "df_smartwatch['wakeup_time'] = df_smartwatch.sleep.apply(lambda x : get_start_N_end(x)[1])\n",
        "df_smartwatch['sleep_duration(hr)'] = df_smartwatch.sleep.apply(get_sleep_duration)\n",
        "\n",
        "#Rearranging columns\n",
        "cols = df_smartwatch.columns.to_list()\n",
        "cols = cols[:3] + cols[-3:] + cols[3:-3]\n",
        "df_smartwatch = df_smartwatch[cols]\n",
        "df_smartwatch.head(8)"
      ],
      "execution_count": null,
      "outputs": [
        {
          "output_type": "execute_result",
          "data": {
            "text/html": [
              "<div>\n",
              "<style scoped>\n",
              "    .dataframe tbody tr th:only-of-type {\n",
              "        vertical-align: middle;\n",
              "    }\n",
              "\n",
              "    .dataframe tbody tr th {\n",
              "        vertical-align: top;\n",
              "    }\n",
              "\n",
              "    .dataframe thead th {\n",
              "        text-align: right;\n",
              "    }\n",
              "</style>\n",
              "<table border=\"1\" class=\"dataframe\">\n",
              "  <thead>\n",
              "    <tr style=\"text-align: right;\">\n",
              "      <th></th>\n",
              "      <th>date</th>\n",
              "      <th>sleep</th>\n",
              "      <th>deep_sleep</th>\n",
              "      <th>sleep_start</th>\n",
              "      <th>wakeup_time</th>\n",
              "      <th>sleep_duration(hr)</th>\n",
              "      <th>steps_walked</th>\n",
              "      <th>km_walked</th>\n",
              "      <th>avg_heart_rate</th>\n",
              "      <th>stress</th>\n",
              "      <th>calories</th>\n",
              "      <th>week</th>\n",
              "    </tr>\n",
              "  </thead>\n",
              "  <tbody>\n",
              "    <tr>\n",
              "      <th>0</th>\n",
              "      <td>23rd August</td>\n",
              "      <td>7:54 PM - 4:50 AM</td>\n",
              "      <td>48</td>\n",
              "      <td>7:54 PM</td>\n",
              "      <td>4:50 AM</td>\n",
              "      <td>8.93</td>\n",
              "      <td>6893</td>\n",
              "      <td>5.40</td>\n",
              "      <td>54</td>\n",
              "      <td>40</td>\n",
              "      <td>3133</td>\n",
              "      <td>1</td>\n",
              "    </tr>\n",
              "    <tr>\n",
              "      <th>1</th>\n",
              "      <td>24th August</td>\n",
              "      <td>5:55 PM - 12:23 AM</td>\n",
              "      <td>48</td>\n",
              "      <td>5:55 PM</td>\n",
              "      <td>12:23 AM</td>\n",
              "      <td>6.47</td>\n",
              "      <td>17430</td>\n",
              "      <td>14.62</td>\n",
              "      <td>55</td>\n",
              "      <td>38</td>\n",
              "      <td>3607</td>\n",
              "      <td>1</td>\n",
              "    </tr>\n",
              "    <tr>\n",
              "      <th>2</th>\n",
              "      <td>25th August</td>\n",
              "      <td>9:59 PM - 5:48 AM</td>\n",
              "      <td>77</td>\n",
              "      <td>9:59 PM</td>\n",
              "      <td>5:48 AM</td>\n",
              "      <td>7.82</td>\n",
              "      <td>7339</td>\n",
              "      <td>5.94</td>\n",
              "      <td>51</td>\n",
              "      <td>22</td>\n",
              "      <td>2670</td>\n",
              "      <td>1</td>\n",
              "    </tr>\n",
              "    <tr>\n",
              "      <th>3</th>\n",
              "      <td>26th August</td>\n",
              "      <td>7:53 PM - 12:53 AM</td>\n",
              "      <td>48</td>\n",
              "      <td>7:53 PM</td>\n",
              "      <td>12:53 AM</td>\n",
              "      <td>5.00</td>\n",
              "      <td>4195</td>\n",
              "      <td>3.55</td>\n",
              "      <td>51</td>\n",
              "      <td>33</td>\n",
              "      <td>2634</td>\n",
              "      <td>1</td>\n",
              "    </tr>\n",
              "    <tr>\n",
              "      <th>4</th>\n",
              "      <td>27th August</td>\n",
              "      <td>8:38 PM - 1:38 AM</td>\n",
              "      <td>10</td>\n",
              "      <td>8:38 PM</td>\n",
              "      <td>1:38 AM</td>\n",
              "      <td>5.00</td>\n",
              "      <td>6110</td>\n",
              "      <td>4.93</td>\n",
              "      <td>50</td>\n",
              "      <td>17</td>\n",
              "      <td>2697</td>\n",
              "      <td>1</td>\n",
              "    </tr>\n",
              "    <tr>\n",
              "      <th>5</th>\n",
              "      <td>28th August</td>\n",
              "      <td>8:55 PM - 6:36 AM</td>\n",
              "      <td>112</td>\n",
              "      <td>8:55 PM</td>\n",
              "      <td>6:36 AM</td>\n",
              "      <td>9.68</td>\n",
              "      <td>7532</td>\n",
              "      <td>6.08</td>\n",
              "      <td>53</td>\n",
              "      <td>29</td>\n",
              "      <td>2869</td>\n",
              "      <td>1</td>\n",
              "    </tr>\n",
              "    <tr>\n",
              "      <th>6</th>\n",
              "      <td>29th August</td>\n",
              "      <td>8:21 PM - 5:26 AM</td>\n",
              "      <td>109</td>\n",
              "      <td>8:21 PM</td>\n",
              "      <td>5:26 AM</td>\n",
              "      <td>9.08</td>\n",
              "      <td>8369</td>\n",
              "      <td>7.02</td>\n",
              "      <td>52</td>\n",
              "      <td>20</td>\n",
              "      <td>2800</td>\n",
              "      <td>1</td>\n",
              "    </tr>\n",
              "    <tr>\n",
              "      <th>7</th>\n",
              "      <td>30th August</td>\n",
              "      <td>10:14 PM - 4:37 AM</td>\n",
              "      <td>75</td>\n",
              "      <td>10:14 PM</td>\n",
              "      <td>4:37 AM</td>\n",
              "      <td>6.38</td>\n",
              "      <td>7567</td>\n",
              "      <td>8.00</td>\n",
              "      <td>53</td>\n",
              "      <td>31</td>\n",
              "      <td>3133</td>\n",
              "      <td>2</td>\n",
              "    </tr>\n",
              "  </tbody>\n",
              "</table>\n",
              "</div>"
            ],
            "text/plain": [
              "          date               sleep  deep_sleep  ... stress calories  week\n",
              "0  23rd August   7:54 PM - 4:50 AM          48  ...     40     3133     1\n",
              "1  24th August  5:55 PM - 12:23 AM          48  ...     38     3607     1\n",
              "2  25th August   9:59 PM - 5:48 AM          77  ...     22     2670     1\n",
              "3  26th August  7:53 PM - 12:53 AM          48  ...     33     2634     1\n",
              "4  27th August   8:38 PM - 1:38 AM          10  ...     17     2697     1\n",
              "5  28th August   8:55 PM - 6:36 AM         112  ...     29     2869     1\n",
              "6  29th August   8:21 PM - 5:26 AM         109  ...     20     2800     1\n",
              "7  30th August  10:14 PM - 4:37 AM          75  ...     31     3133     2\n",
              "\n",
              "[8 rows x 12 columns]"
            ]
          },
          "metadata": {
            "tags": []
          },
          "execution_count": 25
        }
      ]
    },
    {
      "cell_type": "markdown",
      "metadata": {
        "id": "rzrHTclqhIN7"
      },
      "source": [
        "### **df_exercise**"
      ]
    },
    {
      "cell_type": "code",
      "metadata": {
        "id": "3NG_g9kR1Fzc",
        "colab": {
          "base_uri": "https://localhost:8080/",
          "height": 297
        },
        "outputId": "8f50e943-9eb9-4457-da62-6ea14547974a"
      },
      "source": [
        "df_exercise['time_span'] = df_exercise.time_span.apply(lambda x : int(get_duration(x) * 60))\n",
        "df_exercise.rename(columns={'time_span' : 'duration(min)'}, inplace=True)\n",
        "df_exercise.head(8)"
      ],
      "execution_count": null,
      "outputs": [
        {
          "output_type": "execute_result",
          "data": {
            "text/html": [
              "<div>\n",
              "<style scoped>\n",
              "    .dataframe tbody tr th:only-of-type {\n",
              "        vertical-align: middle;\n",
              "    }\n",
              "\n",
              "    .dataframe tbody tr th {\n",
              "        vertical-align: top;\n",
              "    }\n",
              "\n",
              "    .dataframe thead th {\n",
              "        text-align: right;\n",
              "    }\n",
              "</style>\n",
              "<table border=\"1\" class=\"dataframe\">\n",
              "  <thead>\n",
              "    <tr style=\"text-align: right;\">\n",
              "      <th></th>\n",
              "      <th>duration(min)</th>\n",
              "      <th>activity</th>\n",
              "      <th>measurement</th>\n",
              "      <th>bpm</th>\n",
              "      <th>date</th>\n",
              "    </tr>\n",
              "  </thead>\n",
              "  <tbody>\n",
              "    <tr>\n",
              "      <th>0</th>\n",
              "      <td>32</td>\n",
              "      <td>Cycling</td>\n",
              "      <td>9.21 km</td>\n",
              "      <td>121.0</td>\n",
              "      <td>23rd August</td>\n",
              "    </tr>\n",
              "    <tr>\n",
              "      <th>1</th>\n",
              "      <td>49</td>\n",
              "      <td>Walking</td>\n",
              "      <td>4.31 km</td>\n",
              "      <td>109.0</td>\n",
              "      <td>23rd August</td>\n",
              "    </tr>\n",
              "    <tr>\n",
              "      <th>2</th>\n",
              "      <td>30</td>\n",
              "      <td>Workout</td>\n",
              "      <td>2 x Workout</td>\n",
              "      <td>NaN</td>\n",
              "      <td>23rd August</td>\n",
              "    </tr>\n",
              "    <tr>\n",
              "      <th>3</th>\n",
              "      <td>30</td>\n",
              "      <td>Cycling</td>\n",
              "      <td>9.21 km</td>\n",
              "      <td>121.0</td>\n",
              "      <td>24th August</td>\n",
              "    </tr>\n",
              "    <tr>\n",
              "      <th>4</th>\n",
              "      <td>52</td>\n",
              "      <td>Walking</td>\n",
              "      <td>4.30 km</td>\n",
              "      <td>109.0</td>\n",
              "      <td>24th August</td>\n",
              "    </tr>\n",
              "    <tr>\n",
              "      <th>5</th>\n",
              "      <td>15</td>\n",
              "      <td>Workout</td>\n",
              "      <td>1 set</td>\n",
              "      <td>101.0</td>\n",
              "      <td>24th August</td>\n",
              "    </tr>\n",
              "    <tr>\n",
              "      <th>6</th>\n",
              "      <td>53</td>\n",
              "      <td>Walking</td>\n",
              "      <td>4.23 km</td>\n",
              "      <td>99.0</td>\n",
              "      <td>25th August</td>\n",
              "    </tr>\n",
              "    <tr>\n",
              "      <th>7</th>\n",
              "      <td>17</td>\n",
              "      <td>Cycling</td>\n",
              "      <td>4.25 km</td>\n",
              "      <td>117.0</td>\n",
              "      <td>27th August</td>\n",
              "    </tr>\n",
              "  </tbody>\n",
              "</table>\n",
              "</div>"
            ],
            "text/plain": [
              "   duration(min) activity   measurement    bpm         date\n",
              "0             32  Cycling      9.21 km   121.0  23rd August\n",
              "1             49  Walking      4.31 km   109.0  23rd August\n",
              "2             30  Workout  2 x Workout     NaN  23rd August\n",
              "3             30  Cycling      9.21 km   121.0  24th August\n",
              "4             52  Walking      4.30 km   109.0  24th August\n",
              "5             15  Workout        1 set   101.0  24th August\n",
              "6             53  Walking      4.23 km    99.0  25th August\n",
              "7             17  Cycling      4.25 km   117.0  27th August"
            ]
          },
          "metadata": {
            "tags": []
          },
          "execution_count": 26
        }
      ]
    },
    {
      "cell_type": "markdown",
      "metadata": {
        "id": "Jev7nGb6aWQH"
      },
      "source": [
        "Adding another column - speed for cycling and walking, where speed = distance / time"
      ]
    },
    {
      "cell_type": "code",
      "metadata": {
        "id": "rOpViJ_laVkq",
        "colab": {
          "base_uri": "https://localhost:8080/",
          "height": 204
        },
        "outputId": "30ffb179-c862-4895-ba24-5c06809ad3c5"
      },
      "source": [
        "def get_speed(x):\n",
        "    if x['activity'] not in ['Cycling', 'Walking']:\n",
        "        return float('NaN')\n",
        "    kms = float(x['measurement'].split(' ')[0])\n",
        "    time = float(x['duration(min)']) \n",
        "    return round(kms / time * 60, 2)\n",
        "\n",
        "#Speed is in km / hr\n",
        "df_exercise['speed'] = df_exercise.apply(get_speed, axis=1)\n",
        "df_exercise.head()"
      ],
      "execution_count": null,
      "outputs": [
        {
          "output_type": "execute_result",
          "data": {
            "text/html": [
              "<div>\n",
              "<style scoped>\n",
              "    .dataframe tbody tr th:only-of-type {\n",
              "        vertical-align: middle;\n",
              "    }\n",
              "\n",
              "    .dataframe tbody tr th {\n",
              "        vertical-align: top;\n",
              "    }\n",
              "\n",
              "    .dataframe thead th {\n",
              "        text-align: right;\n",
              "    }\n",
              "</style>\n",
              "<table border=\"1\" class=\"dataframe\">\n",
              "  <thead>\n",
              "    <tr style=\"text-align: right;\">\n",
              "      <th></th>\n",
              "      <th>duration(min)</th>\n",
              "      <th>activity</th>\n",
              "      <th>measurement</th>\n",
              "      <th>bpm</th>\n",
              "      <th>date</th>\n",
              "      <th>speed</th>\n",
              "    </tr>\n",
              "  </thead>\n",
              "  <tbody>\n",
              "    <tr>\n",
              "      <th>0</th>\n",
              "      <td>32</td>\n",
              "      <td>Cycling</td>\n",
              "      <td>9.21 km</td>\n",
              "      <td>121.0</td>\n",
              "      <td>23rd August</td>\n",
              "      <td>17.27</td>\n",
              "    </tr>\n",
              "    <tr>\n",
              "      <th>1</th>\n",
              "      <td>49</td>\n",
              "      <td>Walking</td>\n",
              "      <td>4.31 km</td>\n",
              "      <td>109.0</td>\n",
              "      <td>23rd August</td>\n",
              "      <td>5.28</td>\n",
              "    </tr>\n",
              "    <tr>\n",
              "      <th>2</th>\n",
              "      <td>30</td>\n",
              "      <td>Workout</td>\n",
              "      <td>2 x Workout</td>\n",
              "      <td>NaN</td>\n",
              "      <td>23rd August</td>\n",
              "      <td>NaN</td>\n",
              "    </tr>\n",
              "    <tr>\n",
              "      <th>3</th>\n",
              "      <td>30</td>\n",
              "      <td>Cycling</td>\n",
              "      <td>9.21 km</td>\n",
              "      <td>121.0</td>\n",
              "      <td>24th August</td>\n",
              "      <td>18.42</td>\n",
              "    </tr>\n",
              "    <tr>\n",
              "      <th>4</th>\n",
              "      <td>52</td>\n",
              "      <td>Walking</td>\n",
              "      <td>4.30 km</td>\n",
              "      <td>109.0</td>\n",
              "      <td>24th August</td>\n",
              "      <td>4.96</td>\n",
              "    </tr>\n",
              "  </tbody>\n",
              "</table>\n",
              "</div>"
            ],
            "text/plain": [
              "   duration(min) activity   measurement    bpm         date  speed\n",
              "0             32  Cycling      9.21 km   121.0  23rd August  17.27\n",
              "1             49  Walking      4.31 km   109.0  23rd August   5.28\n",
              "2             30  Workout  2 x Workout     NaN  23rd August    NaN\n",
              "3             30  Cycling      9.21 km   121.0  24th August  18.42\n",
              "4             52  Walking      4.30 km   109.0  24th August   4.96"
            ]
          },
          "metadata": {
            "tags": []
          },
          "execution_count": 27
        }
      ]
    },
    {
      "cell_type": "markdown",
      "metadata": {
        "id": "aZL2jnr9bnEm"
      },
      "source": [
        "Got the speed in km/hr"
      ]
    },
    {
      "cell_type": "markdown",
      "metadata": {
        "id": "r5m35-P3jSaD"
      },
      "source": [
        "Saving all the dataframes"
      ]
    },
    {
      "cell_type": "code",
      "metadata": {
        "id": "wfMQw-kU1Foc"
      },
      "source": [
        "SAVE_PATH = './100D Data/Final Dataframes'\n",
        "DF = [df_code, df_exercise, df_smartwatch, df_extra]\n",
        "NAMES = ['df_code', 'df_exercise', 'df_smartwatch', 'df_extra']\n",
        "for df, name in zip(DF, NAMES):\n",
        "    path = os.path.join(SAVE_PATH, name)\n",
        "    df.to_csv(path, index=False)\n",
        "df_date.to_csv(os.path.join(SAVE_PATH, 'df_date'))"
      ],
      "execution_count": null,
      "outputs": []
    },
    {
      "cell_type": "code",
      "metadata": {
        "id": "NnEeXTeXgwZI"
      },
      "source": [
        ""
      ],
      "execution_count": null,
      "outputs": []
    }
  ]
}