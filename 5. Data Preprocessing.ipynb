{
  "nbformat": 4,
  "nbformat_minor": 0,
  "metadata": {
    "colab": {
      "name": "Data Preprocessing.ipynb",
      "provenance": [],
      "mount_file_id": "1FgV90yMsiIVwVnQ-UgTGaz1mHcasXH7g",
      "authorship_tag": "ABX9TyMXoTrjCWq4G1uC43WaVf+V",
      "include_colab_link": true
    },
    "kernelspec": {
      "name": "python3",
      "display_name": "Python 3"
    }
  },
  "cells": [
    {
      "cell_type": "markdown",
      "metadata": {
        "id": "view-in-github",
        "colab_type": "text"
      },
      "source": [
        "<a href=\"https://colab.research.google.com/github/sarthak-314/100-Days-in-Data/blob/master/5.%20Data%20Preprocessing.ipynb\" target=\"_parent\"><img src=\"https://colab.research.google.com/assets/colab-badge.svg\" alt=\"Open In Colab\"/></a>"
      ]
    },
    {
      "cell_type": "markdown",
      "metadata": {
        "id": "R2j9UL5uWJ4k",
        "colab_type": "text"
      },
      "source": [
        "# **DATA PREPROCESSING**\n",
        "***"
      ]
    },
    {
      "cell_type": "code",
      "metadata": {
        "id": "oJuANFu3U8PR",
        "colab_type": "code",
        "colab": {}
      },
      "source": [
        "import os\n",
        "import pandas as pd\n",
        "import seaborn as sns\n",
        "import matplotlib.pyplot as plt\n",
        "\n",
        "sns.set(font_scale=1.5)\n",
        "\n",
        "DF_PATH = './100D Data/Final Dataframes'\n",
        "%cd /content/drive/My\\ Drive"
      ],
      "execution_count": null,
      "outputs": []
    },
    {
      "cell_type": "code",
      "metadata": {
        "id": "wwM6VcoZVTNN",
        "colab_type": "code",
        "colab": {}
      },
      "source": [
        "df_code = pd.read_csv(os.path.join(DF_PATH, 'df_code'))\n",
        "df_smartwatch = pd.read_csv(os.path.join(DF_PATH, 'df_smartwatch'))\n",
        "df_date = pd.read_csv(os.path.join(DF_PATH, 'df_date'))"
      ],
      "execution_count": null,
      "outputs": []
    },
    {
      "cell_type": "markdown",
      "metadata": {
        "id": "WikB74HrOATO",
        "colab_type": "text"
      },
      "source": [
        "I want to predict the total coding time for a particular day given some features of the day. "
      ]
    },
    {
      "cell_type": "markdown",
      "metadata": {
        "id": "TxdFaXfbWSOQ",
        "colab_type": "text"
      },
      "source": [
        "## **Feature Selection**\n",
        "Selecting the features that are most correlated with total coding time"
      ]
    },
    {
      "cell_type": "code",
      "metadata": {
        "id": "vBg2tva7WCNt",
        "colab_type": "code",
        "colab": {
          "base_uri": "https://localhost:8080/",
          "height": 315
        },
        "outputId": "7528850d-f00b-4d66-cee1-50012b613db9"
      },
      "source": [
        "grouped_df = df_code.groupby('date')['duration(hr)'].sum().reset_index()\n",
        "df = grouped_df.merge(df_smartwatch, on='date')\n",
        "df = df.rename({'duration(hr)' : 'total_code_time'}, axis=1)\n",
        "df.head(3)"
      ],
      "execution_count": null,
      "outputs": [
        {
          "output_type": "execute_result",
          "data": {
            "text/html": [
              "<div>\n",
              "<style scoped>\n",
              "    .dataframe tbody tr th:only-of-type {\n",
              "        vertical-align: middle;\n",
              "    }\n",
              "\n",
              "    .dataframe tbody tr th {\n",
              "        vertical-align: top;\n",
              "    }\n",
              "\n",
              "    .dataframe thead th {\n",
              "        text-align: right;\n",
              "    }\n",
              "</style>\n",
              "<table border=\"1\" class=\"dataframe\">\n",
              "  <thead>\n",
              "    <tr style=\"text-align: right;\">\n",
              "      <th></th>\n",
              "      <th>date</th>\n",
              "      <th>total_code_time</th>\n",
              "      <th>sleep</th>\n",
              "      <th>deep_sleep</th>\n",
              "      <th>sleep_start</th>\n",
              "      <th>wakeup_time</th>\n",
              "      <th>sleep_duration(hr)</th>\n",
              "      <th>steps_walked</th>\n",
              "      <th>km_walked</th>\n",
              "      <th>avg_heart_rate</th>\n",
              "      <th>stress</th>\n",
              "      <th>calories</th>\n",
              "      <th>week</th>\n",
              "    </tr>\n",
              "  </thead>\n",
              "  <tbody>\n",
              "    <tr>\n",
              "      <th>0</th>\n",
              "      <td>1st September</td>\n",
              "      <td>7.25</td>\n",
              "      <td>9:21 PM - 4:47 AM</td>\n",
              "      <td>72</td>\n",
              "      <td>9:21 PM</td>\n",
              "      <td>4:47 AM</td>\n",
              "      <td>7.43</td>\n",
              "      <td>7101</td>\n",
              "      <td>6.02</td>\n",
              "      <td>58</td>\n",
              "      <td>43</td>\n",
              "      <td>2670</td>\n",
              "      <td>2</td>\n",
              "    </tr>\n",
              "    <tr>\n",
              "      <th>1</th>\n",
              "      <td>23rd August</td>\n",
              "      <td>7.25</td>\n",
              "      <td>7:54 PM - 4:50 AM</td>\n",
              "      <td>48</td>\n",
              "      <td>7:54 PM</td>\n",
              "      <td>4:50 AM</td>\n",
              "      <td>8.93</td>\n",
              "      <td>6893</td>\n",
              "      <td>5.40</td>\n",
              "      <td>54</td>\n",
              "      <td>40</td>\n",
              "      <td>3133</td>\n",
              "      <td>1</td>\n",
              "    </tr>\n",
              "    <tr>\n",
              "      <th>2</th>\n",
              "      <td>24th August</td>\n",
              "      <td>9.25</td>\n",
              "      <td>5:55 PM - 12:23 AM</td>\n",
              "      <td>48</td>\n",
              "      <td>5:55 PM</td>\n",
              "      <td>12:23 AM</td>\n",
              "      <td>6.47</td>\n",
              "      <td>17430</td>\n",
              "      <td>14.62</td>\n",
              "      <td>55</td>\n",
              "      <td>38</td>\n",
              "      <td>3607</td>\n",
              "      <td>1</td>\n",
              "    </tr>\n",
              "  </tbody>\n",
              "</table>\n",
              "</div>"
            ],
            "text/plain": [
              "            date  total_code_time               sleep  ...  stress calories week\n",
              "0  1st September             7.25   9:21 PM - 4:47 AM  ...      43     2670    2\n",
              "1    23rd August             7.25   7:54 PM - 4:50 AM  ...      40     3133    1\n",
              "2    24th August             9.25  5:55 PM - 12:23 AM  ...      38     3607    1\n",
              "\n",
              "[3 rows x 13 columns]"
            ]
          },
          "metadata": {
            "tags": []
          },
          "execution_count": 60
        }
      ]
    },
    {
      "cell_type": "markdown",
      "metadata": {
        "id": "PIP96cTUXMJj",
        "colab_type": "text"
      },
      "source": [
        "Let's see how the features are correlated"
      ]
    },
    {
      "cell_type": "code",
      "metadata": {
        "id": "ANIXh0cVWtvu",
        "colab_type": "code",
        "colab": {
          "base_uri": "https://localhost:8080/",
          "height": 745
        },
        "outputId": "025b80ec-02e4-41a1-9af9-227a75aff24b"
      },
      "source": [
        "plt.figure(figsize=(10, 10))\n",
        "correlation = df.drop('week', axis=1).corr()\n",
        "sns.heatmap(correlation, square=True)\n",
        "columns = correlation.nlargest(7, 'total_code_time').index\n",
        "print('Total code time shows highest correlation with the features : \\x1b[32m', columns.to_list()[1:])\n",
        "print('\\n')"
      ],
      "execution_count": null,
      "outputs": [
        {
          "output_type": "stream",
          "text": [
            "Total code time shows highest correlation with the features : \u001b[32m ['stress', 'avg_heart_rate', 'steps_walked', 'km_walked', 'calories', 'deep_sleep']\n",
            "\n",
            "\n"
          ],
          "name": "stdout"
        },
        {
          "output_type": "display_data",
          "data": {
            "image/png": "[encoded data removed]",
            "text/plain": [
              "<Figure size 720x720 with 2 Axes>"
            ]
          },
          "metadata": {
            "tags": [],
            "needs_background": "light"
          }
        }
      ]
    },
    {
      "cell_type": "markdown",
      "metadata": {
        "id": "HHiWp008Fz7H",
        "colab_type": "text"
      },
      "source": [
        "We only know deep sleep and total sleep duration for the day before it starts. **Deep sleep is a better predictor for total code time than total sleep duration** so I will take deep sleep as feature #1"
      ]
    },
    {
      "cell_type": "markdown",
      "metadata": {
        "id": "or1oTljda_EF",
        "colab_type": "text"
      },
      "source": [
        "**Dividing each week into - weekstart, weekmid and weekend**\n",
        "\n",
        "Instead of 7 categories - Sunday, Monday.. etc, I only take 3 categories"
      ]
    },
    {
      "cell_type": "code",
      "metadata": {
        "id": "ZYYxogznZnvW",
        "colab_type": "code",
        "colab": {
          "base_uri": "https://localhost:8080/",
          "height": 204
        },
        "outputId": "d4cf1262-8550-4ea5-8da3-26c81146d370"
      },
      "source": [
        "def get_weekday(x):\n",
        "    days = x['days_after_break']\n",
        "    weekdays = x['days_in_week']\n",
        "    if days <= weekdays/3: return 'weekstart'\n",
        "    if days <= 2*weekdays/3: return 'weekmid'\n",
        "    else: return 'weekend'\n",
        "\n",
        "df_date['days_in_week'] = df_date.week.apply(lambda x : df_date.groupby('week')['date'].count()[x])\n",
        "df_date['weekday'] = df_date.apply(get_weekday, axis=1)\n",
        "df_date.drop('days_in_week', axis=1, inplace=True)\n",
        "df_date.head()"
      ],
      "execution_count": null,
      "outputs": [
        {
          "output_type": "execute_result",
          "data": {
            "text/html": [
              "<div>\n",
              "<style scoped>\n",
              "    .dataframe tbody tr th:only-of-type {\n",
              "        vertical-align: middle;\n",
              "    }\n",
              "\n",
              "    .dataframe tbody tr th {\n",
              "        vertical-align: top;\n",
              "    }\n",
              "\n",
              "    .dataframe thead th {\n",
              "        text-align: right;\n",
              "    }\n",
              "</style>\n",
              "<table border=\"1\" class=\"dataframe\">\n",
              "  <thead>\n",
              "    <tr style=\"text-align: right;\">\n",
              "      <th></th>\n",
              "      <th>date</th>\n",
              "      <th>day_number</th>\n",
              "      <th>is_halfday</th>\n",
              "      <th>days_after_break</th>\n",
              "      <th>week</th>\n",
              "      <th>weekday</th>\n",
              "    </tr>\n",
              "  </thead>\n",
              "  <tbody>\n",
              "    <tr>\n",
              "      <th>0</th>\n",
              "      <td>23rd August</td>\n",
              "      <td>0.0</td>\n",
              "      <td>False</td>\n",
              "      <td>1</td>\n",
              "      <td>1</td>\n",
              "      <td>weekstart</td>\n",
              "    </tr>\n",
              "    <tr>\n",
              "      <th>1</th>\n",
              "      <td>24th August</td>\n",
              "      <td>1.0</td>\n",
              "      <td>False</td>\n",
              "      <td>2</td>\n",
              "      <td>1</td>\n",
              "      <td>weekstart</td>\n",
              "    </tr>\n",
              "    <tr>\n",
              "      <th>2</th>\n",
              "      <td>25th August</td>\n",
              "      <td>2.0</td>\n",
              "      <td>False</td>\n",
              "      <td>3</td>\n",
              "      <td>1</td>\n",
              "      <td>weekmid</td>\n",
              "    </tr>\n",
              "    <tr>\n",
              "      <th>3</th>\n",
              "      <td>26th August</td>\n",
              "      <td>3.0</td>\n",
              "      <td>False</td>\n",
              "      <td>4</td>\n",
              "      <td>1</td>\n",
              "      <td>weekmid</td>\n",
              "    </tr>\n",
              "    <tr>\n",
              "      <th>4</th>\n",
              "      <td>27th August</td>\n",
              "      <td>4.0</td>\n",
              "      <td>False</td>\n",
              "      <td>5</td>\n",
              "      <td>1</td>\n",
              "      <td>weekend</td>\n",
              "    </tr>\n",
              "  </tbody>\n",
              "</table>\n",
              "</div>"
            ],
            "text/plain": [
              "          date  day_number is_halfday  days_after_break  week    weekday\n",
              "0  23rd August         0.0      False                 1     1  weekstart\n",
              "1  24th August         1.0      False                 2     1  weekstart\n",
              "2  25th August         2.0      False                 3     1    weekmid\n",
              "3  26th August         3.0      False                 4     1    weekmid\n",
              "4  27th August         4.0      False                 5     1    weekend"
            ]
          },
          "metadata": {
            "tags": []
          },
          "execution_count": 62
        }
      ]
    },
    {
      "cell_type": "markdown",
      "metadata": {
        "id": "H2679gO2d1u6",
        "colab_type": "text"
      },
      "source": [
        "Merging df with df_date"
      ]
    },
    {
      "cell_type": "code",
      "metadata": {
        "id": "QiLoO76SvtFX",
        "colab_type": "code",
        "colab": {
          "base_uri": "https://localhost:8080/",
          "height": 34
        },
        "outputId": "09d1d1ae-abea-446e-81a7-01b02c42fbe9"
      },
      "source": [
        "df.day_number.dtype"
      ],
      "execution_count": null,
      "outputs": [
        {
          "output_type": "execute_result",
          "data": {
            "text/plain": [
              "dtype('float64')"
            ]
          },
          "metadata": {
            "tags": []
          },
          "execution_count": 65
        }
      ]
    },
    {
      "cell_type": "code",
      "metadata": {
        "id": "_HvJ6ZpUaStQ",
        "colab_type": "code",
        "colab": {
          "base_uri": "https://localhost:8080/",
          "height": 479
        },
        "outputId": "3fd1863d-fc10-4ce8-a92c-5c749ef630a7"
      },
      "source": [
        "df = df.merge(df_date[['date', 'weekday', 'day_number']], on='date')\n",
        "df = df.sort_values(by=['day_number'])\n",
        "df.head()"
      ],
      "execution_count": null,
      "outputs": [
        {
          "output_type": "execute_result",
          "data": {
            "text/html": [
              "<div>\n",
              "<style scoped>\n",
              "    .dataframe tbody tr th:only-of-type {\n",
              "        vertical-align: middle;\n",
              "    }\n",
              "\n",
              "    .dataframe tbody tr th {\n",
              "        vertical-align: top;\n",
              "    }\n",
              "\n",
              "    .dataframe thead th {\n",
              "        text-align: right;\n",
              "    }\n",
              "</style>\n",
              "<table border=\"1\" class=\"dataframe\">\n",
              "  <thead>\n",
              "    <tr style=\"text-align: right;\">\n",
              "      <th></th>\n",
              "      <th>date</th>\n",
              "      <th>total_code_time</th>\n",
              "      <th>sleep</th>\n",
              "      <th>deep_sleep</th>\n",
              "      <th>sleep_start</th>\n",
              "      <th>wakeup_time</th>\n",
              "      <th>sleep_duration(hr)</th>\n",
              "      <th>steps_walked</th>\n",
              "      <th>km_walked</th>\n",
              "      <th>avg_heart_rate</th>\n",
              "      <th>stress</th>\n",
              "      <th>calories</th>\n",
              "      <th>week</th>\n",
              "      <th>weekday</th>\n",
              "      <th>day_number</th>\n",
              "    </tr>\n",
              "  </thead>\n",
              "  <tbody>\n",
              "    <tr>\n",
              "      <th>1</th>\n",
              "      <td>23rd August</td>\n",
              "      <td>7.25</td>\n",
              "      <td>7:54 PM - 4:50 AM</td>\n",
              "      <td>48</td>\n",
              "      <td>7:54 PM</td>\n",
              "      <td>4:50 AM</td>\n",
              "      <td>8.93</td>\n",
              "      <td>6893</td>\n",
              "      <td>5.40</td>\n",
              "      <td>54</td>\n",
              "      <td>40</td>\n",
              "      <td>3133</td>\n",
              "      <td>1</td>\n",
              "      <td>weekstart</td>\n",
              "      <td>0.0</td>\n",
              "    </tr>\n",
              "    <tr>\n",
              "      <th>2</th>\n",
              "      <td>24th August</td>\n",
              "      <td>9.25</td>\n",
              "      <td>5:55 PM - 12:23 AM</td>\n",
              "      <td>48</td>\n",
              "      <td>5:55 PM</td>\n",
              "      <td>12:23 AM</td>\n",
              "      <td>6.47</td>\n",
              "      <td>17430</td>\n",
              "      <td>14.62</td>\n",
              "      <td>55</td>\n",
              "      <td>38</td>\n",
              "      <td>3607</td>\n",
              "      <td>1</td>\n",
              "      <td>weekstart</td>\n",
              "      <td>1.0</td>\n",
              "    </tr>\n",
              "    <tr>\n",
              "      <th>3</th>\n",
              "      <td>25th August</td>\n",
              "      <td>5.50</td>\n",
              "      <td>9:59 PM - 5:48 AM</td>\n",
              "      <td>77</td>\n",
              "      <td>9:59 PM</td>\n",
              "      <td>5:48 AM</td>\n",
              "      <td>7.82</td>\n",
              "      <td>7339</td>\n",
              "      <td>5.94</td>\n",
              "      <td>51</td>\n",
              "      <td>22</td>\n",
              "      <td>2670</td>\n",
              "      <td>1</td>\n",
              "      <td>weekmid</td>\n",
              "      <td>2.0</td>\n",
              "    </tr>\n",
              "    <tr>\n",
              "      <th>4</th>\n",
              "      <td>26th August</td>\n",
              "      <td>9.00</td>\n",
              "      <td>7:53 PM - 12:53 AM</td>\n",
              "      <td>48</td>\n",
              "      <td>7:53 PM</td>\n",
              "      <td>12:53 AM</td>\n",
              "      <td>5.00</td>\n",
              "      <td>4195</td>\n",
              "      <td>3.55</td>\n",
              "      <td>51</td>\n",
              "      <td>33</td>\n",
              "      <td>2634</td>\n",
              "      <td>1</td>\n",
              "      <td>weekmid</td>\n",
              "      <td>3.0</td>\n",
              "    </tr>\n",
              "    <tr>\n",
              "      <th>5</th>\n",
              "      <td>27th August</td>\n",
              "      <td>6.75</td>\n",
              "      <td>8:38 PM - 1:38 AM</td>\n",
              "      <td>10</td>\n",
              "      <td>8:38 PM</td>\n",
              "      <td>1:38 AM</td>\n",
              "      <td>5.00</td>\n",
              "      <td>6110</td>\n",
              "      <td>4.93</td>\n",
              "      <td>50</td>\n",
              "      <td>17</td>\n",
              "      <td>2697</td>\n",
              "      <td>1</td>\n",
              "      <td>weekend</td>\n",
              "      <td>4.0</td>\n",
              "    </tr>\n",
              "  </tbody>\n",
              "</table>\n",
              "</div>"
            ],
            "text/plain": [
              "          date  total_code_time  ...    weekday  day_number\n",
              "1  23rd August             7.25  ...  weekstart         0.0\n",
              "2  24th August             9.25  ...  weekstart         1.0\n",
              "3  25th August             5.50  ...    weekmid         2.0\n",
              "4  26th August             9.00  ...    weekmid         3.0\n",
              "5  27th August             6.75  ...    weekend         4.0\n",
              "\n",
              "[5 rows x 15 columns]"
            ]
          },
          "metadata": {
            "tags": []
          },
          "execution_count": 66
        }
      ]
    },
    {
      "cell_type": "markdown",
      "metadata": {
        "id": "K-3kKQmOeUNs",
        "colab_type": "text"
      },
      "source": [
        "On wakeup time"
      ]
    },
    {
      "cell_type": "code",
      "metadata": {
        "id": "3XJMDZXheABr",
        "colab_type": "code",
        "colab": {}
      },
      "source": [
        "def get_wakeup_at_hr(wakeup_time):\n",
        "    time = wakeup_time.split(' ')[0]\n",
        "    hour, minute = time.split(':')\n",
        "    wakeup_at_hr = round(int(hour) + float(minute) / 60, 3)\n",
        "    return wakeup_at_hr\n",
        "\n",
        "df['wakeup_at_hr'] = df.wakeup_time.apply(get_wakeup_at_hr)"
      ],
      "execution_count": null,
      "outputs": []
    },
    {
      "cell_type": "code",
      "metadata": {
        "id": "JXXkM_6KQhK8",
        "colab_type": "code",
        "colab": {
          "base_uri": "https://localhost:8080/",
          "height": 479
        },
        "outputId": "3f67a61c-2730-4ca7-fa70-7ac753159816"
      },
      "source": [
        "df.head()"
      ],
      "execution_count": null,
      "outputs": [
        {
          "output_type": "execute_result",
          "data": {
            "text/html": [
              "<div>\n",
              "<style scoped>\n",
              "    .dataframe tbody tr th:only-of-type {\n",
              "        vertical-align: middle;\n",
              "    }\n",
              "\n",
              "    .dataframe tbody tr th {\n",
              "        vertical-align: top;\n",
              "    }\n",
              "\n",
              "    .dataframe thead th {\n",
              "        text-align: right;\n",
              "    }\n",
              "</style>\n",
              "<table border=\"1\" class=\"dataframe\">\n",
              "  <thead>\n",
              "    <tr style=\"text-align: right;\">\n",
              "      <th></th>\n",
              "      <th>date</th>\n",
              "      <th>total_code_time</th>\n",
              "      <th>sleep</th>\n",
              "      <th>deep_sleep</th>\n",
              "      <th>sleep_start</th>\n",
              "      <th>wakeup_time</th>\n",
              "      <th>sleep_duration(hr)</th>\n",
              "      <th>steps_walked</th>\n",
              "      <th>km_walked</th>\n",
              "      <th>avg_heart_rate</th>\n",
              "      <th>stress</th>\n",
              "      <th>calories</th>\n",
              "      <th>week</th>\n",
              "      <th>weekday</th>\n",
              "      <th>day_number</th>\n",
              "      <th>wakeup_at_hr</th>\n",
              "    </tr>\n",
              "  </thead>\n",
              "  <tbody>\n",
              "    <tr>\n",
              "      <th>1</th>\n",
              "      <td>23rd August</td>\n",
              "      <td>7.25</td>\n",
              "      <td>7:54 PM - 4:50 AM</td>\n",
              "      <td>48</td>\n",
              "      <td>7:54 PM</td>\n",
              "      <td>4:50 AM</td>\n",
              "      <td>8.93</td>\n",
              "      <td>6893</td>\n",
              "      <td>5.40</td>\n",
              "      <td>54</td>\n",
              "      <td>40</td>\n",
              "      <td>3133</td>\n",
              "      <td>1</td>\n",
              "      <td>weekstart</td>\n",
              "      <td>0.0</td>\n",
              "      <td>4.833</td>\n",
              "    </tr>\n",
              "    <tr>\n",
              "      <th>2</th>\n",
              "      <td>24th August</td>\n",
              "      <td>9.25</td>\n",
              "      <td>5:55 PM - 12:23 AM</td>\n",
              "      <td>48</td>\n",
              "      <td>5:55 PM</td>\n",
              "      <td>12:23 AM</td>\n",
              "      <td>6.47</td>\n",
              "      <td>17430</td>\n",
              "      <td>14.62</td>\n",
              "      <td>55</td>\n",
              "      <td>38</td>\n",
              "      <td>3607</td>\n",
              "      <td>1</td>\n",
              "      <td>weekstart</td>\n",
              "      <td>1.0</td>\n",
              "      <td>12.383</td>\n",
              "    </tr>\n",
              "    <tr>\n",
              "      <th>3</th>\n",
              "      <td>25th August</td>\n",
              "      <td>5.50</td>\n",
              "      <td>9:59 PM - 5:48 AM</td>\n",
              "      <td>77</td>\n",
              "      <td>9:59 PM</td>\n",
              "      <td>5:48 AM</td>\n",
              "      <td>7.82</td>\n",
              "      <td>7339</td>\n",
              "      <td>5.94</td>\n",
              "      <td>51</td>\n",
              "      <td>22</td>\n",
              "      <td>2670</td>\n",
              "      <td>1</td>\n",
              "      <td>weekmid</td>\n",
              "      <td>2.0</td>\n",
              "      <td>5.800</td>\n",
              "    </tr>\n",
              "    <tr>\n",
              "      <th>4</th>\n",
              "      <td>26th August</td>\n",
              "      <td>9.00</td>\n",
              "      <td>7:53 PM - 12:53 AM</td>\n",
              "      <td>48</td>\n",
              "      <td>7:53 PM</td>\n",
              "      <td>12:53 AM</td>\n",
              "      <td>5.00</td>\n",
              "      <td>4195</td>\n",
              "      <td>3.55</td>\n",
              "      <td>51</td>\n",
              "      <td>33</td>\n",
              "      <td>2634</td>\n",
              "      <td>1</td>\n",
              "      <td>weekmid</td>\n",
              "      <td>3.0</td>\n",
              "      <td>12.883</td>\n",
              "    </tr>\n",
              "    <tr>\n",
              "      <th>5</th>\n",
              "      <td>27th August</td>\n",
              "      <td>6.75</td>\n",
              "      <td>8:38 PM - 1:38 AM</td>\n",
              "      <td>10</td>\n",
              "      <td>8:38 PM</td>\n",
              "      <td>1:38 AM</td>\n",
              "      <td>5.00</td>\n",
              "      <td>6110</td>\n",
              "      <td>4.93</td>\n",
              "      <td>50</td>\n",
              "      <td>17</td>\n",
              "      <td>2697</td>\n",
              "      <td>1</td>\n",
              "      <td>weekend</td>\n",
              "      <td>4.0</td>\n",
              "      <td>1.633</td>\n",
              "    </tr>\n",
              "  </tbody>\n",
              "</table>\n",
              "</div>"
            ],
            "text/plain": [
              "          date  total_code_time  ... day_number  wakeup_at_hr\n",
              "1  23rd August             7.25  ...        0.0         4.833\n",
              "2  24th August             9.25  ...        1.0        12.383\n",
              "3  25th August             5.50  ...        2.0         5.800\n",
              "4  26th August             9.00  ...        3.0        12.883\n",
              "5  27th August             6.75  ...        4.0         1.633\n",
              "\n",
              "[5 rows x 16 columns]"
            ]
          },
          "metadata": {
            "tags": []
          },
          "execution_count": 68
        }
      ]
    },
    {
      "cell_type": "code",
      "metadata": {
        "id": "V4RuXINQPDl8",
        "colab_type": "code",
        "colab": {
          "base_uri": "https://localhost:8080/",
          "height": 111
        },
        "outputId": "8a2885ff-b8a5-47ba-a8ab-88a6c01c253b"
      },
      "source": [
        "df[['total_code_time', 'wakeup_at_hr']].corr()"
      ],
      "execution_count": null,
      "outputs": [
        {
          "output_type": "execute_result",
          "data": {
            "text/html": [
              "<div>\n",
              "<style scoped>\n",
              "    .dataframe tbody tr th:only-of-type {\n",
              "        vertical-align: middle;\n",
              "    }\n",
              "\n",
              "    .dataframe tbody tr th {\n",
              "        vertical-align: top;\n",
              "    }\n",
              "\n",
              "    .dataframe thead th {\n",
              "        text-align: right;\n",
              "    }\n",
              "</style>\n",
              "<table border=\"1\" class=\"dataframe\">\n",
              "  <thead>\n",
              "    <tr style=\"text-align: right;\">\n",
              "      <th></th>\n",
              "      <th>total_code_time</th>\n",
              "      <th>wakeup_at_hr</th>\n",
              "    </tr>\n",
              "  </thead>\n",
              "  <tbody>\n",
              "    <tr>\n",
              "      <th>total_code_time</th>\n",
              "      <td>1.000000</td>\n",
              "      <td>0.247264</td>\n",
              "    </tr>\n",
              "    <tr>\n",
              "      <th>wakeup_at_hr</th>\n",
              "      <td>0.247264</td>\n",
              "      <td>1.000000</td>\n",
              "    </tr>\n",
              "  </tbody>\n",
              "</table>\n",
              "</div>"
            ],
            "text/plain": [
              "                 total_code_time  wakeup_at_hr\n",
              "total_code_time         1.000000      0.247264\n",
              "wakeup_at_hr            0.247264      1.000000"
            ]
          },
          "metadata": {
            "tags": []
          },
          "execution_count": 69
        }
      ]
    },
    {
      "cell_type": "markdown",
      "metadata": {
        "id": "6EDHCLk-QQ_R",
        "colab_type": "text"
      },
      "source": [
        "total_code_time and wakeup_hr are highly correlated so I might take wakeup_hr as a feature in the future"
      ]
    },
    {
      "cell_type": "code",
      "metadata": {
        "id": "GPWfzj3WggBg",
        "colab_type": "code",
        "colab": {
          "base_uri": "https://localhost:8080/",
          "height": 235
        },
        "outputId": "ddb29ed4-24a0-4615-b2ce-824c23493f81"
      },
      "source": [
        "#TODO: Drop outliers\n",
        "X = df[['deep_sleep', 'wakeup_at_hr', 'weekday', 'date']]\n",
        "Y = df[['total_code_time', 'date']]\n",
        "\n",
        "# setting date as index column \n",
        "X.set_index('date', inplace=True) \n",
        "Y.set_index('date', inplace=True)\n",
        "\n",
        "#TODO: Sort the date values before stacking the shit\n",
        "X.head()"
      ],
      "execution_count": null,
      "outputs": [
        {
          "output_type": "execute_result",
          "data": {
            "text/html": [
              "<div>\n",
              "<style scoped>\n",
              "    .dataframe tbody tr th:only-of-type {\n",
              "        vertical-align: middle;\n",
              "    }\n",
              "\n",
              "    .dataframe tbody tr th {\n",
              "        vertical-align: top;\n",
              "    }\n",
              "\n",
              "    .dataframe thead th {\n",
              "        text-align: right;\n",
              "    }\n",
              "</style>\n",
              "<table border=\"1\" class=\"dataframe\">\n",
              "  <thead>\n",
              "    <tr style=\"text-align: right;\">\n",
              "      <th></th>\n",
              "      <th>deep_sleep</th>\n",
              "      <th>wakeup_at_hr</th>\n",
              "      <th>weekday</th>\n",
              "    </tr>\n",
              "    <tr>\n",
              "      <th>date</th>\n",
              "      <th></th>\n",
              "      <th></th>\n",
              "      <th></th>\n",
              "    </tr>\n",
              "  </thead>\n",
              "  <tbody>\n",
              "    <tr>\n",
              "      <th>23rd August</th>\n",
              "      <td>48</td>\n",
              "      <td>4.833</td>\n",
              "      <td>weekstart</td>\n",
              "    </tr>\n",
              "    <tr>\n",
              "      <th>24th August</th>\n",
              "      <td>48</td>\n",
              "      <td>12.383</td>\n",
              "      <td>weekstart</td>\n",
              "    </tr>\n",
              "    <tr>\n",
              "      <th>25th August</th>\n",
              "      <td>77</td>\n",
              "      <td>5.800</td>\n",
              "      <td>weekmid</td>\n",
              "    </tr>\n",
              "    <tr>\n",
              "      <th>26th August</th>\n",
              "      <td>48</td>\n",
              "      <td>12.883</td>\n",
              "      <td>weekmid</td>\n",
              "    </tr>\n",
              "    <tr>\n",
              "      <th>27th August</th>\n",
              "      <td>10</td>\n",
              "      <td>1.633</td>\n",
              "      <td>weekend</td>\n",
              "    </tr>\n",
              "  </tbody>\n",
              "</table>\n",
              "</div>"
            ],
            "text/plain": [
              "             deep_sleep  wakeup_at_hr    weekday\n",
              "date                                            \n",
              "23rd August          48         4.833  weekstart\n",
              "24th August          48        12.383  weekstart\n",
              "25th August          77         5.800    weekmid\n",
              "26th August          48        12.883    weekmid\n",
              "27th August          10         1.633    weekend"
            ]
          },
          "metadata": {
            "tags": []
          },
          "execution_count": 82
        }
      ]
    },
    {
      "cell_type": "markdown",
      "metadata": {
        "id": "z73kc4z5lVpR",
        "colab_type": "text"
      },
      "source": [
        "I will One Hot Encode manually because it's more straightforward"
      ]
    },
    {
      "cell_type": "code",
      "metadata": {
        "id": "wjG8Gc1nlNwo",
        "colab_type": "code",
        "colab": {}
      },
      "source": [
        "#One Hot Encoding\n",
        "X['is_weekstart'] = (X.weekday == 'weekstart').astype(int)\n",
        "X['is_weekmid'] = (X.weekday == 'weekmid').astype(int)\n",
        "X['is_weekend'] = (X.weekday == 'weekend').astype(int)\n",
        "\n",
        "X = X.drop('weekday', axis=1)"
      ],
      "execution_count": null,
      "outputs": []
    },
    {
      "cell_type": "code",
      "metadata": {
        "id": "l9Xj13GiBDhE",
        "colab_type": "code",
        "colab": {
          "base_uri": "https://localhost:8080/",
          "height": 235
        },
        "outputId": "57c9a1ad-7212-46ba-e50a-249bea2cdce6"
      },
      "source": [
        "X.head()"
      ],
      "execution_count": null,
      "outputs": [
        {
          "output_type": "execute_result",
          "data": {
            "text/html": [
              "<div>\n",
              "<style scoped>\n",
              "    .dataframe tbody tr th:only-of-type {\n",
              "        vertical-align: middle;\n",
              "    }\n",
              "\n",
              "    .dataframe tbody tr th {\n",
              "        vertical-align: top;\n",
              "    }\n",
              "\n",
              "    .dataframe thead th {\n",
              "        text-align: right;\n",
              "    }\n",
              "</style>\n",
              "<table border=\"1\" class=\"dataframe\">\n",
              "  <thead>\n",
              "    <tr style=\"text-align: right;\">\n",
              "      <th></th>\n",
              "      <th>deep_sleep</th>\n",
              "      <th>wakeup_at_hr</th>\n",
              "      <th>is_weekstart</th>\n",
              "      <th>is_weekmid</th>\n",
              "      <th>is_weekend</th>\n",
              "    </tr>\n",
              "    <tr>\n",
              "      <th>date</th>\n",
              "      <th></th>\n",
              "      <th></th>\n",
              "      <th></th>\n",
              "      <th></th>\n",
              "      <th></th>\n",
              "    </tr>\n",
              "  </thead>\n",
              "  <tbody>\n",
              "    <tr>\n",
              "      <th>23rd August</th>\n",
              "      <td>48</td>\n",
              "      <td>4.833</td>\n",
              "      <td>1</td>\n",
              "      <td>0.0</td>\n",
              "      <td>0.0</td>\n",
              "    </tr>\n",
              "    <tr>\n",
              "      <th>24th August</th>\n",
              "      <td>48</td>\n",
              "      <td>12.383</td>\n",
              "      <td>1</td>\n",
              "      <td>0.0</td>\n",
              "      <td>0.0</td>\n",
              "    </tr>\n",
              "    <tr>\n",
              "      <th>25th August</th>\n",
              "      <td>77</td>\n",
              "      <td>5.800</td>\n",
              "      <td>0</td>\n",
              "      <td>1.0</td>\n",
              "      <td>0.0</td>\n",
              "    </tr>\n",
              "    <tr>\n",
              "      <th>26th August</th>\n",
              "      <td>48</td>\n",
              "      <td>12.883</td>\n",
              "      <td>0</td>\n",
              "      <td>1.0</td>\n",
              "      <td>0.0</td>\n",
              "    </tr>\n",
              "    <tr>\n",
              "      <th>27th August</th>\n",
              "      <td>10</td>\n",
              "      <td>1.633</td>\n",
              "      <td>0</td>\n",
              "      <td>0.0</td>\n",
              "      <td>1.0</td>\n",
              "    </tr>\n",
              "  </tbody>\n",
              "</table>\n",
              "</div>"
            ],
            "text/plain": [
              "             deep_sleep  wakeup_at_hr  is_weekstart  is_weekmid  is_weekend\n",
              "date                                                                       \n",
              "23rd August          48         4.833             1         0.0         0.0\n",
              "24th August          48        12.383             1         0.0         0.0\n",
              "25th August          77         5.800             0         1.0         0.0\n",
              "26th August          48        12.883             0         1.0         0.0\n",
              "27th August          10         1.633             0         0.0         1.0"
            ]
          },
          "metadata": {
            "tags": []
          },
          "execution_count": 76
        }
      ]
    },
    {
      "cell_type": "code",
      "metadata": {
        "id": "m3K-3gOTBE0w",
        "colab_type": "code",
        "colab": {
          "base_uri": "https://localhost:8080/",
          "height": 235
        },
        "outputId": "bbde489c-16fc-4b46-ce69-09a74e019665"
      },
      "source": [
        "Y.head()"
      ],
      "execution_count": null,
      "outputs": [
        {
          "output_type": "execute_result",
          "data": {
            "text/html": [
              "<div>\n",
              "<style scoped>\n",
              "    .dataframe tbody tr th:only-of-type {\n",
              "        vertical-align: middle;\n",
              "    }\n",
              "\n",
              "    .dataframe tbody tr th {\n",
              "        vertical-align: top;\n",
              "    }\n",
              "\n",
              "    .dataframe thead th {\n",
              "        text-align: right;\n",
              "    }\n",
              "</style>\n",
              "<table border=\"1\" class=\"dataframe\">\n",
              "  <thead>\n",
              "    <tr style=\"text-align: right;\">\n",
              "      <th></th>\n",
              "      <th>total_code_time</th>\n",
              "    </tr>\n",
              "    <tr>\n",
              "      <th>date</th>\n",
              "      <th></th>\n",
              "    </tr>\n",
              "  </thead>\n",
              "  <tbody>\n",
              "    <tr>\n",
              "      <th>1st September</th>\n",
              "      <td>7.25</td>\n",
              "    </tr>\n",
              "    <tr>\n",
              "      <th>23rd August</th>\n",
              "      <td>7.25</td>\n",
              "    </tr>\n",
              "    <tr>\n",
              "      <th>24th August</th>\n",
              "      <td>9.25</td>\n",
              "    </tr>\n",
              "    <tr>\n",
              "      <th>25th August</th>\n",
              "      <td>5.50</td>\n",
              "    </tr>\n",
              "    <tr>\n",
              "      <th>26th August</th>\n",
              "      <td>9.00</td>\n",
              "    </tr>\n",
              "  </tbody>\n",
              "</table>\n",
              "</div>"
            ],
            "text/plain": [
              "               total_code_time\n",
              "date                          \n",
              "1st September             7.25\n",
              "23rd August               7.25\n",
              "24th August               9.25\n",
              "25th August               5.50\n",
              "26th August               9.00"
            ]
          },
          "metadata": {
            "tags": []
          },
          "execution_count": 13
        }
      ]
    },
    {
      "cell_type": "code",
      "metadata": {
        "id": "3QTFJ73nBGMV",
        "colab_type": "code",
        "colab": {}
      },
      "source": [
        "SAVE_PATH = './100D Data/Model Data'\n",
        "X.to_csv(os.path.join(SAVE_PATH, 'X'))\n",
        "Y.to_csv(os.path.join(SAVE_PATH, 'Y'))"
      ],
      "execution_count": null,
      "outputs": []
    },
    {
      "cell_type": "code",
      "metadata": {
        "id": "zqFQioDLqd7D",
        "colab_type": "code",
        "colab": {}
      },
      "source": [
        ""
      ],
      "execution_count": null,
      "outputs": []
    },
    {
      "cell_type": "code",
      "metadata": {
        "id": "B0zxjhi4BxL0",
        "colab_type": "code",
        "colab": {
          "base_uri": "https://localhost:8080/",
          "height": 315
        },
        "outputId": "09a6ac2a-3745-471b-ede1-9d2d8215d31e"
      },
      "source": [
        "#TODO : Add this in exploration\n",
        "sns.distplot(df_code['duration(hr)'])"
      ],
      "execution_count": null,
      "outputs": [
        {
          "output_type": "execute_result",
          "data": {
            "text/plain": [
              "<matplotlib.axes._subplots.AxesSubplot at 0x7f74ba131cc0>"
            ]
          },
          "metadata": {
            "tags": []
          },
          "execution_count": 84
        },
        {
          "output_type": "display_data",
          "data": {
            "image/png": "[encoded data removed]",
            "text/plain": [
              "<Figure size 432x288 with 1 Axes>"
            ]
          },
          "metadata": {
            "tags": [],
            "needs_background": "light"
          }
        }
      ]
    },
    {
      "cell_type": "code",
      "metadata": {
        "id": "ubQUoJoxDyfN",
        "colab_type": "code",
        "colab": {
          "base_uri": "https://localhost:8080/",
          "height": 670
        },
        "outputId": "8483a446-da29-4fb7-8f44-3e039e8d846a"
      },
      "source": [
        "#TODO: Why normal distribution/\n",
        "from scipy import stats\n",
        "import numpy as np\n",
        "from scipy.stats import norm, skew #for some statistics\n",
        "sns.distplot(df_code['duration(hr)'] , fit=norm)\n",
        "\n",
        "# Get the fitted parameters used by the function\n",
        "(mu, sigma) = norm.fit(df_code['duration(hr)'].dropna())\n",
        "print( '\\n mu = {:.2f} and sigma = {:.2f}\\n'.format(mu, sigma))\n",
        "\n",
        "#Now plot the distribution\n",
        "plt.legend(['Normal dist. ($\\mu=$ {:.2f} and $\\sigma=$ {:.2f} )'.format(mu, sigma)],\n",
        "            loc='best')\n",
        "plt.ylabel('Frequency')\n",
        "plt.title('SalePrice distribution')\n",
        "\n",
        "#Get also the QQ-plot\n",
        "fig = plt.figure()\n",
        "res = stats.probplot(df_code['duration(hr)'], plot=plt)\n",
        "plt.show()"
      ],
      "execution_count": null,
      "outputs": [
        {
          "output_type": "stream",
          "text": [
            "\n",
            " mu = 1.06 and sigma = 0.57\n",
            "\n"
          ],
          "name": "stdout"
        },
        {
          "output_type": "display_data",
          "data": {
            "image/png": "[encoded data removed]",
            "text/plain": [
              "<Figure size 432x288 with 1 Axes>"
            ]
          },
          "metadata": {
            "tags": [],
            "needs_background": "light"
          }
        },
        {
          "output_type": "display_data",
          "data": {
            "image/png": "[encoded data removed]",
            "text/plain": [
              "<Figure size 432x288 with 1 Axes>"
            ]
          },
          "metadata": {
            "tags": [],
            "needs_background": "light"
          }
        }
      ]
    },
    {
      "cell_type": "code",
      "metadata": {
        "id": "qCjKC1z8Fd-P",
        "colab_type": "code",
        "colab": {}
      },
      "source": [
        "#TODO: Do log transformation of shit if fucked\n",
        "#TODO: Box cox transformation of highly skewed features\n",
        "#TODO: Make Model Superior (after getting eveything done) based on kaggle notebook - stacked regressoin model"
      ],
      "execution_count": null,
      "outputs": []
    },
    {
      "cell_type": "code",
      "metadata": {
        "id": "ls-_HkZNEnSs",
        "colab_type": "code",
        "colab": {}
      },
      "source": [
        "color = sns.color_palette()"
      ],
      "execution_count": null,
      "outputs": []
    },
    {
      "cell_type": "code",
      "metadata": {
        "id": "QmFwfceiFspQ",
        "colab_type": "code",
        "colab": {
          "base_uri": "https://localhost:8080/",
          "height": 348
        },
        "outputId": "c78d1db6-becf-488a-f139-37a01ce6e302"
      },
      "source": [
        "numeric_feats = df_smartwatch.dtypes[df_smartwatch.dtypes != \"object\"].index\n",
        "\n",
        "# Check the skew of all numerical features\n",
        "skewed_feats = df_smartwatch[numeric_feats].apply(lambda x: skew(x.dropna())).sort_values(ascending=False)\n",
        "print(\"\\nSkew in numerical features: \\n\")\n",
        "skewness = pd.DataFrame({'Skew' :skewed_feats})\n",
        "skewness.head(10)"
      ],
      "execution_count": null,
      "outputs": [
        {
          "output_type": "stream",
          "text": [
            "\n",
            "Skew in numerical features: \n",
            "\n"
          ],
          "name": "stdout"
        },
        {
          "output_type": "execute_result",
          "data": {
            "text/html": [
              "<div>\n",
              "<style scoped>\n",
              "    .dataframe tbody tr th:only-of-type {\n",
              "        vertical-align: middle;\n",
              "    }\n",
              "\n",
              "    .dataframe tbody tr th {\n",
              "        vertical-align: top;\n",
              "    }\n",
              "\n",
              "    .dataframe thead th {\n",
              "        text-align: right;\n",
              "    }\n",
              "</style>\n",
              "<table border=\"1\" class=\"dataframe\">\n",
              "  <thead>\n",
              "    <tr style=\"text-align: right;\">\n",
              "      <th></th>\n",
              "      <th>Skew</th>\n",
              "    </tr>\n",
              "  </thead>\n",
              "  <tbody>\n",
              "    <tr>\n",
              "      <th>steps_walked</th>\n",
              "      <td>1.682016</td>\n",
              "    </tr>\n",
              "    <tr>\n",
              "      <th>km_walked</th>\n",
              "      <td>1.619765</td>\n",
              "    </tr>\n",
              "    <tr>\n",
              "      <th>calories</th>\n",
              "      <td>1.293588</td>\n",
              "    </tr>\n",
              "    <tr>\n",
              "      <th>avg_heart_rate</th>\n",
              "      <td>0.912538</td>\n",
              "    </tr>\n",
              "    <tr>\n",
              "      <th>week</th>\n",
              "      <td>0.320867</td>\n",
              "    </tr>\n",
              "    <tr>\n",
              "      <th>deep_sleep</th>\n",
              "      <td>0.095960</td>\n",
              "    </tr>\n",
              "    <tr>\n",
              "      <th>stress</th>\n",
              "      <td>-0.234459</td>\n",
              "    </tr>\n",
              "    <tr>\n",
              "      <th>sleep_duration(hr)</th>\n",
              "      <td>-0.294812</td>\n",
              "    </tr>\n",
              "  </tbody>\n",
              "</table>\n",
              "</div>"
            ],
            "text/plain": [
              "                        Skew\n",
              "steps_walked        1.682016\n",
              "km_walked           1.619765\n",
              "calories            1.293588\n",
              "avg_heart_rate      0.912538\n",
              "week                0.320867\n",
              "deep_sleep          0.095960\n",
              "stress             -0.234459\n",
              "sleep_duration(hr) -0.294812"
            ]
          },
          "metadata": {
            "tags": []
          },
          "execution_count": 18
        }
      ]
    },
    {
      "cell_type": "markdown",
      "metadata": {
        "id": "ItUx7W_NHEQt",
        "colab_type": "text"
      },
      "source": [
        "My final features for predicting total coding time are deep_sleep and day_of_week"
      ]
    },
    {
      "cell_type": "code",
      "metadata": {
        "id": "OMaT_wwVG-Oa",
        "colab_type": "code",
        "colab": {}
      },
      "source": [
        ""
      ],
      "execution_count": null,
      "outputs": []
    }
  ]
}