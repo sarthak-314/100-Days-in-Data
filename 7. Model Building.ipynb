{
  "nbformat": 4,
  "nbformat_minor": 0,
  "metadata": {
    "colab": {
      "name": "Model Building.ipynb",
      "provenance": [],
      "mount_file_id": "1Y-EvCWjW14j0LRavv7o8EJjcCXMIJuHl",
      "authorship_tag": "ABX9TyPRkoJoYnDIWne0xGxzsEhc",
      "include_colab_link": true
    },
    "kernelspec": {
      "name": "python3",
      "display_name": "Python 3"
    }
  },
  "cells": [
    {
      "cell_type": "markdown",
      "metadata": {
        "id": "view-in-github",
        "colab_type": "text"
      },
      "source": [
        "<a href=\"https://colab.research.google.com/github/sarthak-314/100-Days-in-Data/blob/master/7.%20Model%20Building.ipynb\" target=\"_parent\"><img src=\"https://colab.research.google.com/assets/colab-badge.svg\" alt=\"Open In Colab\"/></a>"
      ]
    },
    {
      "cell_type": "markdown",
      "metadata": {
        "id": "rTYOPY58BYdn",
        "colab_type": "text"
      },
      "source": [
        "# **7. MODEL BUILDING**\n",
        "***"
      ]
    },
    {
      "cell_type": "code",
      "metadata": {
        "id": "4hH0DKrntFw5",
        "colab_type": "code",
        "colab": {
          "base_uri": "https://localhost:8080/",
          "height": 34
        },
        "outputId": "22d4a61f-3d47-4529-ab63-8fb6314c26b0"
      },
      "source": [
        "\n",
        "import pandas as pd\n",
        "import os\n",
        "import matplotlib.pyplot as plt\n",
        "import seaborn as sns\n",
        "sns.set(style='darkgrid')\n",
        "sns.set(font_scale=1.5)\n",
        "import warnings\n",
        "def ignore_warn(*args, **kwargs):\n",
        "    pass\n",
        "#TODO: Make sure there is no bracket there\n",
        "warnings.warn = ignore_warn #ignore annoying warning (from sklearn and seaborn)\n",
        "\n",
        "%cd /content/drive/My\\ Drive"
      ],
      "execution_count": null,
      "outputs": [
        {
          "output_type": "stream",
          "text": [
            "/content/drive/My Drive\n"
          ],
          "name": "stdout"
        }
      ]
    },
    {
      "cell_type": "code",
      "metadata": {
        "id": "MGvcGRWHt1pr",
        "colab_type": "code",
        "colab": {}
      },
      "source": [
        "DF_PATH = './100D Data/Final Dataframes'\n",
        "df_code = pd.read_csv(os.path.join(DF_PATH, 'df_code'))\n",
        "df_smartwatch = pd.read_csv(os.path.join(DF_PATH, 'df_smartwatch'))\n",
        "df_exercise = pd.read_csv(os.path.join(DF_PATH, 'df_exercise'))\n",
        "df_date = pd.read_csv(os.path.join(DF_PATH, 'df_date'), index_col=0)"
      ],
      "execution_count": null,
      "outputs": []
    },
    {
      "cell_type": "code",
      "metadata": {
        "id": "EjlSRhfUvGBj",
        "colab_type": "code",
        "colab": {}
      },
      "source": [
        ""
      ],
      "execution_count": null,
      "outputs": []
    }
  ]
}